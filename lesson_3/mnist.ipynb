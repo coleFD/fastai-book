{
  "cells": [
    {
      "cell_type": "code",
      "execution_count": null,
      "metadata": {
        "id": "nvI1L72rWEYt"
      },
      "outputs": [],
      "source": [
        "from google.colab import files\n",
        "\n",
        "uploaded = files.upload()"
      ]
    },
    {
      "cell_type": "code",
      "execution_count": null,
      "metadata": {
        "id": "hmqj9X2mWEYv"
      },
      "outputs": [],
      "source": [
        "import os\n",
        "import json\n",
        "from fastbook import search_images_bing, download_url\n",
        "\n",
        "if uploaded:\n",
        "  api_key = json.loads(uploaded.get('colab_keys.json')).get('AZURE_API_KEY')\n",
        "else:\n",
        "  api_key = os.environ.get(\"AZURE_API_KEY\", 'XXX')\n"
      ]
    },
    {
      "cell_type": "code",
      "source": [
        "! [ -e /content ] && pip install -Uqq fastbook\n"
      ],
      "metadata": {
        "colab": {
          "base_uri": "https://localhost:8080/"
        },
        "id": "_AuZdWi6chHE",
        "outputId": "fcc74d1c-41d7-40d6-d917-1dd68dd58738"
      },
      "execution_count": null,
      "outputs": [
        {
          "output_type": "stream",
          "name": "stdout",
          "text": [
            "\u001b[K     |████████████████████████████████| 719 kB 15.6 MB/s \n",
            "\u001b[K     |████████████████████████████████| 365 kB 46.1 MB/s \n",
            "\u001b[K     |████████████████████████████████| 1.3 MB 23.0 MB/s \n",
            "\u001b[K     |████████████████████████████████| 4.7 MB 30.8 MB/s \n",
            "\u001b[K     |████████████████████████████████| 101 kB 5.4 MB/s \n",
            "\u001b[K     |████████████████████████████████| 212 kB 33.1 MB/s \n",
            "\u001b[K     |████████████████████████████████| 141 kB 28.0 MB/s \n",
            "\u001b[K     |████████████████████████████████| 115 kB 37.6 MB/s \n",
            "\u001b[K     |████████████████████████████████| 596 kB 39.8 MB/s \n",
            "\u001b[K     |████████████████████████████████| 127 kB 61.2 MB/s \n",
            "\u001b[K     |████████████████████████████████| 6.6 MB 43.8 MB/s \n",
            "\u001b[?25h"
          ]
        }
      ]
    },
    {
      "cell_type": "code",
      "execution_count": null,
      "metadata": {
        "colab": {
          "resources": {
            "http://localhost:8080/nbextensions/google.colab/files.js": {
              "data": "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",
              "ok": true,
              "headers": [
                [
                  "content-type",
                  "application/javascript"
                ]
              ],
              "status": 200,
              "status_text": ""
            }
          },
          "base_uri": "https://localhost:8080/",
          "height": 73
        },
        "id": "tP_HSHUZcaQU",
        "outputId": "bcc98e0a-dc63-44a2-aea3-2f0b636f376f"
      },
      "outputs": [
        {
          "output_type": "display_data",
          "data": {
            "text/plain": [
              "<IPython.core.display.HTML object>"
            ],
            "text/html": [
              "\n",
              "     <input type=\"file\" id=\"files-41773fcf-8777-42ab-8a8a-c910abb8ac98\" name=\"files[]\" multiple disabled\n",
              "        style=\"border:none\" />\n",
              "     <output id=\"result-41773fcf-8777-42ab-8a8a-c910abb8ac98\">\n",
              "      Upload widget is only available when the cell has been executed in the\n",
              "      current browser session. Please rerun this cell to enable.\n",
              "      </output>\n",
              "      <script src=\"/nbextensions/google.colab/files.js\"></script> "
            ]
          },
          "metadata": {}
        },
        {
          "output_type": "stream",
          "name": "stdout",
          "text": [
            "Saving colab_keys.json to colab_keys.json\n"
          ]
        }
      ],
      "source": [
        "from google.colab import files\n",
        "\n",
        "uploaded = files.upload()"
      ]
    },
    {
      "cell_type": "code",
      "execution_count": null,
      "metadata": {
        "id": "6z4_LdL5caQW"
      },
      "outputs": [],
      "source": [
        "import os\n",
        "import json\n",
        "from fastbook import search_images_bing, download_url\n",
        "\n",
        "if uploaded:\n",
        "  api_key = json.loads(uploaded.get('colab_keys.json')).get('AZURE_API_KEY')\n",
        "else:\n",
        "  api_key = os.environ.get(\"AZURE_API_KEY\", 'XXX')\n"
      ]
    },
    {
      "cell_type": "code",
      "source": [
        "from fastai.vision.all import *\n",
        "import fastbook as fb"
      ],
      "metadata": {
        "id": "_q65pvbseQln"
      },
      "execution_count": null,
      "outputs": []
    },
    {
      "cell_type": "code",
      "source": [
        "path = fb.untar_data(fb.URLs.MNIST_SAMPLE)\n",
        "fb.Path.BASE_PATH = path"
      ],
      "metadata": {
        "colab": {
          "base_uri": "https://localhost:8080/",
          "height": 37
        },
        "id": "PYGs5L4AeIgd",
        "outputId": "65358f4f-8412-4c92-ddf8-04d44fd09638"
      },
      "execution_count": null,
      "outputs": [
        {
          "output_type": "display_data",
          "data": {
            "text/plain": [
              "<IPython.core.display.HTML object>"
            ],
            "text/html": [
              "\n",
              "<style>\n",
              "    /* Turns off some styling */\n",
              "    progress {\n",
              "        /* gets rid of default border in Firefox and Opera. */\n",
              "        border: none;\n",
              "        /* Needs to be in here for Safari polyfill so background images work as expected. */\n",
              "        background-size: auto;\n",
              "    }\n",
              "    progress:not([value]), progress:not([value])::-webkit-progress-bar {\n",
              "        background: repeating-linear-gradient(45deg, #7e7e7e, #7e7e7e 10px, #5c5c5c 10px, #5c5c5c 20px);\n",
              "    }\n",
              "    .progress-bar-interrupted, .progress-bar-interrupted::-webkit-progress-bar {\n",
              "        background: #F44336;\n",
              "    }\n",
              "</style>\n"
            ]
          },
          "metadata": {}
        },
        {
          "output_type": "display_data",
          "data": {
            "text/plain": [
              "<IPython.core.display.HTML object>"
            ],
            "text/html": [
              "\n",
              "    <div>\n",
              "      <progress value='3219456' class='' max='3214948' style='width:300px; height:20px; vertical-align: middle;'></progress>\n",
              "      100.14% [3219456/3214948 00:00&lt;00:00]\n",
              "    </div>\n",
              "    "
            ]
          },
          "metadata": {}
        }
      ]
    },
    {
      "cell_type": "code",
      "source": [
        "path.ls()"
      ],
      "metadata": {
        "colab": {
          "base_uri": "https://localhost:8080/"
        },
        "id": "vWGsa_Pkeqhv",
        "outputId": "f3523ff5-9fe8-46d7-efca-aca867293957"
      },
      "execution_count": null,
      "outputs": [
        {
          "output_type": "execute_result",
          "data": {
            "text/plain": [
              "(#3) [Path('valid'),Path('train'),Path('labels.csv')]"
            ]
          },
          "metadata": {},
          "execution_count": 7
        }
      ]
    },
    {
      "cell_type": "code",
      "source": [
        "(path/'train').ls()"
      ],
      "metadata": {
        "colab": {
          "base_uri": "https://localhost:8080/"
        },
        "id": "xuuTSEe3e-Na",
        "outputId": "0c8e471e-be96-4202-88e2-ac945b828da0"
      },
      "execution_count": null,
      "outputs": [
        {
          "output_type": "execute_result",
          "data": {
            "text/plain": [
              "(#2) [Path('train/7'),Path('train/3')]"
            ]
          },
          "metadata": {},
          "execution_count": 8
        }
      ]
    },
    {
      "cell_type": "code",
      "source": [
        "threes = (path/'train'/'3').ls().sorted()\n",
        "sevens = (path/'train'/'7').ls().sorted()\n",
        "threes"
      ],
      "metadata": {
        "colab": {
          "base_uri": "https://localhost:8080/"
        },
        "id": "c1CqmpcbfJEs",
        "outputId": "8fc3fc4a-43c3-4570-c373-51aa765f5875"
      },
      "execution_count": null,
      "outputs": [
        {
          "output_type": "execute_result",
          "data": {
            "text/plain": [
              "(#6131) [Path('train/3/10.png'),Path('train/3/10000.png'),Path('train/3/10011.png'),Path('train/3/10031.png'),Path('train/3/10034.png'),Path('train/3/10042.png'),Path('train/3/10052.png'),Path('train/3/1007.png'),Path('train/3/10074.png'),Path('train/3/10091.png')...]"
            ]
          },
          "metadata": {},
          "execution_count": 9
        }
      ]
    },
    {
      "cell_type": "code",
      "source": [
        "im3_path = threes[1]\n",
        "im3 = fb.Image.open(im3_path)\n",
        "im3"
      ],
      "metadata": {
        "colab": {
          "base_uri": "https://localhost:8080/",
          "height": 45
        },
        "id": "2z-5onM6fOHe",
        "outputId": "ae6b8f2f-1506-456a-a031-8770b56849ef"
      },
      "execution_count": null,
      "outputs": [
        {
          "output_type": "execute_result",
          "data": {
            "text/plain": [
              "<PIL.PngImagePlugin.PngImageFile image mode=L size=28x28>"
            ],
            "image/png": "[encoded data removed]"
          },
          "metadata": {},
          "execution_count": 10
        }
      ]
    },
    {
      "cell_type": "code",
      "source": [
        "fb.array(im3)[4:10,4:10]"
      ],
      "metadata": {
        "colab": {
          "base_uri": "https://localhost:8080/"
        },
        "id": "KO2b6V6gfXJb",
        "outputId": "a90fa8e3-b4b5-457d-d5c5-554e27c4784f"
      },
      "execution_count": null,
      "outputs": [
        {
          "output_type": "execute_result",
          "data": {
            "text/plain": [
              "array([[  0,   0,   0,   0,   0,   0],\n",
              "       [  0,   0,   0,   0,   0,  29],\n",
              "       [  0,   0,   0,  48, 166, 224],\n",
              "       [  0,  93, 244, 249, 253, 187],\n",
              "       [  0, 107, 253, 253, 230,  48],\n",
              "       [  0,   3,  20,  20,  15,   0]], dtype=uint8)"
            ]
          },
          "metadata": {},
          "execution_count": 11
        }
      ]
    },
    {
      "cell_type": "code",
      "source": [
        "fb.tensor(im3)[4:10,4:10]"
      ],
      "metadata": {
        "colab": {
          "base_uri": "https://localhost:8080/"
        },
        "id": "71IOvluOfqtD",
        "outputId": "7b5afefa-7f4d-4e2f-af83-e970de4881f8"
      },
      "execution_count": null,
      "outputs": [
        {
          "output_type": "execute_result",
          "data": {
            "text/plain": [
              "tensor([[  0,   0,   0,   0,   0,   0],\n",
              "        [  0,   0,   0,   0,   0,  29],\n",
              "        [  0,   0,   0,  48, 166, 224],\n",
              "        [  0,  93, 244, 249, 253, 187],\n",
              "        [  0, 107, 253, 253, 230,  48],\n",
              "        [  0,   3,  20,  20,  15,   0]], dtype=torch.uint8)"
            ]
          },
          "metadata": {},
          "execution_count": 12
        }
      ]
    },
    {
      "cell_type": "code",
      "source": [
        "im3_t = fb.tensor(im3)\n",
        "df = fb.pd.DataFrame(im3_t[4:15,4:22])\n",
        "df.style.set_properties(**{'font-size':'6pt'}).background_gradient('Greys')"
      ],
      "metadata": {
        "colab": {
          "base_uri": "https://localhost:8080/",
          "height": 394
        },
        "id": "eUkmjABtf0cJ",
        "outputId": "98ea4e8d-7f57-4750-bc17-412da140eeb1"
      },
      "execution_count": null,
      "outputs": [
        {
          "output_type": "execute_result",
          "data": {
            "text/plain": [
              "<pandas.io.formats.style.Styler at 0x7f53bebf3b90>"
            ],
            "text/html": [
              "<style type=\"text/css\">\n",
              "#T_f02ee_row0_col0, #T_f02ee_row0_col1, #T_f02ee_row0_col2, #T_f02ee_row0_col3, #T_f02ee_row0_col4, #T_f02ee_row0_col5, #T_f02ee_row0_col6, #T_f02ee_row0_col7, #T_f02ee_row0_col8, #T_f02ee_row0_col9, #T_f02ee_row0_col10, #T_f02ee_row0_col11, #T_f02ee_row0_col12, #T_f02ee_row0_col13, #T_f02ee_row0_col14, #T_f02ee_row0_col15, #T_f02ee_row0_col16, #T_f02ee_row0_col17, #T_f02ee_row1_col0, #T_f02ee_row1_col1, #T_f02ee_row1_col2, #T_f02ee_row1_col3, #T_f02ee_row1_col4, #T_f02ee_row1_col15, #T_f02ee_row1_col16, #T_f02ee_row1_col17, #T_f02ee_row2_col0, #T_f02ee_row2_col1, #T_f02ee_row2_col2, #T_f02ee_row2_col15, #T_f02ee_row2_col16, #T_f02ee_row2_col17, #T_f02ee_row3_col0, #T_f02ee_row3_col15, #T_f02ee_row3_col16, #T_f02ee_row3_col17, #T_f02ee_row4_col0, #T_f02ee_row4_col6, #T_f02ee_row4_col7, #T_f02ee_row4_col8, #T_f02ee_row4_col9, #T_f02ee_row4_col10, #T_f02ee_row4_col15, #T_f02ee_row4_col16, #T_f02ee_row4_col17, #T_f02ee_row5_col0, #T_f02ee_row5_col5, #T_f02ee_row5_col6, #T_f02ee_row5_col7, #T_f02ee_row5_col8, #T_f02ee_row5_col9, #T_f02ee_row5_col15, #T_f02ee_row5_col16, #T_f02ee_row5_col17, #T_f02ee_row6_col0, #T_f02ee_row6_col1, #T_f02ee_row6_col2, #T_f02ee_row6_col3, #T_f02ee_row6_col4, #T_f02ee_row6_col5, #T_f02ee_row6_col6, #T_f02ee_row6_col7, #T_f02ee_row6_col8, #T_f02ee_row6_col9, #T_f02ee_row6_col14, #T_f02ee_row6_col15, #T_f02ee_row6_col16, #T_f02ee_row6_col17, #T_f02ee_row7_col0, #T_f02ee_row7_col1, #T_f02ee_row7_col2, #T_f02ee_row7_col3, #T_f02ee_row7_col4, #T_f02ee_row7_col5, #T_f02ee_row7_col6, #T_f02ee_row7_col13, #T_f02ee_row7_col14, #T_f02ee_row7_col15, #T_f02ee_row7_col16, #T_f02ee_row7_col17, #T_f02ee_row8_col0, #T_f02ee_row8_col1, #T_f02ee_row8_col2, #T_f02ee_row8_col3, #T_f02ee_row8_col4, #T_f02ee_row8_col13, #T_f02ee_row8_col14, #T_f02ee_row8_col15, #T_f02ee_row8_col16, #T_f02ee_row8_col17, #T_f02ee_row9_col0, #T_f02ee_row9_col1, #T_f02ee_row9_col2, #T_f02ee_row9_col3, #T_f02ee_row9_col4, #T_f02ee_row9_col16, #T_f02ee_row9_col17, #T_f02ee_row10_col0, #T_f02ee_row10_col1, #T_f02ee_row10_col2, #T_f02ee_row10_col3, #T_f02ee_row10_col4, #T_f02ee_row10_col5, #T_f02ee_row10_col6, #T_f02ee_row10_col17 {\n",
              "  font-size: 6pt;\n",
              "  background-color: #ffffff;\n",
              "  color: #000000;\n",
              "}\n",
              "#T_f02ee_row1_col5 {\n",
              "  font-size: 6pt;\n",
              "  background-color: #efefef;\n",
              "  color: #000000;\n",
              "}\n",
              "#T_f02ee_row1_col6, #T_f02ee_row1_col13 {\n",
              "  font-size: 6pt;\n",
              "  background-color: #7c7c7c;\n",
              "  color: #f1f1f1;\n",
              "}\n",
              "#T_f02ee_row1_col7 {\n",
              "  font-size: 6pt;\n",
              "  background-color: #4a4a4a;\n",
              "  color: #f1f1f1;\n",
              "}\n",
              "#T_f02ee_row1_col8, #T_f02ee_row1_col9, #T_f02ee_row1_col10, #T_f02ee_row2_col5, #T_f02ee_row2_col6, #T_f02ee_row2_col7, #T_f02ee_row2_col11, #T_f02ee_row2_col12, #T_f02ee_row2_col13, #T_f02ee_row3_col4, #T_f02ee_row3_col12, #T_f02ee_row3_col13, #T_f02ee_row4_col1, #T_f02ee_row4_col2, #T_f02ee_row4_col3, #T_f02ee_row4_col12, #T_f02ee_row4_col13, #T_f02ee_row5_col12, #T_f02ee_row6_col11, #T_f02ee_row9_col11, #T_f02ee_row10_col11, #T_f02ee_row10_col12, #T_f02ee_row10_col13, #T_f02ee_row10_col14, #T_f02ee_row10_col15, #T_f02ee_row10_col16 {\n",
              "  font-size: 6pt;\n",
              "  background-color: #000000;\n",
              "  color: #f1f1f1;\n",
              "}\n",
              "#T_f02ee_row1_col11 {\n",
              "  font-size: 6pt;\n",
              "  background-color: #606060;\n",
              "  color: #f1f1f1;\n",
              "}\n",
              "#T_f02ee_row1_col12 {\n",
              "  font-size: 6pt;\n",
              "  background-color: #4d4d4d;\n",
              "  color: #f1f1f1;\n",
              "}\n",
              "#T_f02ee_row1_col14 {\n",
              "  font-size: 6pt;\n",
              "  background-color: #bbbbbb;\n",
              "  color: #000000;\n",
              "}\n",
              "#T_f02ee_row2_col3 {\n",
              "  font-size: 6pt;\n",
              "  background-color: #e4e4e4;\n",
              "  color: #000000;\n",
              "}\n",
              "#T_f02ee_row2_col4, #T_f02ee_row8_col6 {\n",
              "  font-size: 6pt;\n",
              "  background-color: #6b6b6b;\n",
              "  color: #f1f1f1;\n",
              "}\n",
              "#T_f02ee_row2_col8, #T_f02ee_row2_col14, #T_f02ee_row3_col14 {\n",
              "  font-size: 6pt;\n",
              "  background-color: #171717;\n",
              "  color: #f1f1f1;\n",
              "}\n",
              "#T_f02ee_row2_col9, #T_f02ee_row3_col11 {\n",
              "  font-size: 6pt;\n",
              "  background-color: #4b4b4b;\n",
              "  color: #f1f1f1;\n",
              "}\n",
              "#T_f02ee_row2_col10, #T_f02ee_row7_col10, #T_f02ee_row8_col8, #T_f02ee_row8_col10, #T_f02ee_row9_col8, #T_f02ee_row9_col10 {\n",
              "  font-size: 6pt;\n",
              "  background-color: #010101;\n",
              "  color: #f1f1f1;\n",
              "}\n",
              "#T_f02ee_row3_col1 {\n",
              "  font-size: 6pt;\n",
              "  background-color: #272727;\n",
              "  color: #f1f1f1;\n",
              "}\n",
              "#T_f02ee_row3_col2 {\n",
              "  font-size: 6pt;\n",
              "  background-color: #0a0a0a;\n",
              "  color: #f1f1f1;\n",
              "}\n",
              "#T_f02ee_row3_col3 {\n",
              "  font-size: 6pt;\n",
              "  background-color: #050505;\n",
              "  color: #f1f1f1;\n",
              "}\n",
              "#T_f02ee_row3_col5 {\n",
              "  font-size: 6pt;\n",
              "  background-color: #333333;\n",
              "  color: #f1f1f1;\n",
              "}\n",
              "#T_f02ee_row3_col6 {\n",
              "  font-size: 6pt;\n",
              "  background-color: #e6e6e6;\n",
              "  color: #000000;\n",
              "}\n",
              "#T_f02ee_row3_col7, #T_f02ee_row3_col10 {\n",
              "  font-size: 6pt;\n",
              "  background-color: #fafafa;\n",
              "  color: #000000;\n",
              "}\n",
              "#T_f02ee_row3_col8 {\n",
              "  font-size: 6pt;\n",
              "  background-color: #fbfbfb;\n",
              "  color: #000000;\n",
              "}\n",
              "#T_f02ee_row3_col9 {\n",
              "  font-size: 6pt;\n",
              "  background-color: #fdfdfd;\n",
              "  color: #000000;\n",
              "}\n",
              "#T_f02ee_row4_col4 {\n",
              "  font-size: 6pt;\n",
              "  background-color: #1b1b1b;\n",
              "  color: #f1f1f1;\n",
              "}\n",
              "#T_f02ee_row4_col5 {\n",
              "  font-size: 6pt;\n",
              "  background-color: #e0e0e0;\n",
              "  color: #000000;\n",
              "}\n",
              "#T_f02ee_row4_col11 {\n",
              "  font-size: 6pt;\n",
              "  background-color: #4e4e4e;\n",
              "  color: #f1f1f1;\n",
              "}\n",
              "#T_f02ee_row4_col14 {\n",
              "  font-size: 6pt;\n",
              "  background-color: #767676;\n",
              "  color: #f1f1f1;\n",
              "}\n",
              "#T_f02ee_row5_col1 {\n",
              "  font-size: 6pt;\n",
              "  background-color: #fcfcfc;\n",
              "  color: #000000;\n",
              "}\n",
              "#T_f02ee_row5_col2, #T_f02ee_row5_col3 {\n",
              "  font-size: 6pt;\n",
              "  background-color: #f6f6f6;\n",
              "  color: #000000;\n",
              "}\n",
              "#T_f02ee_row5_col4, #T_f02ee_row7_col7 {\n",
              "  font-size: 6pt;\n",
              "  background-color: #f8f8f8;\n",
              "  color: #000000;\n",
              "}\n",
              "#T_f02ee_row5_col10, #T_f02ee_row10_col7 {\n",
              "  font-size: 6pt;\n",
              "  background-color: #e8e8e8;\n",
              "  color: #000000;\n",
              "}\n",
              "#T_f02ee_row5_col11 {\n",
              "  font-size: 6pt;\n",
              "  background-color: #222222;\n",
              "  color: #f1f1f1;\n",
              "}\n",
              "#T_f02ee_row5_col13, #T_f02ee_row6_col12 {\n",
              "  font-size: 6pt;\n",
              "  background-color: #090909;\n",
              "  color: #f1f1f1;\n",
              "}\n",
              "#T_f02ee_row5_col14 {\n",
              "  font-size: 6pt;\n",
              "  background-color: #d0d0d0;\n",
              "  color: #000000;\n",
              "}\n",
              "#T_f02ee_row6_col10, #T_f02ee_row7_col11, #T_f02ee_row9_col6 {\n",
              "  font-size: 6pt;\n",
              "  background-color: #060606;\n",
              "  color: #f1f1f1;\n",
              "}\n",
              "#T_f02ee_row6_col13 {\n",
              "  font-size: 6pt;\n",
              "  background-color: #979797;\n",
              "  color: #f1f1f1;\n",
              "}\n",
              "#T_f02ee_row7_col8 {\n",
              "  font-size: 6pt;\n",
              "  background-color: #b6b6b6;\n",
              "  color: #000000;\n",
              "}\n",
              "#T_f02ee_row7_col9 {\n",
              "  font-size: 6pt;\n",
              "  background-color: #252525;\n",
              "  color: #f1f1f1;\n",
              "}\n",
              "#T_f02ee_row7_col12 {\n",
              "  font-size: 6pt;\n",
              "  background-color: #999999;\n",
              "  color: #f1f1f1;\n",
              "}\n",
              "#T_f02ee_row8_col5 {\n",
              "  font-size: 6pt;\n",
              "  background-color: #f9f9f9;\n",
              "  color: #000000;\n",
              "}\n",
              "#T_f02ee_row8_col7 {\n",
              "  font-size: 6pt;\n",
              "  background-color: #101010;\n",
              "  color: #f1f1f1;\n",
              "}\n",
              "#T_f02ee_row8_col9, #T_f02ee_row9_col9 {\n",
              "  font-size: 6pt;\n",
              "  background-color: #020202;\n",
              "  color: #f1f1f1;\n",
              "}\n",
              "#T_f02ee_row8_col11 {\n",
              "  font-size: 6pt;\n",
              "  background-color: #545454;\n",
              "  color: #f1f1f1;\n",
              "}\n",
              "#T_f02ee_row8_col12 {\n",
              "  font-size: 6pt;\n",
              "  background-color: #f1f1f1;\n",
              "  color: #000000;\n",
              "}\n",
              "#T_f02ee_row9_col5 {\n",
              "  font-size: 6pt;\n",
              "  background-color: #f7f7f7;\n",
              "  color: #000000;\n",
              "}\n",
              "#T_f02ee_row9_col7 {\n",
              "  font-size: 6pt;\n",
              "  background-color: #030303;\n",
              "  color: #f1f1f1;\n",
              "}\n",
              "#T_f02ee_row9_col12 {\n",
              "  font-size: 6pt;\n",
              "  background-color: #181818;\n",
              "  color: #f1f1f1;\n",
              "}\n",
              "#T_f02ee_row9_col13 {\n",
              "  font-size: 6pt;\n",
              "  background-color: #303030;\n",
              "  color: #f1f1f1;\n",
              "}\n",
              "#T_f02ee_row9_col14 {\n",
              "  font-size: 6pt;\n",
              "  background-color: #a9a9a9;\n",
              "  color: #f1f1f1;\n",
              "}\n",
              "#T_f02ee_row9_col15 {\n",
              "  font-size: 6pt;\n",
              "  background-color: #fefefe;\n",
              "  color: #000000;\n",
              "}\n",
              "#T_f02ee_row10_col8, #T_f02ee_row10_col9 {\n",
              "  font-size: 6pt;\n",
              "  background-color: #bababa;\n",
              "  color: #000000;\n",
              "}\n",
              "#T_f02ee_row10_col10 {\n",
              "  font-size: 6pt;\n",
              "  background-color: #393939;\n",
              "  color: #f1f1f1;\n",
              "}\n",
              "</style>\n",
              "<table id=\"T_f02ee_\" class=\"dataframe\">\n",
              "  <thead>\n",
              "    <tr>\n",
              "      <th class=\"blank level0\" >&nbsp;</th>\n",
              "      <th class=\"col_heading level0 col0\" >0</th>\n",
              "      <th class=\"col_heading level0 col1\" >1</th>\n",
              "      <th class=\"col_heading level0 col2\" >2</th>\n",
              "      <th class=\"col_heading level0 col3\" >3</th>\n",
              "      <th class=\"col_heading level0 col4\" >4</th>\n",
              "      <th class=\"col_heading level0 col5\" >5</th>\n",
              "      <th class=\"col_heading level0 col6\" >6</th>\n",
              "      <th class=\"col_heading level0 col7\" >7</th>\n",
              "      <th class=\"col_heading level0 col8\" >8</th>\n",
              "      <th class=\"col_heading level0 col9\" >9</th>\n",
              "      <th class=\"col_heading level0 col10\" >10</th>\n",
              "      <th class=\"col_heading level0 col11\" >11</th>\n",
              "      <th class=\"col_heading level0 col12\" >12</th>\n",
              "      <th class=\"col_heading level0 col13\" >13</th>\n",
              "      <th class=\"col_heading level0 col14\" >14</th>\n",
              "      <th class=\"col_heading level0 col15\" >15</th>\n",
              "      <th class=\"col_heading level0 col16\" >16</th>\n",
              "      <th class=\"col_heading level0 col17\" >17</th>\n",
              "    </tr>\n",
              "  </thead>\n",
              "  <tbody>\n",
              "    <tr>\n",
              "      <th id=\"T_f02ee_level0_row0\" class=\"row_heading level0 row0\" >0</th>\n",
              "      <td id=\"T_f02ee_row0_col0\" class=\"data row0 col0\" >0</td>\n",
              "      <td id=\"T_f02ee_row0_col1\" class=\"data row0 col1\" >0</td>\n",
              "      <td id=\"T_f02ee_row0_col2\" class=\"data row0 col2\" >0</td>\n",
              "      <td id=\"T_f02ee_row0_col3\" class=\"data row0 col3\" >0</td>\n",
              "      <td id=\"T_f02ee_row0_col4\" class=\"data row0 col4\" >0</td>\n",
              "      <td id=\"T_f02ee_row0_col5\" class=\"data row0 col5\" >0</td>\n",
              "      <td id=\"T_f02ee_row0_col6\" class=\"data row0 col6\" >0</td>\n",
              "      <td id=\"T_f02ee_row0_col7\" class=\"data row0 col7\" >0</td>\n",
              "      <td id=\"T_f02ee_row0_col8\" class=\"data row0 col8\" >0</td>\n",
              "      <td id=\"T_f02ee_row0_col9\" class=\"data row0 col9\" >0</td>\n",
              "      <td id=\"T_f02ee_row0_col10\" class=\"data row0 col10\" >0</td>\n",
              "      <td id=\"T_f02ee_row0_col11\" class=\"data row0 col11\" >0</td>\n",
              "      <td id=\"T_f02ee_row0_col12\" class=\"data row0 col12\" >0</td>\n",
              "      <td id=\"T_f02ee_row0_col13\" class=\"data row0 col13\" >0</td>\n",
              "      <td id=\"T_f02ee_row0_col14\" class=\"data row0 col14\" >0</td>\n",
              "      <td id=\"T_f02ee_row0_col15\" class=\"data row0 col15\" >0</td>\n",
              "      <td id=\"T_f02ee_row0_col16\" class=\"data row0 col16\" >0</td>\n",
              "      <td id=\"T_f02ee_row0_col17\" class=\"data row0 col17\" >0</td>\n",
              "    </tr>\n",
              "    <tr>\n",
              "      <th id=\"T_f02ee_level0_row1\" class=\"row_heading level0 row1\" >1</th>\n",
              "      <td id=\"T_f02ee_row1_col0\" class=\"data row1 col0\" >0</td>\n",
              "      <td id=\"T_f02ee_row1_col1\" class=\"data row1 col1\" >0</td>\n",
              "      <td id=\"T_f02ee_row1_col2\" class=\"data row1 col2\" >0</td>\n",
              "      <td id=\"T_f02ee_row1_col3\" class=\"data row1 col3\" >0</td>\n",
              "      <td id=\"T_f02ee_row1_col4\" class=\"data row1 col4\" >0</td>\n",
              "      <td id=\"T_f02ee_row1_col5\" class=\"data row1 col5\" >29</td>\n",
              "      <td id=\"T_f02ee_row1_col6\" class=\"data row1 col6\" >150</td>\n",
              "      <td id=\"T_f02ee_row1_col7\" class=\"data row1 col7\" >195</td>\n",
              "      <td id=\"T_f02ee_row1_col8\" class=\"data row1 col8\" >254</td>\n",
              "      <td id=\"T_f02ee_row1_col9\" class=\"data row1 col9\" >255</td>\n",
              "      <td id=\"T_f02ee_row1_col10\" class=\"data row1 col10\" >254</td>\n",
              "      <td id=\"T_f02ee_row1_col11\" class=\"data row1 col11\" >176</td>\n",
              "      <td id=\"T_f02ee_row1_col12\" class=\"data row1 col12\" >193</td>\n",
              "      <td id=\"T_f02ee_row1_col13\" class=\"data row1 col13\" >150</td>\n",
              "      <td id=\"T_f02ee_row1_col14\" class=\"data row1 col14\" >96</td>\n",
              "      <td id=\"T_f02ee_row1_col15\" class=\"data row1 col15\" >0</td>\n",
              "      <td id=\"T_f02ee_row1_col16\" class=\"data row1 col16\" >0</td>\n",
              "      <td id=\"T_f02ee_row1_col17\" class=\"data row1 col17\" >0</td>\n",
              "    </tr>\n",
              "    <tr>\n",
              "      <th id=\"T_f02ee_level0_row2\" class=\"row_heading level0 row2\" >2</th>\n",
              "      <td id=\"T_f02ee_row2_col0\" class=\"data row2 col0\" >0</td>\n",
              "      <td id=\"T_f02ee_row2_col1\" class=\"data row2 col1\" >0</td>\n",
              "      <td id=\"T_f02ee_row2_col2\" class=\"data row2 col2\" >0</td>\n",
              "      <td id=\"T_f02ee_row2_col3\" class=\"data row2 col3\" >48</td>\n",
              "      <td id=\"T_f02ee_row2_col4\" class=\"data row2 col4\" >166</td>\n",
              "      <td id=\"T_f02ee_row2_col5\" class=\"data row2 col5\" >224</td>\n",
              "      <td id=\"T_f02ee_row2_col6\" class=\"data row2 col6\" >253</td>\n",
              "      <td id=\"T_f02ee_row2_col7\" class=\"data row2 col7\" >253</td>\n",
              "      <td id=\"T_f02ee_row2_col8\" class=\"data row2 col8\" >234</td>\n",
              "      <td id=\"T_f02ee_row2_col9\" class=\"data row2 col9\" >196</td>\n",
              "      <td id=\"T_f02ee_row2_col10\" class=\"data row2 col10\" >253</td>\n",
              "      <td id=\"T_f02ee_row2_col11\" class=\"data row2 col11\" >253</td>\n",
              "      <td id=\"T_f02ee_row2_col12\" class=\"data row2 col12\" >253</td>\n",
              "      <td id=\"T_f02ee_row2_col13\" class=\"data row2 col13\" >253</td>\n",
              "      <td id=\"T_f02ee_row2_col14\" class=\"data row2 col14\" >233</td>\n",
              "      <td id=\"T_f02ee_row2_col15\" class=\"data row2 col15\" >0</td>\n",
              "      <td id=\"T_f02ee_row2_col16\" class=\"data row2 col16\" >0</td>\n",
              "      <td id=\"T_f02ee_row2_col17\" class=\"data row2 col17\" >0</td>\n",
              "    </tr>\n",
              "    <tr>\n",
              "      <th id=\"T_f02ee_level0_row3\" class=\"row_heading level0 row3\" >3</th>\n",
              "      <td id=\"T_f02ee_row3_col0\" class=\"data row3 col0\" >0</td>\n",
              "      <td id=\"T_f02ee_row3_col1\" class=\"data row3 col1\" >93</td>\n",
              "      <td id=\"T_f02ee_row3_col2\" class=\"data row3 col2\" >244</td>\n",
              "      <td id=\"T_f02ee_row3_col3\" class=\"data row3 col3\" >249</td>\n",
              "      <td id=\"T_f02ee_row3_col4\" class=\"data row3 col4\" >253</td>\n",
              "      <td id=\"T_f02ee_row3_col5\" class=\"data row3 col5\" >187</td>\n",
              "      <td id=\"T_f02ee_row3_col6\" class=\"data row3 col6\" >46</td>\n",
              "      <td id=\"T_f02ee_row3_col7\" class=\"data row3 col7\" >10</td>\n",
              "      <td id=\"T_f02ee_row3_col8\" class=\"data row3 col8\" >8</td>\n",
              "      <td id=\"T_f02ee_row3_col9\" class=\"data row3 col9\" >4</td>\n",
              "      <td id=\"T_f02ee_row3_col10\" class=\"data row3 col10\" >10</td>\n",
              "      <td id=\"T_f02ee_row3_col11\" class=\"data row3 col11\" >194</td>\n",
              "      <td id=\"T_f02ee_row3_col12\" class=\"data row3 col12\" >253</td>\n",
              "      <td id=\"T_f02ee_row3_col13\" class=\"data row3 col13\" >253</td>\n",
              "      <td id=\"T_f02ee_row3_col14\" class=\"data row3 col14\" >233</td>\n",
              "      <td id=\"T_f02ee_row3_col15\" class=\"data row3 col15\" >0</td>\n",
              "      <td id=\"T_f02ee_row3_col16\" class=\"data row3 col16\" >0</td>\n",
              "      <td id=\"T_f02ee_row3_col17\" class=\"data row3 col17\" >0</td>\n",
              "    </tr>\n",
              "    <tr>\n",
              "      <th id=\"T_f02ee_level0_row4\" class=\"row_heading level0 row4\" >4</th>\n",
              "      <td id=\"T_f02ee_row4_col0\" class=\"data row4 col0\" >0</td>\n",
              "      <td id=\"T_f02ee_row4_col1\" class=\"data row4 col1\" >107</td>\n",
              "      <td id=\"T_f02ee_row4_col2\" class=\"data row4 col2\" >253</td>\n",
              "      <td id=\"T_f02ee_row4_col3\" class=\"data row4 col3\" >253</td>\n",
              "      <td id=\"T_f02ee_row4_col4\" class=\"data row4 col4\" >230</td>\n",
              "      <td id=\"T_f02ee_row4_col5\" class=\"data row4 col5\" >48</td>\n",
              "      <td id=\"T_f02ee_row4_col6\" class=\"data row4 col6\" >0</td>\n",
              "      <td id=\"T_f02ee_row4_col7\" class=\"data row4 col7\" >0</td>\n",
              "      <td id=\"T_f02ee_row4_col8\" class=\"data row4 col8\" >0</td>\n",
              "      <td id=\"T_f02ee_row4_col9\" class=\"data row4 col9\" >0</td>\n",
              "      <td id=\"T_f02ee_row4_col10\" class=\"data row4 col10\" >0</td>\n",
              "      <td id=\"T_f02ee_row4_col11\" class=\"data row4 col11\" >192</td>\n",
              "      <td id=\"T_f02ee_row4_col12\" class=\"data row4 col12\" >253</td>\n",
              "      <td id=\"T_f02ee_row4_col13\" class=\"data row4 col13\" >253</td>\n",
              "      <td id=\"T_f02ee_row4_col14\" class=\"data row4 col14\" >156</td>\n",
              "      <td id=\"T_f02ee_row4_col15\" class=\"data row4 col15\" >0</td>\n",
              "      <td id=\"T_f02ee_row4_col16\" class=\"data row4 col16\" >0</td>\n",
              "      <td id=\"T_f02ee_row4_col17\" class=\"data row4 col17\" >0</td>\n",
              "    </tr>\n",
              "    <tr>\n",
              "      <th id=\"T_f02ee_level0_row5\" class=\"row_heading level0 row5\" >5</th>\n",
              "      <td id=\"T_f02ee_row5_col0\" class=\"data row5 col0\" >0</td>\n",
              "      <td id=\"T_f02ee_row5_col1\" class=\"data row5 col1\" >3</td>\n",
              "      <td id=\"T_f02ee_row5_col2\" class=\"data row5 col2\" >20</td>\n",
              "      <td id=\"T_f02ee_row5_col3\" class=\"data row5 col3\" >20</td>\n",
              "      <td id=\"T_f02ee_row5_col4\" class=\"data row5 col4\" >15</td>\n",
              "      <td id=\"T_f02ee_row5_col5\" class=\"data row5 col5\" >0</td>\n",
              "      <td id=\"T_f02ee_row5_col6\" class=\"data row5 col6\" >0</td>\n",
              "      <td id=\"T_f02ee_row5_col7\" class=\"data row5 col7\" >0</td>\n",
              "      <td id=\"T_f02ee_row5_col8\" class=\"data row5 col8\" >0</td>\n",
              "      <td id=\"T_f02ee_row5_col9\" class=\"data row5 col9\" >0</td>\n",
              "      <td id=\"T_f02ee_row5_col10\" class=\"data row5 col10\" >43</td>\n",
              "      <td id=\"T_f02ee_row5_col11\" class=\"data row5 col11\" >224</td>\n",
              "      <td id=\"T_f02ee_row5_col12\" class=\"data row5 col12\" >253</td>\n",
              "      <td id=\"T_f02ee_row5_col13\" class=\"data row5 col13\" >245</td>\n",
              "      <td id=\"T_f02ee_row5_col14\" class=\"data row5 col14\" >74</td>\n",
              "      <td id=\"T_f02ee_row5_col15\" class=\"data row5 col15\" >0</td>\n",
              "      <td id=\"T_f02ee_row5_col16\" class=\"data row5 col16\" >0</td>\n",
              "      <td id=\"T_f02ee_row5_col17\" class=\"data row5 col17\" >0</td>\n",
              "    </tr>\n",
              "    <tr>\n",
              "      <th id=\"T_f02ee_level0_row6\" class=\"row_heading level0 row6\" >6</th>\n",
              "      <td id=\"T_f02ee_row6_col0\" class=\"data row6 col0\" >0</td>\n",
              "      <td id=\"T_f02ee_row6_col1\" class=\"data row6 col1\" >0</td>\n",
              "      <td id=\"T_f02ee_row6_col2\" class=\"data row6 col2\" >0</td>\n",
              "      <td id=\"T_f02ee_row6_col3\" class=\"data row6 col3\" >0</td>\n",
              "      <td id=\"T_f02ee_row6_col4\" class=\"data row6 col4\" >0</td>\n",
              "      <td id=\"T_f02ee_row6_col5\" class=\"data row6 col5\" >0</td>\n",
              "      <td id=\"T_f02ee_row6_col6\" class=\"data row6 col6\" >0</td>\n",
              "      <td id=\"T_f02ee_row6_col7\" class=\"data row6 col7\" >0</td>\n",
              "      <td id=\"T_f02ee_row6_col8\" class=\"data row6 col8\" >0</td>\n",
              "      <td id=\"T_f02ee_row6_col9\" class=\"data row6 col9\" >0</td>\n",
              "      <td id=\"T_f02ee_row6_col10\" class=\"data row6 col10\" >249</td>\n",
              "      <td id=\"T_f02ee_row6_col11\" class=\"data row6 col11\" >253</td>\n",
              "      <td id=\"T_f02ee_row6_col12\" class=\"data row6 col12\" >245</td>\n",
              "      <td id=\"T_f02ee_row6_col13\" class=\"data row6 col13\" >126</td>\n",
              "      <td id=\"T_f02ee_row6_col14\" class=\"data row6 col14\" >0</td>\n",
              "      <td id=\"T_f02ee_row6_col15\" class=\"data row6 col15\" >0</td>\n",
              "      <td id=\"T_f02ee_row6_col16\" class=\"data row6 col16\" >0</td>\n",
              "      <td id=\"T_f02ee_row6_col17\" class=\"data row6 col17\" >0</td>\n",
              "    </tr>\n",
              "    <tr>\n",
              "      <th id=\"T_f02ee_level0_row7\" class=\"row_heading level0 row7\" >7</th>\n",
              "      <td id=\"T_f02ee_row7_col0\" class=\"data row7 col0\" >0</td>\n",
              "      <td id=\"T_f02ee_row7_col1\" class=\"data row7 col1\" >0</td>\n",
              "      <td id=\"T_f02ee_row7_col2\" class=\"data row7 col2\" >0</td>\n",
              "      <td id=\"T_f02ee_row7_col3\" class=\"data row7 col3\" >0</td>\n",
              "      <td id=\"T_f02ee_row7_col4\" class=\"data row7 col4\" >0</td>\n",
              "      <td id=\"T_f02ee_row7_col5\" class=\"data row7 col5\" >0</td>\n",
              "      <td id=\"T_f02ee_row7_col6\" class=\"data row7 col6\" >0</td>\n",
              "      <td id=\"T_f02ee_row7_col7\" class=\"data row7 col7\" >14</td>\n",
              "      <td id=\"T_f02ee_row7_col8\" class=\"data row7 col8\" >101</td>\n",
              "      <td id=\"T_f02ee_row7_col9\" class=\"data row7 col9\" >223</td>\n",
              "      <td id=\"T_f02ee_row7_col10\" class=\"data row7 col10\" >253</td>\n",
              "      <td id=\"T_f02ee_row7_col11\" class=\"data row7 col11\" >248</td>\n",
              "      <td id=\"T_f02ee_row7_col12\" class=\"data row7 col12\" >124</td>\n",
              "      <td id=\"T_f02ee_row7_col13\" class=\"data row7 col13\" >0</td>\n",
              "      <td id=\"T_f02ee_row7_col14\" class=\"data row7 col14\" >0</td>\n",
              "      <td id=\"T_f02ee_row7_col15\" class=\"data row7 col15\" >0</td>\n",
              "      <td id=\"T_f02ee_row7_col16\" class=\"data row7 col16\" >0</td>\n",
              "      <td id=\"T_f02ee_row7_col17\" class=\"data row7 col17\" >0</td>\n",
              "    </tr>\n",
              "    <tr>\n",
              "      <th id=\"T_f02ee_level0_row8\" class=\"row_heading level0 row8\" >8</th>\n",
              "      <td id=\"T_f02ee_row8_col0\" class=\"data row8 col0\" >0</td>\n",
              "      <td id=\"T_f02ee_row8_col1\" class=\"data row8 col1\" >0</td>\n",
              "      <td id=\"T_f02ee_row8_col2\" class=\"data row8 col2\" >0</td>\n",
              "      <td id=\"T_f02ee_row8_col3\" class=\"data row8 col3\" >0</td>\n",
              "      <td id=\"T_f02ee_row8_col4\" class=\"data row8 col4\" >0</td>\n",
              "      <td id=\"T_f02ee_row8_col5\" class=\"data row8 col5\" >11</td>\n",
              "      <td id=\"T_f02ee_row8_col6\" class=\"data row8 col6\" >166</td>\n",
              "      <td id=\"T_f02ee_row8_col7\" class=\"data row8 col7\" >239</td>\n",
              "      <td id=\"T_f02ee_row8_col8\" class=\"data row8 col8\" >253</td>\n",
              "      <td id=\"T_f02ee_row8_col9\" class=\"data row8 col9\" >253</td>\n",
              "      <td id=\"T_f02ee_row8_col10\" class=\"data row8 col10\" >253</td>\n",
              "      <td id=\"T_f02ee_row8_col11\" class=\"data row8 col11\" >187</td>\n",
              "      <td id=\"T_f02ee_row8_col12\" class=\"data row8 col12\" >30</td>\n",
              "      <td id=\"T_f02ee_row8_col13\" class=\"data row8 col13\" >0</td>\n",
              "      <td id=\"T_f02ee_row8_col14\" class=\"data row8 col14\" >0</td>\n",
              "      <td id=\"T_f02ee_row8_col15\" class=\"data row8 col15\" >0</td>\n",
              "      <td id=\"T_f02ee_row8_col16\" class=\"data row8 col16\" >0</td>\n",
              "      <td id=\"T_f02ee_row8_col17\" class=\"data row8 col17\" >0</td>\n",
              "    </tr>\n",
              "    <tr>\n",
              "      <th id=\"T_f02ee_level0_row9\" class=\"row_heading level0 row9\" >9</th>\n",
              "      <td id=\"T_f02ee_row9_col0\" class=\"data row9 col0\" >0</td>\n",
              "      <td id=\"T_f02ee_row9_col1\" class=\"data row9 col1\" >0</td>\n",
              "      <td id=\"T_f02ee_row9_col2\" class=\"data row9 col2\" >0</td>\n",
              "      <td id=\"T_f02ee_row9_col3\" class=\"data row9 col3\" >0</td>\n",
              "      <td id=\"T_f02ee_row9_col4\" class=\"data row9 col4\" >0</td>\n",
              "      <td id=\"T_f02ee_row9_col5\" class=\"data row9 col5\" >16</td>\n",
              "      <td id=\"T_f02ee_row9_col6\" class=\"data row9 col6\" >248</td>\n",
              "      <td id=\"T_f02ee_row9_col7\" class=\"data row9 col7\" >250</td>\n",
              "      <td id=\"T_f02ee_row9_col8\" class=\"data row9 col8\" >253</td>\n",
              "      <td id=\"T_f02ee_row9_col9\" class=\"data row9 col9\" >253</td>\n",
              "      <td id=\"T_f02ee_row9_col10\" class=\"data row9 col10\" >253</td>\n",
              "      <td id=\"T_f02ee_row9_col11\" class=\"data row9 col11\" >253</td>\n",
              "      <td id=\"T_f02ee_row9_col12\" class=\"data row9 col12\" >232</td>\n",
              "      <td id=\"T_f02ee_row9_col13\" class=\"data row9 col13\" >213</td>\n",
              "      <td id=\"T_f02ee_row9_col14\" class=\"data row9 col14\" >111</td>\n",
              "      <td id=\"T_f02ee_row9_col15\" class=\"data row9 col15\" >2</td>\n",
              "      <td id=\"T_f02ee_row9_col16\" class=\"data row9 col16\" >0</td>\n",
              "      <td id=\"T_f02ee_row9_col17\" class=\"data row9 col17\" >0</td>\n",
              "    </tr>\n",
              "    <tr>\n",
              "      <th id=\"T_f02ee_level0_row10\" class=\"row_heading level0 row10\" >10</th>\n",
              "      <td id=\"T_f02ee_row10_col0\" class=\"data row10 col0\" >0</td>\n",
              "      <td id=\"T_f02ee_row10_col1\" class=\"data row10 col1\" >0</td>\n",
              "      <td id=\"T_f02ee_row10_col2\" class=\"data row10 col2\" >0</td>\n",
              "      <td id=\"T_f02ee_row10_col3\" class=\"data row10 col3\" >0</td>\n",
              "      <td id=\"T_f02ee_row10_col4\" class=\"data row10 col4\" >0</td>\n",
              "      <td id=\"T_f02ee_row10_col5\" class=\"data row10 col5\" >0</td>\n",
              "      <td id=\"T_f02ee_row10_col6\" class=\"data row10 col6\" >0</td>\n",
              "      <td id=\"T_f02ee_row10_col7\" class=\"data row10 col7\" >43</td>\n",
              "      <td id=\"T_f02ee_row10_col8\" class=\"data row10 col8\" >98</td>\n",
              "      <td id=\"T_f02ee_row10_col9\" class=\"data row10 col9\" >98</td>\n",
              "      <td id=\"T_f02ee_row10_col10\" class=\"data row10 col10\" >208</td>\n",
              "      <td id=\"T_f02ee_row10_col11\" class=\"data row10 col11\" >253</td>\n",
              "      <td id=\"T_f02ee_row10_col12\" class=\"data row10 col12\" >253</td>\n",
              "      <td id=\"T_f02ee_row10_col13\" class=\"data row10 col13\" >253</td>\n",
              "      <td id=\"T_f02ee_row10_col14\" class=\"data row10 col14\" >253</td>\n",
              "      <td id=\"T_f02ee_row10_col15\" class=\"data row10 col15\" >187</td>\n",
              "      <td id=\"T_f02ee_row10_col16\" class=\"data row10 col16\" >22</td>\n",
              "      <td id=\"T_f02ee_row10_col17\" class=\"data row10 col17\" >0</td>\n",
              "    </tr>\n",
              "  </tbody>\n",
              "</table>\n"
            ]
          },
          "metadata": {},
          "execution_count": 13
        }
      ]
    },
    {
      "cell_type": "code",
      "source": [
        "seven_tensors = [fb.tensor(fb.Image.open(o)) for o in sevens]\n",
        "three_tensors= [fb.tensor(fb.Image.open(o)) for o in threes]\n",
        "len(three_tensors), len(seven_tensors)\n"
      ],
      "metadata": {
        "colab": {
          "base_uri": "https://localhost:8080/"
        },
        "id": "QyaxgfRfgueH",
        "outputId": "f312f16d-94d1-489a-cdd8-f2f8f0f646d5"
      },
      "execution_count": null,
      "outputs": [
        {
          "output_type": "execute_result",
          "data": {
            "text/plain": [
              "(6131, 6265)"
            ]
          },
          "metadata": {},
          "execution_count": 14
        }
      ]
    },
    {
      "cell_type": "code",
      "source": [
        "fb.show_image(three_tensors[0])"
      ],
      "metadata": {
        "colab": {
          "base_uri": "https://localhost:8080/",
          "height": 102
        },
        "id": "q8tLNdDxhIHa",
        "outputId": "0058f82e-923a-4d73-b565-390b47796111"
      },
      "execution_count": null,
      "outputs": [
        {
          "output_type": "execute_result",
          "data": {
            "text/plain": [
              "<matplotlib.axes._subplots.AxesSubplot at 0x7f53becb2b90>"
            ]
          },
          "metadata": {},
          "execution_count": 15
        },
        {
          "output_type": "display_data",
          "data": {
            "text/plain": [
              "<Figure size 72x72 with 1 Axes>"
            ],
            "image/png": "[encoded data removed]"
          },
          "metadata": {
            "needs_background": "light"
          }
        }
      ]
    },
    {
      "cell_type": "code",
      "source": [
        "stacked_sevens = fb.torch.stack(seven_tensors).float()/255\n",
        "stacked_threes = fb.torch.stack(three_tensors).float()/255\n",
        "stacked_threes.shape"
      ],
      "metadata": {
        "colab": {
          "base_uri": "https://localhost:8080/"
        },
        "id": "dbo6zP2Bhi8T",
        "outputId": "f5a04862-05a8-4e8a-f84d-8da011f4dd00"
      },
      "execution_count": null,
      "outputs": [
        {
          "output_type": "execute_result",
          "data": {
            "text/plain": [
              "torch.Size([6131, 28, 28])"
            ]
          },
          "metadata": {},
          "execution_count": 16
        }
      ]
    },
    {
      "cell_type": "code",
      "source": [
        "mean3 = stacked_threes.mean(0)\n",
        "fb.show_image(mean3)"
      ],
      "metadata": {
        "colab": {
          "base_uri": "https://localhost:8080/",
          "height": 102
        },
        "id": "uD7QYrI5iR6g",
        "outputId": "59d98d30-3dde-4899-a8f8-76e9568b8c07"
      },
      "execution_count": null,
      "outputs": [
        {
          "output_type": "execute_result",
          "data": {
            "text/plain": [
              "<matplotlib.axes._subplots.AxesSubplot at 0x7f53be1051d0>"
            ]
          },
          "metadata": {},
          "execution_count": 17
        },
        {
          "output_type": "display_data",
          "data": {
            "text/plain": [
              "<Figure size 72x72 with 1 Axes>"
            ],
            "image/png": "[encoded data removed]"
          },
          "metadata": {
            "needs_background": "light"
          }
        }
      ]
    },
    {
      "cell_type": "code",
      "source": [
        "mean7 = stacked_sevens.mean(0)\n",
        "fb.show_image(mean7)"
      ],
      "metadata": {
        "colab": {
          "base_uri": "https://localhost:8080/",
          "height": 102
        },
        "id": "WMlZ3qRLiqCC",
        "outputId": "c402f93b-93df-41dc-b55d-22fb48d90f7f"
      },
      "execution_count": null,
      "outputs": [
        {
          "output_type": "execute_result",
          "data": {
            "text/plain": [
              "<matplotlib.axes._subplots.AxesSubplot at 0x7f53bdc83890>"
            ]
          },
          "metadata": {},
          "execution_count": 18
        },
        {
          "output_type": "display_data",
          "data": {
            "text/plain": [
              "<Figure size 72x72 with 1 Axes>"
            ],
            "image/png": "[encoded data removed]"
          },
          "metadata": {
            "needs_background": "light"
          }
        }
      ]
    },
    {
      "cell_type": "code",
      "source": [
        "a_3 = stacked_threes[0]\n",
        "dist_3_abs = (a_3 - mean3).abs().mean()\n",
        "dist_3_sqr = ((a_3 - mean3)**2).mean().sqrt()\n",
        "dist_3_abs,dist_3_sqr"
      ],
      "metadata": {
        "colab": {
          "base_uri": "https://localhost:8080/"
        },
        "id": "S3UagO1IkFQ6",
        "outputId": "5f040853-140d-4262-a86f-19b33063d9b6"
      },
      "execution_count": null,
      "outputs": [
        {
          "output_type": "execute_result",
          "data": {
            "text/plain": [
              "(tensor(0.1074), tensor(0.1912))"
            ]
          },
          "metadata": {},
          "execution_count": 19
        }
      ]
    },
    {
      "cell_type": "code",
      "source": [
        "dist_7_abs = (a_3 - mean7).abs().mean()\n",
        "dist_7_sqr = ((a_3 - mean7)**2).mean().sqrt()\n",
        "dist_7_abs,dist_7_sqr"
      ],
      "metadata": {
        "colab": {
          "base_uri": "https://localhost:8080/"
        },
        "id": "jwwOYPa_kUod",
        "outputId": "7fd20081-931e-476c-b139-cbe1575b8af6"
      },
      "execution_count": null,
      "outputs": [
        {
          "output_type": "execute_result",
          "data": {
            "text/plain": [
              "(tensor(0.1441), tensor(0.2780))"
            ]
          },
          "metadata": {},
          "execution_count": 20
        }
      ]
    },
    {
      "cell_type": "code",
      "source": [
        "valid_3_tens = fb.torch.stack([fb.tensor(fb.Image.open(o)) \n",
        "                            for o in (path/'valid'/'3').ls()])\n",
        "valid_3_tens = valid_3_tens.float()/255\n",
        "valid_7_tens = fb.torch.stack([fb.tensor(fb.Image.open(o)) \n",
        "                            for o in (path/'valid'/'7').ls()])\n",
        "valid_7_tens = valid_7_tens.float()/255\n",
        "valid_3_tens.shape,valid_7_tens.shape"
      ],
      "metadata": {
        "colab": {
          "base_uri": "https://localhost:8080/"
        },
        "id": "Y6Ho3y4un0Qw",
        "outputId": "5e4904b0-8d66-4348-9646-a7cff8a87385"
      },
      "execution_count": null,
      "outputs": [
        {
          "output_type": "execute_result",
          "data": {
            "text/plain": [
              "(torch.Size([1010, 28, 28]), torch.Size([1028, 28, 28]))"
            ]
          },
          "metadata": {},
          "execution_count": 21
        }
      ]
    },
    {
      "cell_type": "code",
      "source": [
        "def mnist_distance(a, b): return (a-b).abs().mean((-2, -1)) # mean of last 2 axes (not depth/images)\n",
        "mnist_distance(a_3, mean3)"
      ],
      "metadata": {
        "colab": {
          "base_uri": "https://localhost:8080/"
        },
        "id": "WjAhfti4oXSv",
        "outputId": "0322a8ef-246f-4b70-dc42-8ce382074d3a"
      },
      "execution_count": null,
      "outputs": [
        {
          "output_type": "execute_result",
          "data": {
            "text/plain": [
              "tensor(0.1074)"
            ]
          },
          "metadata": {},
          "execution_count": 22
        }
      ]
    },
    {
      "cell_type": "code",
      "source": [
        "mnist_distance(valid_3_tens, mean3)"
      ],
      "metadata": {
        "colab": {
          "base_uri": "https://localhost:8080/"
        },
        "id": "OH0ecGUnoziN",
        "outputId": "a43f0f92-a8b6-42f3-ae13-0c66cbdd2e75"
      },
      "execution_count": null,
      "outputs": [
        {
          "output_type": "execute_result",
          "data": {
            "text/plain": [
              "tensor([0.1678, 0.1611, 0.1358,  ..., 0.1170, 0.1779, 0.1179])"
            ]
          },
          "metadata": {},
          "execution_count": 23
        }
      ]
    },
    {
      "cell_type": "code",
      "source": [
        "def is_3(x): return mnist_distance(x, mean3) < mnist_distance(x, mean7)"
      ],
      "metadata": {
        "id": "YALKfaI5qxnm"
      },
      "execution_count": null,
      "outputs": []
    },
    {
      "cell_type": "code",
      "source": [
        "is_3(a_3), is_3(a_3).float()"
      ],
      "metadata": {
        "colab": {
          "base_uri": "https://localhost:8080/"
        },
        "id": "FttWvN7bq5C9",
        "outputId": "550d0863-a91b-4319-d9e8-9bc8639fd470"
      },
      "execution_count": null,
      "outputs": [
        {
          "output_type": "execute_result",
          "data": {
            "text/plain": [
              "(tensor(True), tensor(1.))"
            ]
          },
          "metadata": {},
          "execution_count": 25
        }
      ]
    },
    {
      "cell_type": "code",
      "source": [
        "is_3(valid_7_tens)"
      ],
      "metadata": {
        "colab": {
          "base_uri": "https://localhost:8080/"
        },
        "id": "rDi-RhjErDw9",
        "outputId": "995ac61c-57b2-444d-c25d-e224185d5571"
      },
      "execution_count": null,
      "outputs": [
        {
          "output_type": "execute_result",
          "data": {
            "text/plain": [
              "tensor([False, False, False,  ..., False, False, False])"
            ]
          },
          "metadata": {},
          "execution_count": 26
        }
      ]
    },
    {
      "cell_type": "code",
      "source": [
        "accuracy_3s = is_3(valid_3_tens).float().mean()\n",
        "accuracy_7s = (1 - is_3(valid_7_tens).float()).mean()\n",
        "accuracy_3s,accuracy_7s,(accuracy_3s+accuracy_7s)/2"
      ],
      "metadata": {
        "colab": {
          "base_uri": "https://localhost:8080/"
        },
        "id": "4dPRMMl1rPq1",
        "outputId": "ccfaf2ff-6940-402b-a8b6-7954318ec9ed"
      },
      "execution_count": null,
      "outputs": [
        {
          "output_type": "execute_result",
          "data": {
            "text/plain": [
              "(tensor(0.9168), tensor(0.9854), tensor(0.9511))"
            ]
          },
          "metadata": {},
          "execution_count": 27
        }
      ]
    },
    {
      "cell_type": "code",
      "source": [
        "def f(x): return x**2\n",
        "\n",
        "xt = fb.tensor(3.).requires_grad_()\n",
        "yt = f(xt)\n",
        "yt.backward()\n",
        "xt.grad"
      ],
      "metadata": {
        "colab": {
          "base_uri": "https://localhost:8080/"
        },
        "id": "ZrKKY1XaFN08",
        "outputId": "37f04f30-d4d5-487b-b5a8-e585c18a42c5"
      },
      "execution_count": null,
      "outputs": [
        {
          "output_type": "execute_result",
          "data": {
            "text/plain": [
              "tensor(6.)"
            ]
          },
          "metadata": {},
          "execution_count": 28
        }
      ]
    },
    {
      "cell_type": "code",
      "source": [
        "time = fb.torch.arange(0,20).float(); time"
      ],
      "metadata": {
        "colab": {
          "base_uri": "https://localhost:8080/"
        },
        "id": "IymzrDuwHv_J",
        "outputId": "2b084d28-1b8d-4fd1-e56d-0258d2ec664f"
      },
      "execution_count": null,
      "outputs": [
        {
          "output_type": "execute_result",
          "data": {
            "text/plain": [
              "tensor([ 0.,  1.,  2.,  3.,  4.,  5.,  6.,  7.,  8.,  9., 10., 11., 12., 13., 14., 15., 16., 17., 18., 19.])"
            ]
          },
          "metadata": {},
          "execution_count": 29
        }
      ]
    },
    {
      "cell_type": "code",
      "source": [
        "speed = fb.torch.randn(20)*3 + 0.75*(time-9.5)**2 + 1\n",
        "fb.plt.scatter(time,speed);"
      ],
      "metadata": {
        "colab": {
          "base_uri": "https://localhost:8080/",
          "height": 268
        },
        "id": "iAQq15_ZH2Pk",
        "outputId": "09512093-6c38-4e87-c5ed-6839d570412c"
      },
      "execution_count": null,
      "outputs": [
        {
          "output_type": "display_data",
          "data": {
            "text/plain": [
              "<Figure size 432x288 with 1 Axes>"
            ],
            "image/png": "[encoded data removed]"
          },
          "metadata": {
            "needs_background": "light"
          }
        }
      ]
    },
    {
      "cell_type": "code",
      "source": [
        "def f(t, params):\n",
        "  a,b,c = params\n",
        "  return a*(t**2) + (b*t) + c\n"
      ],
      "metadata": {
        "id": "CKZ9eQYyIMIF"
      },
      "execution_count": null,
      "outputs": []
    },
    {
      "cell_type": "code",
      "source": [
        "def mse(preds, targets): \n",
        "  return ((preds - targets)**2).mean()"
      ],
      "metadata": {
        "id": "djElyyKXJFYn"
      },
      "execution_count": null,
      "outputs": []
    },
    {
      "cell_type": "code",
      "source": [
        "# Initialize Parameters\n",
        "params = fb.torch.randn(3).requires_grad_()\n",
        "orig_params = params.clone()\n",
        "orig_params"
      ],
      "metadata": {
        "colab": {
          "base_uri": "https://localhost:8080/"
        },
        "id": "xgX7AVryJPWl",
        "outputId": "b9644817-e482-4fd3-d464-f616efcbfbcd"
      },
      "execution_count": null,
      "outputs": [
        {
          "output_type": "execute_result",
          "data": {
            "text/plain": [
              "tensor([-0.7658, -0.7506,  1.3525], grad_fn=<CloneBackward0>)"
            ]
          },
          "metadata": {},
          "execution_count": 33
        }
      ]
    },
    {
      "cell_type": "code",
      "source": [
        "# Calculate Predictions\n",
        "preds = f(time, params)\n",
        "\n",
        "def show_preds(preds, ax=None):\n",
        "  if ax is None: ax=fb.plt.subplots()[1]\n",
        "  ax.scatter(time, speed)\n",
        "  ax.scatter(time, fb.to_np(preds), color='red')\n",
        "  ax.set_ylim(-300, 100)\n",
        "\n",
        "show_preds(preds)"
      ],
      "metadata": {
        "colab": {
          "base_uri": "https://localhost:8080/",
          "height": 273
        },
        "id": "uwOzy7-iJY4o",
        "outputId": "e7bb1aba-7ab8-4170-f647-6dc012974590"
      },
      "execution_count": null,
      "outputs": [
        {
          "output_type": "display_data",
          "data": {
            "text/plain": [
              "<Figure size 432x288 with 1 Axes>"
            ],
            "image/png": "[encoded data removed]"
          },
          "metadata": {
            "needs_background": "light"
          }
        }
      ]
    },
    {
      "cell_type": "code",
      "source": [
        "# Calculate the Loss\n",
        "loss = mse(preds, speed)\n",
        "loss"
      ],
      "metadata": {
        "colab": {
          "base_uri": "https://localhost:8080/"
        },
        "id": "sF668N-FKN5N",
        "outputId": "f9242098-91f0-4973-d680-03a99edd342c"
      },
      "execution_count": null,
      "outputs": [
        {
          "output_type": "execute_result",
          "data": {
            "text/plain": [
              "tensor(25823.8086, grad_fn=<MeanBackward0>)"
            ]
          },
          "metadata": {},
          "execution_count": 35
        }
      ]
    },
    {
      "cell_type": "code",
      "source": [
        "# Calculate the Gradients\n",
        "loss.backward()\n",
        "print(params.grad)\n"
      ],
      "metadata": {
        "colab": {
          "base_uri": "https://localhost:8080/"
        },
        "id": "YqBUfLOdKfWW",
        "outputId": "96c1566c-ce3f-4b58-c330-ae4da666c5a3"
      },
      "execution_count": null,
      "outputs": [
        {
          "output_type": "stream",
          "name": "stdout",
          "text": [
            "tensor([-53195.8633,  -3419.7148,   -253.8908])\n"
          ]
        }
      ]
    },
    {
      "cell_type": "code",
      "source": [
        "# Step the Weights\n",
        "learning_rate = 1e-5\n",
        "params.data -= params.grad.data * learning_rate\n",
        "params.grad = None\n",
        "params.data"
      ],
      "metadata": {
        "colab": {
          "base_uri": "https://localhost:8080/"
        },
        "id": "xwPA2oFSK8vn",
        "outputId": "0541b570-c848-43ed-9a4a-35d0d97e50f6"
      },
      "execution_count": null,
      "outputs": [
        {
          "output_type": "execute_result",
          "data": {
            "text/plain": [
              "tensor([-0.2339, -0.7164,  1.3551])"
            ]
          },
          "metadata": {},
          "execution_count": 37
        }
      ]
    },
    {
      "cell_type": "code",
      "source": [
        "# Repeat\n",
        "preds = f(time, params)\n",
        "mse(preds, speed)\n",
        "show_preds(preds)"
      ],
      "metadata": {
        "colab": {
          "base_uri": "https://localhost:8080/",
          "height": 273
        },
        "id": "9bFQ4CRwLZIn",
        "outputId": "3b7481a5-c58e-42a5-beb2-637feca97c50"
      },
      "execution_count": null,
      "outputs": [
        {
          "output_type": "display_data",
          "data": {
            "text/plain": [
              "<Figure size 432x288 with 1 Axes>"
            ],
            "image/png": "[encoded data removed]"
          },
          "metadata": {
            "needs_background": "light"
          }
        }
      ]
    },
    {
      "cell_type": "code",
      "source": [
        "# Create Function to Iterate\n",
        "def apply_step(params, prn=True):\n",
        "  preds = f(time, params)\n",
        "  loss = mse(preds, speed)\n",
        "  loss.backward()\n",
        "  params.data -= learning_rate * params.grad.data\n",
        "  params.grad = None\n",
        "  if prn: print(loss.item())\n",
        "  return preds"
      ],
      "metadata": {
        "id": "d831-pYcLjYK"
      },
      "execution_count": null,
      "outputs": []
    },
    {
      "cell_type": "code",
      "source": [
        "for i in range(10): preds = apply_step(params)"
      ],
      "metadata": {
        "colab": {
          "base_uri": "https://localhost:8080/"
        },
        "id": "t5Kn1SVCMAdB",
        "outputId": "bdf22dde-9269-4ac5-9cdc-5d1aa531fdfc"
      },
      "execution_count": null,
      "outputs": [
        {
          "output_type": "stream",
          "name": "stdout",
          "text": [
            "5435.53564453125\n",
            "1577.44921875\n",
            "847.3778076171875\n",
            "709.2225341796875\n",
            "683.0758056640625\n",
            "678.1243896484375\n",
            "677.1838989257812\n",
            "677.0023803710938\n",
            "676.9645385742188\n",
            "676.9537353515625\n"
          ]
        }
      ]
    },
    {
      "cell_type": "code",
      "source": [
        "show_preds(preds)"
      ],
      "metadata": {
        "colab": {
          "base_uri": "https://localhost:8080/",
          "height": 273
        },
        "id": "rBkwmfLdMHC0",
        "outputId": "826d5b63-e8d0-47ab-826e-de491e3cb250"
      },
      "execution_count": null,
      "outputs": [
        {
          "output_type": "display_data",
          "data": {
            "text/plain": [
              "<Figure size 432x288 with 1 Axes>"
            ],
            "image/png": "[encoded data removed]"
          },
          "metadata": {
            "needs_background": "light"
          }
        }
      ]
    },
    {
      "cell_type": "code",
      "source": [
        "params = orig_params.detach().requires_grad_()"
      ],
      "metadata": {
        "id": "17-xilJVMeDQ"
      },
      "execution_count": null,
      "outputs": []
    },
    {
      "cell_type": "code",
      "source": [
        "_,axs = plt.subplots(1,4,figsize=(12,3))\n",
        "for ax in axs: show_preds(apply_step(params, False), ax)\n",
        "plt.tight_layout()"
      ],
      "metadata": {
        "colab": {
          "base_uri": "https://localhost:8080/",
          "height": 221
        },
        "id": "DfS18lP3MrGY",
        "outputId": "89911fc2-78d2-4606-d524-c966a263f180"
      },
      "execution_count": null,
      "outputs": [
        {
          "output_type": "display_data",
          "data": {
            "text/plain": [
              "<Figure size 864x216 with 4 Axes>"
            ],
            "image/png": "[encoded data removed]"
          },
          "metadata": {
            "needs_background": "light"
          }
        }
      ]
    },
    {
      "cell_type": "code",
      "source": [
        "# Implement Neural Net from Scratch\n",
        "\n",
        "# concatenate threes and sevens data and flatten tensor into a rank-2 tensor (images flattened to vectors)\n",
        "train_x = torch.cat([stacked_threes, stacked_sevens]).view(-1,28*28)\n",
        "\n"
      ],
      "metadata": {
        "id": "5qf14v0t2kpC"
      },
      "execution_count": null,
      "outputs": []
    },
    {
      "cell_type": "code",
      "source": [
        "# create training data for flattened training data (True for 3s, False for 7s)\n",
        "train_y = tensor([1] * len(threes) + [0]*len(sevens)).unsqueeze(1)\n",
        "train_x.shape, train_y.shape"
      ],
      "metadata": {
        "colab": {
          "base_uri": "https://localhost:8080/"
        },
        "id": "oveGl8ln20IS",
        "outputId": "3c6d8356-4a6b-4def-dc1d-97ca323d0384"
      },
      "execution_count": null,
      "outputs": [
        {
          "output_type": "execute_result",
          "data": {
            "text/plain": [
              "(torch.Size([12396, 784]), torch.Size([12396, 1]))"
            ]
          },
          "metadata": {},
          "execution_count": 45
        }
      ]
    },
    {
      "cell_type": "code",
      "source": [
        "# Torch Datasets require tuple (x, y) so zip training data together\n",
        "dset = list(zip(train_x, train_y))\n",
        "x, y = dset[0]\n",
        "x.shape, y"
      ],
      "metadata": {
        "colab": {
          "base_uri": "https://localhost:8080/"
        },
        "id": "aS4L-AdP3P8i",
        "outputId": "0e3fc4ac-fa0e-4642-b3d1-60f5dc42da2d"
      },
      "execution_count": null,
      "outputs": [
        {
          "output_type": "execute_result",
          "data": {
            "text/plain": [
              "(torch.Size([784]), tensor([1]))"
            ]
          },
          "metadata": {},
          "execution_count": 46
        }
      ]
    },
    {
      "cell_type": "code",
      "source": [
        "valid_x = torch.cat([valid_3_tens, valid_7_tens]).view(-1, 28*28)\n",
        "valid_y = tensor([1]*len(valid_3_tens) + [0]*len(valid_7_tens)).unsqueeze(1)\n",
        "valid_dset = list(zip(valid_x,valid_y))"
      ],
      "metadata": {
        "id": "3_6vwNX_Kv_4"
      },
      "execution_count": null,
      "outputs": []
    },
    {
      "cell_type": "code",
      "source": [
        "# initialize random weights for every pixel\n",
        "def init_params(size, std=1.0): \n",
        "  return (fb.torch.randn(size)*std).requires_grad_()\n",
        "\n",
        "weights = init_params((28*28, 1))\n",
        "weights[:10]"
      ],
      "metadata": {
        "colab": {
          "base_uri": "https://localhost:8080/"
        },
        "id": "833O5j404cMu",
        "outputId": "d0966a21-1376-44e1-a1da-950ee2ff8e88"
      },
      "execution_count": null,
      "outputs": [
        {
          "output_type": "execute_result",
          "data": {
            "text/plain": [
              "tensor([[ 1.3123],\n",
              "        [ 0.6872],\n",
              "        [-1.0892],\n",
              "        [-0.3553],\n",
              "        [-0.9138],\n",
              "        [-0.6581],\n",
              "        [ 0.0780],\n",
              "        [ 0.5258],\n",
              "        [ 1.1790],\n",
              "        [-0.4345]], grad_fn=<SliceBackward0>)"
            ]
          },
          "metadata": {},
          "execution_count": 48
        }
      ]
    },
    {
      "cell_type": "code",
      "source": [
        "# parameters: y = weights*x + bias\n",
        "bias = init_params(1)\n",
        "bias"
      ],
      "metadata": {
        "colab": {
          "base_uri": "https://localhost:8080/"
        },
        "id": "i39zsG6c5BaV",
        "outputId": "29c93617-30d6-4e0c-cbf4-c0e3584ec6d3"
      },
      "execution_count": null,
      "outputs": [
        {
          "output_type": "execute_result",
          "data": {
            "text/plain": [
              "tensor([0.6863], requires_grad=True)"
            ]
          },
          "metadata": {},
          "execution_count": 49
        }
      ]
    },
    {
      "cell_type": "code",
      "source": [
        "# calculate a prediction for the 1st image\n",
        "(train_x[0]*weights.T).sum() + bias"
      ],
      "metadata": {
        "colab": {
          "base_uri": "https://localhost:8080/"
        },
        "id": "ibKyZOsE6FX6",
        "outputId": "f9bf11b0-218e-4433-f45d-9f221d673b5e"
      },
      "execution_count": null,
      "outputs": [
        {
          "output_type": "execute_result",
          "data": {
            "text/plain": [
              "tensor([20.2336], grad_fn=<AddBackward0>)"
            ]
          },
          "metadata": {},
          "execution_count": 50
        }
      ]
    },
    {
      "cell_type": "code",
      "source": [
        "# matrix multiplication in python uses '@'\n",
        "def linear1(xb): return xb @ weights + bias\n",
        "preds = linear1(train_x)\n",
        "preds"
      ],
      "metadata": {
        "colab": {
          "base_uri": "https://localhost:8080/"
        },
        "id": "xO14IzvF652H",
        "outputId": "1fd943e8-9cae-4b2c-f626-33c9a64c76ec"
      },
      "execution_count": null,
      "outputs": [
        {
          "output_type": "execute_result",
          "data": {
            "text/plain": [
              "tensor([[20.2336],\n",
              "        [17.0644],\n",
              "        [15.2384],\n",
              "        ...,\n",
              "        [18.3804],\n",
              "        [23.8567],\n",
              "        [28.6816]], grad_fn=<AddBackward0>)"
            ]
          },
          "metadata": {},
          "execution_count": 51
        }
      ]
    },
    {
      "cell_type": "code",
      "source": [
        "corrects = (preds>0.0).float() == train_y\n",
        "corrects"
      ],
      "metadata": {
        "colab": {
          "base_uri": "https://localhost:8080/"
        },
        "id": "ZBWkoH_d7uvK",
        "outputId": "fb4899ee-ec71-42ba-dad0-f3b3a010cb10"
      },
      "execution_count": null,
      "outputs": [
        {
          "output_type": "execute_result",
          "data": {
            "text/plain": [
              "tensor([[ True],\n",
              "        [ True],\n",
              "        [ True],\n",
              "        ...,\n",
              "        [False],\n",
              "        [False],\n",
              "        [False]])"
            ]
          },
          "metadata": {},
          "execution_count": 52
        }
      ]
    },
    {
      "cell_type": "code",
      "source": [
        "corrects.float().mean().item()"
      ],
      "metadata": {
        "colab": {
          "base_uri": "https://localhost:8080/"
        },
        "id": "LJEvK96771hw",
        "outputId": "2a24a15a-fd06-4db3-b8c1-4d483db98894"
      },
      "execution_count": null,
      "outputs": [
        {
          "output_type": "execute_result",
          "data": {
            "text/plain": [
              "0.4912068545818329"
            ]
          },
          "metadata": {},
          "execution_count": 53
        }
      ]
    },
    {
      "cell_type": "code",
      "source": [
        "with torch.no_grad():\n",
        "  weights[0] *= 1.001"
      ],
      "metadata": {
        "id": "MNZC4VMS75k1"
      },
      "execution_count": null,
      "outputs": []
    },
    {
      "cell_type": "code",
      "source": [
        "preds = linear1(train_x)\n",
        "((preds>0.0).float() == train_y).float().mean().item()"
      ],
      "metadata": {
        "colab": {
          "base_uri": "https://localhost:8080/"
        },
        "id": "hn9Yv6d48CLZ",
        "outputId": "6e5f5db1-58cd-4424-cc86-faaa2a035070"
      },
      "execution_count": null,
      "outputs": [
        {
          "output_type": "execute_result",
          "data": {
            "text/plain": [
              "0.4912068545818329"
            ]
          },
          "metadata": {},
          "execution_count": 55
        }
      ]
    },
    {
      "cell_type": "code",
      "source": [
        "trgts = fb.tensor([1,0,1])\n",
        "prds = fb.tensor([.9,.4,.2])"
      ],
      "metadata": {
        "id": "eVHeNQdm8cZ-"
      },
      "execution_count": null,
      "outputs": []
    },
    {
      "cell_type": "code",
      "source": [
        "# returns accuracy of the prediction relating to the target\n",
        "def mnist_loss(predictions, targets):\n",
        "  # torch.where is the same thing as running a list comprehension\n",
        "  return fb.torch.where(targets==1, 1-predictions, predictions).mean()"
      ],
      "metadata": {
        "id": "ep_1ulfm9RPs"
      },
      "execution_count": null,
      "outputs": []
    },
    {
      "cell_type": "code",
      "source": [
        "fb.torch.where(trgts==1, 1-prds, prds)"
      ],
      "metadata": {
        "colab": {
          "base_uri": "https://localhost:8080/"
        },
        "id": "gxFKazMh948c",
        "outputId": "24188c9f-cbf4-4829-ada3-0f66b8aeb2c6"
      },
      "execution_count": null,
      "outputs": [
        {
          "output_type": "execute_result",
          "data": {
            "text/plain": [
              "tensor([0.1000, 0.4000, 0.8000])"
            ]
          },
          "metadata": {},
          "execution_count": 58
        }
      ]
    },
    {
      "cell_type": "code",
      "source": [
        "mnist_loss(prds, trgts)"
      ],
      "metadata": {
        "colab": {
          "base_uri": "https://localhost:8080/"
        },
        "id": "oWe5bXC7-NyV",
        "outputId": "695d6f7f-3607-4996-f08c-49d05b8701a6"
      },
      "execution_count": null,
      "outputs": [
        {
          "output_type": "execute_result",
          "data": {
            "text/plain": [
              "tensor(0.4333)"
            ]
          },
          "metadata": {},
          "execution_count": 59
        }
      ]
    },
    {
      "cell_type": "code",
      "source": [
        "# Sigmoid: always returns number between 0 and 1\n",
        "def sigmoid(x):\n",
        "  return 1/(1+fb.torch.exp(-x))"
      ],
      "metadata": {
        "id": "OYMhdYrQ_AB_"
      },
      "execution_count": null,
      "outputs": []
    },
    {
      "cell_type": "code",
      "source": [
        "fb.plot_function(fb.torch.sigmoid, title='Sigmoid', min=-4, max=4)"
      ],
      "metadata": {
        "colab": {
          "base_uri": "https://localhost:8080/",
          "height": 285
        },
        "id": "vWFqEmr-_SPz",
        "outputId": "062e8ced-975b-40f6-dd91-644622fb2392"
      },
      "execution_count": null,
      "outputs": [
        {
          "output_type": "display_data",
          "data": {
            "text/plain": [
              "<Figure size 432x288 with 1 Axes>"
            ],
            "image/png": "[encoded data removed]"
          },
          "metadata": {
            "needs_background": "light"
          }
        }
      ]
    },
    {
      "cell_type": "code",
      "source": [
        "# update mnist Loss function to apply sigmoid\n",
        "def mnist_loss(predictions, targets):\n",
        "  predictions = predictions.sigmoid()\n",
        "  return fb.torch.where(targets==1, 1-predictions, predictions).mean()"
      ],
      "metadata": {
        "id": "K_YGAtMD_cHg"
      },
      "execution_count": null,
      "outputs": []
    },
    {
      "cell_type": "code",
      "source": [
        "# SBG and Mini-Batches"
      ],
      "metadata": {
        "id": "ugLPozgn_seH"
      },
      "execution_count": null,
      "outputs": []
    },
    {
      "cell_type": "code",
      "source": [
        "# Use Dataloaders to randomly shuffle the collections and create minibatches\n",
        "coll = range(15)\n",
        "dl = fb.DataLoader(coll, batch_size=5, shuffle=True)\n",
        "list(dl)"
      ],
      "metadata": {
        "colab": {
          "base_uri": "https://localhost:8080/"
        },
        "id": "iaODZH7aAWOv",
        "outputId": "88948894-822c-455b-baae-ef9e7cefb5b7"
      },
      "execution_count": null,
      "outputs": [
        {
          "output_type": "execute_result",
          "data": {
            "text/plain": [
              "[tensor([ 3, 12,  8, 10,  2]),\n",
              " tensor([ 9,  4,  7, 14,  5]),\n",
              " tensor([ 1, 13,  0,  6, 11])]"
            ]
          },
          "metadata": {},
          "execution_count": 64
        }
      ]
    },
    {
      "cell_type": "code",
      "source": [
        "# make sure the data loader contains the Dep and Indep variables (data, target)\n",
        "\n",
        "ds = fb.L(enumerate(string.ascii_lowercase))\n",
        "ds"
      ],
      "metadata": {
        "colab": {
          "base_uri": "https://localhost:8080/"
        },
        "id": "iolqZR3lDQYF",
        "outputId": "d8995b8f-124a-4ae6-966c-da2b2d6ebbc6"
      },
      "execution_count": null,
      "outputs": [
        {
          "output_type": "execute_result",
          "data": {
            "text/plain": [
              "(#26) [(0, 'a'),(1, 'b'),(2, 'c'),(3, 'd'),(4, 'e'),(5, 'f'),(6, 'g'),(7, 'h'),(8, 'i'),(9, 'j')...]"
            ]
          },
          "metadata": {},
          "execution_count": 65
        }
      ]
    },
    {
      "cell_type": "code",
      "source": [
        "dl = fb.DataLoader(ds, batch_size=6, shuffle=True)\n",
        "list(dl)"
      ],
      "metadata": {
        "colab": {
          "base_uri": "https://localhost:8080/"
        },
        "id": "gPTVjzV0DmYq",
        "outputId": "13275a6b-a32e-4f1c-f188-9427d1f6f482"
      },
      "execution_count": null,
      "outputs": [
        {
          "output_type": "execute_result",
          "data": {
            "text/plain": [
              "[(tensor([17, 18, 10, 22,  8, 14]), ('r', 's', 'k', 'w', 'i', 'o')),\n",
              " (tensor([20, 15,  9, 13, 21, 12]), ('u', 'p', 'j', 'n', 'v', 'm')),\n",
              " (tensor([ 7, 25,  6,  5, 11, 23]), ('h', 'z', 'g', 'f', 'l', 'x')),\n",
              " (tensor([ 1,  3,  0, 24, 19, 16]), ('b', 'd', 'a', 'y', 't', 'q')),\n",
              " (tensor([2, 4]), ('c', 'e'))]"
            ]
          },
          "metadata": {},
          "execution_count": 66
        }
      ]
    },
    {
      "cell_type": "code",
      "source": [
        "weights = init_params((28*28, 1))\n",
        "bias = init_params(1)"
      ],
      "metadata": {
        "id": "PKBi71fHD2nk"
      },
      "execution_count": null,
      "outputs": []
    },
    {
      "cell_type": "code",
      "source": [
        "dl = fb.DataLoader(dset, batch_size=256)\n",
        "xb,yb = fb.first(dl)\n",
        "xb.shape, yb.shape"
      ],
      "metadata": {
        "colab": {
          "base_uri": "https://localhost:8080/"
        },
        "id": "jEY0h4a0G2At",
        "outputId": "0984c6c1-7248-407f-e156-72a5e7e6561f"
      },
      "execution_count": null,
      "outputs": [
        {
          "output_type": "execute_result",
          "data": {
            "text/plain": [
              "(torch.Size([256, 784]), torch.Size([256, 1]))"
            ]
          },
          "metadata": {},
          "execution_count": 68
        }
      ]
    },
    {
      "cell_type": "code",
      "source": [
        "valid_dl = fb.DataLoader(valid_dset, batch_size=256)"
      ],
      "metadata": {
        "id": "mLVndlqQHE6p"
      },
      "execution_count": null,
      "outputs": []
    },
    {
      "cell_type": "code",
      "source": [
        "batch = train_x[:4]\n",
        "batch.shape"
      ],
      "metadata": {
        "id": "9vCFfQlAK6Px",
        "outputId": "9198a393-567d-41aa-e7a0-9eb37598a381",
        "colab": {
          "base_uri": "https://localhost:8080/"
        }
      },
      "execution_count": null,
      "outputs": [
        {
          "output_type": "execute_result",
          "data": {
            "text/plain": [
              "torch.Size([4, 784])"
            ]
          },
          "metadata": {},
          "execution_count": 70
        }
      ]
    },
    {
      "cell_type": "code",
      "source": [
        "preds = linear1(batch)\n",
        "preds"
      ],
      "metadata": {
        "id": "tX9I0x62LBeq",
        "outputId": "899133a4-52b2-4830-d35d-264f2eae386e",
        "colab": {
          "base_uri": "https://localhost:8080/"
        }
      },
      "execution_count": null,
      "outputs": [
        {
          "output_type": "execute_result",
          "data": {
            "text/plain": [
              "tensor([[-2.1876],\n",
              "        [-8.3973],\n",
              "        [ 2.5000],\n",
              "        [-4.9473]], grad_fn=<AddBackward0>)"
            ]
          },
          "metadata": {},
          "execution_count": 71
        }
      ]
    },
    {
      "cell_type": "code",
      "source": [
        "loss = mnist_loss(preds, train_y[:4])\n",
        "loss\n"
      ],
      "metadata": {
        "id": "x4IaaG_LLF9L",
        "outputId": "048980fa-eb4b-4987-c2a5-dda0395f4316",
        "colab": {
          "base_uri": "https://localhost:8080/"
        }
      },
      "execution_count": null,
      "outputs": [
        {
          "output_type": "execute_result",
          "data": {
            "text/plain": [
              "tensor(0.7419, grad_fn=<MeanBackward0>)"
            ]
          },
          "metadata": {},
          "execution_count": 72
        }
      ]
    },
    {
      "cell_type": "code",
      "source": [
        "loss.backward()\n",
        "weights.grad.shape, weights.grad.mean(), bias.grad"
      ],
      "metadata": {
        "id": "Vg36j2PhLP09",
        "outputId": "7b204dda-f3f7-4714-cf4d-d1d375c06d12",
        "colab": {
          "base_uri": "https://localhost:8080/"
        }
      },
      "execution_count": null,
      "outputs": [
        {
          "output_type": "execute_result",
          "data": {
            "text/plain": [
              "(torch.Size([784, 1]), tensor(-0.0061), tensor([-0.0420]))"
            ]
          },
          "metadata": {},
          "execution_count": 73
        }
      ]
    },
    {
      "cell_type": "code",
      "source": [
        "def calc_grad(xb, yb, model):\n",
        "  preds = model(xb)\n",
        "  loss = mnist_loss(preds, yb)\n",
        "  loss.backward()"
      ],
      "metadata": {
        "id": "PgBW9DMLLX4B"
      },
      "execution_count": null,
      "outputs": []
    },
    {
      "cell_type": "code",
      "source": [
        "calc_grad(batch, train_y[:4], linear1)\n",
        "weights.grad.mean(), bias.grad"
      ],
      "metadata": {
        "id": "LBawB_mFLgDQ",
        "outputId": "65d414d0-3152-427a-db8c-c723d74e37be",
        "colab": {
          "base_uri": "https://localhost:8080/"
        }
      },
      "execution_count": null,
      "outputs": [
        {
          "output_type": "execute_result",
          "data": {
            "text/plain": [
              "(tensor(-0.0121), tensor([-0.0840]))"
            ]
          },
          "metadata": {},
          "execution_count": 75
        }
      ]
    },
    {
      "cell_type": "code",
      "source": [
        "weights.grad.zero_()\n",
        "bias.grad.zero_()"
      ],
      "metadata": {
        "id": "dbP-8iBoMAkn",
        "outputId": "49e9244a-464b-4278-d493-2cf360e654e9",
        "colab": {
          "base_uri": "https://localhost:8080/"
        }
      },
      "execution_count": null,
      "outputs": [
        {
          "output_type": "execute_result",
          "data": {
            "text/plain": [
              "tensor([0.])"
            ]
          },
          "metadata": {},
          "execution_count": 76
        }
      ]
    },
    {
      "cell_type": "code",
      "source": [
        "def train_epoch(model, lr, params):\n",
        "  for xb, yb in dl:\n",
        "    calc_grad(xb, yb, model)\n",
        "    for p in params:\n",
        "      p.data -= p.grad*lr\n",
        "      p.grad.zero_()"
      ],
      "metadata": {
        "id": "0C7jz32aNTrv"
      },
      "execution_count": null,
      "outputs": []
    },
    {
      "cell_type": "code",
      "source": [
        "def batch_accuracy(xb, yb):\n",
        "  preds = xb.sigmoid()\n",
        "  correct = (preds>0.5) == yb\n",
        "  return correct.float().mean()"
      ],
      "metadata": {
        "id": "XsVy_5MHN5Fb"
      },
      "execution_count": null,
      "outputs": []
    },
    {
      "cell_type": "code",
      "source": [
        "batch_accuracy(linear1(batch), train_y[:4])"
      ],
      "metadata": {
        "id": "8tJeDZ5NODVu",
        "outputId": "e171f4a8-afb7-4ab0-9592-70311702f42f",
        "colab": {
          "base_uri": "https://localhost:8080/"
        }
      },
      "execution_count": null,
      "outputs": [
        {
          "output_type": "execute_result",
          "data": {
            "text/plain": [
              "tensor(0.2500)"
            ]
          },
          "metadata": {},
          "execution_count": 80
        }
      ]
    },
    {
      "cell_type": "code",
      "source": [
        "def validate_epoch(model):\n",
        "  accs = [batch_accuracy(model(xb), yb) for xb, yb in valid_dl]\n",
        "  return round(fb.torch.stack(accs).mean().item(), 4)"
      ],
      "metadata": {
        "id": "JgFpw6mkOQ5m"
      },
      "execution_count": null,
      "outputs": []
    },
    {
      "cell_type": "code",
      "source": [
        "validate_epoch(linear1)"
      ],
      "metadata": {
        "id": "xYGhe9EXOfks",
        "outputId": "39a3aa6f-c8e3-455e-dd24-8dac81a89fab",
        "colab": {
          "base_uri": "https://localhost:8080/"
        }
      },
      "execution_count": null,
      "outputs": [
        {
          "output_type": "execute_result",
          "data": {
            "text/plain": [
              "0.5265"
            ]
          },
          "metadata": {},
          "execution_count": 87
        }
      ]
    },
    {
      "cell_type": "code",
      "source": [
        "# train for 1 epoch\n",
        "lr = 1.\n",
        "params = weights, bias\n",
        "train_epoch(linear1, lr, params)\n",
        "validate_epoch(linear1)"
      ],
      "metadata": {
        "id": "GX0szeHHOtlI",
        "outputId": "44e56c44-6caa-49f5-d372-3f01af861c40",
        "colab": {
          "base_uri": "https://localhost:8080/"
        }
      },
      "execution_count": null,
      "outputs": [
        {
          "output_type": "execute_result",
          "data": {
            "text/plain": [
              "0.6664"
            ]
          },
          "metadata": {},
          "execution_count": 88
        }
      ]
    },
    {
      "cell_type": "code",
      "source": [
        "# train for 20 more epochs\n",
        "for i in range(20):\n",
        "  train_epoch(linear1, lr, params)\n",
        "  print(validate_epoch(linear1), end=' ')"
      ],
      "metadata": {
        "id": "_ra5vB62O8Ej",
        "outputId": "1b823ac5-22d2-4e70-f422-ef072e0fc863",
        "colab": {
          "base_uri": "https://localhost:8080/"
        }
      },
      "execution_count": null,
      "outputs": [
        {
          "output_type": "stream",
          "name": "stdout",
          "text": [
            "0.8265 0.89 0.9183 0.9276 0.9398 0.9466 0.9505 0.9525 0.9559 0.9578 0.9598 0.9608 0.9613 0.9618 0.9632 0.9637 0.9647 0.9657 0.9671 0.9676 "
          ]
        }
      ]
    },
    {
      "cell_type": "code",
      "source": [
        "# Creating an Optimizer\n",
        "linear_model = fb.nn.Linear(28*28,1)"
      ],
      "metadata": {
        "id": "ozci0w_pPjlG"
      },
      "execution_count": null,
      "outputs": []
    },
    {
      "cell_type": "code",
      "source": [
        "w,b = linear_model.parameters()\n",
        "w.shape, b.shape"
      ],
      "metadata": {
        "id": "jdiaMuF7P5F1",
        "outputId": "c1869adc-8f84-4659-9fd2-c1ad8cddf8f4",
        "colab": {
          "base_uri": "https://localhost:8080/"
        }
      },
      "execution_count": null,
      "outputs": [
        {
          "output_type": "execute_result",
          "data": {
            "text/plain": [
              "(torch.Size([1, 784]), torch.Size([1]))"
            ]
          },
          "metadata": {},
          "execution_count": 91
        }
      ]
    },
    {
      "cell_type": "code",
      "source": [
        "class BasicOptim:\n",
        "  def __init__(self, params, lr): \n",
        "    self.params = list(params) \n",
        "    self.lr = lr\n",
        "\n",
        "  def step(self, *args, **kwargs):\n",
        "    for p in self.params: \n",
        "      p.data -= p.grad.data * self.lr\n",
        "\n",
        "  def zero_grad(self, *args, **kwargs):\n",
        "    for p in self.params:\n",
        "      p.grad = None"
      ],
      "metadata": {
        "id": "DpsmtpHuQBUf"
      },
      "execution_count": null,
      "outputs": []
    },
    {
      "cell_type": "code",
      "source": [
        "opt = BasicOptim(linear_model.parameters(), lr)"
      ],
      "metadata": {
        "id": "QPng4NlrQfVt"
      },
      "execution_count": null,
      "outputs": []
    },
    {
      "cell_type": "code",
      "source": [
        "def train_epoch(model):\n",
        "  for xb, yb in dl:\n",
        "    calc_grad(xb, yb, model)\n",
        "    opt.step()\n",
        "    opt.zero_grad()"
      ],
      "metadata": {
        "id": "GTNEaRacQltd"
      },
      "execution_count": null,
      "outputs": []
    },
    {
      "cell_type": "code",
      "source": [
        "validate_epoch(linear_model)"
      ],
      "metadata": {
        "id": "1qKqBD4fQxSu",
        "outputId": "eb8dd601-cefb-4c9f-937c-a0982a9a2b83",
        "colab": {
          "base_uri": "https://localhost:8080/"
        }
      },
      "execution_count": null,
      "outputs": [
        {
          "output_type": "execute_result",
          "data": {
            "text/plain": [
              "0.6967"
            ]
          },
          "metadata": {},
          "execution_count": 95
        }
      ]
    },
    {
      "cell_type": "code",
      "source": [
        "def train_model(model, epochs):\n",
        "  for i in range(epochs):\n",
        "    train_epoch(model)\n",
        "    print(validate_epoch(model), end=' ')"
      ],
      "metadata": {
        "id": "HYFSghhbQ1bb"
      },
      "execution_count": null,
      "outputs": []
    },
    {
      "cell_type": "code",
      "source": [
        "train_model(linear_model, 20)"
      ],
      "metadata": {
        "id": "Jc6UYv3vQ-sa",
        "outputId": "2d0444e7-c82e-40e6-98d8-9f1947c07364",
        "colab": {
          "base_uri": "https://localhost:8080/"
        }
      },
      "execution_count": null,
      "outputs": [
        {
          "output_type": "stream",
          "name": "stdout",
          "text": [
            "0.4932 0.7974 0.8525 0.9165 0.9355 0.9472 0.957 0.9629 0.9658 0.9668 0.9697 0.9712 0.9746 0.9751 0.9761 0.977 0.9775 0.978 0.978 0.9785 "
          ]
        }
      ]
    },
    {
      "cell_type": "code",
      "source": [
        "linear_model = fb.nn.Linear(28*28, 1)\n",
        "opt = fb.SGD(linear_model.parameters(), lr)\n",
        "train_model(linear_model, 20)"
      ],
      "metadata": {
        "id": "GDX2NpixRGFt",
        "outputId": "5ad22eef-615e-484d-c5c7-f984fb8cabee",
        "colab": {
          "base_uri": "https://localhost:8080/"
        }
      },
      "execution_count": null,
      "outputs": [
        {
          "output_type": "stream",
          "name": "stdout",
          "text": [
            "0.4932 0.9145 0.8008 0.9062 0.9306 0.9443 0.9541 0.9619 0.9643 0.9668 0.9692 0.9712 0.9731 0.9746 0.9756 0.9761 0.9775 0.9775 0.9785 0.9785 "
          ]
        }
      ]
    },
    {
      "cell_type": "code",
      "source": [
        "dls = fb.DataLoaders(dl, valid_dl)"
      ],
      "metadata": {
        "id": "C2Fmf3ojRaZO"
      },
      "execution_count": null,
      "outputs": []
    },
    {
      "cell_type": "code",
      "source": [
        "learn = fb.Learner(\n",
        "    dls, \n",
        "    fb.nn.Linear(28*28, 1), \n",
        "    opt_func=fb.SGD,\n",
        "    loss_func=mnist_loss,\n",
        "    metrics=batch_accuracy\n",
        "    )"
      ],
      "metadata": {
        "id": "oMUeUSa9Rhfb"
      },
      "execution_count": null,
      "outputs": []
    },
    {
      "cell_type": "code",
      "source": [
        "learn.fit(n_epoch=10, lr=lr)"
      ],
      "metadata": {
        "id": "t-Gt_oSXR0g7",
        "outputId": "333183fb-06fd-4060-da69-60e42bed7635",
        "colab": {
          "base_uri": "https://localhost:8080/",
          "height": 363
        }
      },
      "execution_count": null,
      "outputs": [
        {
          "output_type": "display_data",
          "data": {
            "text/plain": [
              "<IPython.core.display.HTML object>"
            ],
            "text/html": [
              "\n",
              "<style>\n",
              "    /* Turns off some styling */\n",
              "    progress {\n",
              "        /* gets rid of default border in Firefox and Opera. */\n",
              "        border: none;\n",
              "        /* Needs to be in here for Safari polyfill so background images work as expected. */\n",
              "        background-size: auto;\n",
              "    }\n",
              "    progress:not([value]), progress:not([value])::-webkit-progress-bar {\n",
              "        background: repeating-linear-gradient(45deg, #7e7e7e, #7e7e7e 10px, #5c5c5c 10px, #5c5c5c 20px);\n",
              "    }\n",
              "    .progress-bar-interrupted, .progress-bar-interrupted::-webkit-progress-bar {\n",
              "        background: #F44336;\n",
              "    }\n",
              "</style>\n"
            ]
          },
          "metadata": {}
        },
        {
          "output_type": "display_data",
          "data": {
            "text/plain": [
              "<IPython.core.display.HTML object>"
            ],
            "text/html": [
              "<table border=\"1\" class=\"dataframe\">\n",
              "  <thead>\n",
              "    <tr style=\"text-align: left;\">\n",
              "      <th>epoch</th>\n",
              "      <th>train_loss</th>\n",
              "      <th>valid_loss</th>\n",
              "      <th>batch_accuracy</th>\n",
              "      <th>time</th>\n",
              "    </tr>\n",
              "  </thead>\n",
              "  <tbody>\n",
              "    <tr>\n",
              "      <td>0</td>\n",
              "      <td>0.636856</td>\n",
              "      <td>0.503651</td>\n",
              "      <td>0.495584</td>\n",
              "      <td>00:00</td>\n",
              "    </tr>\n",
              "    <tr>\n",
              "      <td>1</td>\n",
              "      <td>0.596260</td>\n",
              "      <td>0.160360</td>\n",
              "      <td>0.876349</td>\n",
              "      <td>00:00</td>\n",
              "    </tr>\n",
              "    <tr>\n",
              "      <td>2</td>\n",
              "      <td>0.216385</td>\n",
              "      <td>0.199107</td>\n",
              "      <td>0.818449</td>\n",
              "      <td>00:00</td>\n",
              "    </tr>\n",
              "    <tr>\n",
              "      <td>3</td>\n",
              "      <td>0.093193</td>\n",
              "      <td>0.111049</td>\n",
              "      <td>0.910697</td>\n",
              "      <td>00:00</td>\n",
              "    </tr>\n",
              "    <tr>\n",
              "      <td>4</td>\n",
              "      <td>0.047861</td>\n",
              "      <td>0.079654</td>\n",
              "      <td>0.932287</td>\n",
              "      <td>00:00</td>\n",
              "    </tr>\n",
              "    <tr>\n",
              "      <td>5</td>\n",
              "      <td>0.030258</td>\n",
              "      <td>0.063328</td>\n",
              "      <td>0.946025</td>\n",
              "      <td>00:00</td>\n",
              "    </tr>\n",
              "    <tr>\n",
              "      <td>6</td>\n",
              "      <td>0.023103</td>\n",
              "      <td>0.053282</td>\n",
              "      <td>0.954858</td>\n",
              "      <td>00:00</td>\n",
              "    </tr>\n",
              "    <tr>\n",
              "      <td>7</td>\n",
              "      <td>0.019990</td>\n",
              "      <td>0.046627</td>\n",
              "      <td>0.961236</td>\n",
              "      <td>00:00</td>\n",
              "    </tr>\n",
              "    <tr>\n",
              "      <td>8</td>\n",
              "      <td>0.018458</td>\n",
              "      <td>0.041969</td>\n",
              "      <td>0.965162</td>\n",
              "      <td>00:00</td>\n",
              "    </tr>\n",
              "    <tr>\n",
              "      <td>9</td>\n",
              "      <td>0.017566</td>\n",
              "      <td>0.038557</td>\n",
              "      <td>0.967615</td>\n",
              "      <td>00:00</td>\n",
              "    </tr>\n",
              "  </tbody>\n",
              "</table>"
            ]
          },
          "metadata": {}
        }
      ]
    },
    {
      "cell_type": "code",
      "source": [
        "\n",
        "def simple_net(xb):\n",
        "  res = xb @ w1 + b1\n",
        "  res = res.max(tensor(0.0))"
      ],
      "metadata": {
        "id": "RdT3buYuSpvU"
      },
      "execution_count": null,
      "outputs": []
    }
  ],
  "metadata": {
    "kernelspec": {
      "display_name": "Python 3.10.4 ('fastai-uKESdbPE')",
      "language": "python",
      "name": "python3"
    },
    "language_info": {
      "codemirror_mode": {
        "name": "ipython",
        "version": 3
      },
      "file_extension": ".py",
      "mimetype": "text/x-python",
      "name": "python",
      "nbconvert_exporter": "python",
      "pygments_lexer": "ipython3",
      "version": "3.10.4"
    },
    "orig_nbformat": 4,
    "vscode": {
      "interpreter": {
        "hash": "050288d2022be8e25d7db2f9d2405199cd5d2e1ec843906d908c1bea0a5fcd45"
      }
    },
    "colab": {
      "name": "mnist.ipynb",
      "provenance": []
    }
  },
  "nbformat": 4,
  "nbformat_minor": 0
}