{
  "cells": [
    {
      "cell_type": "code",
      "source": [
        "! [ -e /content ] && pip install -Uqq fastbook\n"
      ],
      "metadata": {
        "id": "_AuZdWi6chHE"
      },
      "execution_count": null,
      "outputs": []
    },
    {
      "cell_type": "code",
      "execution_count": 107,
      "metadata": {
        "colab": {
          "resources": {
            "http://localhost:8080/nbextensions/google.colab/files.js": {
              "data": "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",
              "ok": true,
              "headers": [
                [
                  "content-type",
                  "application/javascript"
                ]
              ],
              "status": 200,
              "status_text": ""
            }
          },
          "base_uri": "https://localhost:8080/",
          "height": 38
        },
        "id": "tP_HSHUZcaQU",
        "outputId": "318a3f2b-abbc-4d33-9d46-2528e603b20f"
      },
      "outputs": [
        {
          "output_type": "display_data",
          "data": {
            "text/plain": [
              "<IPython.core.display.HTML object>"
            ],
            "text/html": [
              "\n",
              "     <input type=\"file\" id=\"files-e5b987bf-ac98-482e-af64-76ca8a1afeba\" name=\"files[]\" multiple disabled\n",
              "        style=\"border:none\" />\n",
              "     <output id=\"result-e5b987bf-ac98-482e-af64-76ca8a1afeba\">\n",
              "      Upload widget is only available when the cell has been executed in the\n",
              "      current browser session. Please rerun this cell to enable.\n",
              "      </output>\n",
              "      <script src=\"/nbextensions/google.colab/files.js\"></script> "
            ]
          },
          "metadata": {}
        }
      ],
      "source": [
        "from google.colab import files\n",
        "\n",
        "uploaded = files.upload()"
      ]
    },
    {
      "cell_type": "code",
      "execution_count": 108,
      "metadata": {
        "id": "6z4_LdL5caQW"
      },
      "outputs": [],
      "source": [
        "import os\n",
        "import json\n",
        "from fastbook import search_images_bing, download_url\n",
        "\n",
        "if uploaded:\n",
        "  api_key = json.loads(uploaded.get('colab_keys.json')).get('AZURE_API_KEY')\n",
        "else:\n",
        "  api_key = os.environ.get(\"AZURE_API_KEY\", 'XXX')\n"
      ]
    },
    {
      "cell_type": "code",
      "source": [
        "from fastai.vision.all import *\n",
        "import fastbook as fb"
      ],
      "metadata": {
        "id": "_q65pvbseQln"
      },
      "execution_count": 109,
      "outputs": []
    },
    {
      "cell_type": "code",
      "source": [
        "path = fb.untar_data(fb.URLs.MNIST_SAMPLE)\n",
        "fb.Path.BASE_PATH = path"
      ],
      "metadata": {
        "id": "PYGs5L4AeIgd"
      },
      "execution_count": 110,
      "outputs": []
    },
    {
      "cell_type": "code",
      "source": [
        "path.ls()"
      ],
      "metadata": {
        "colab": {
          "base_uri": "https://localhost:8080/"
        },
        "id": "vWGsa_Pkeqhv",
        "outputId": "2aedc0b4-3f57-4de6-f01d-f25da91f92c7"
      },
      "execution_count": 111,
      "outputs": [
        {
          "output_type": "execute_result",
          "data": {
            "text/plain": [
              "(#3) [Path('valid'),Path('train'),Path('labels.csv')]"
            ]
          },
          "metadata": {},
          "execution_count": 111
        }
      ]
    },
    {
      "cell_type": "code",
      "source": [
        "(path/'train').ls()"
      ],
      "metadata": {
        "colab": {
          "base_uri": "https://localhost:8080/"
        },
        "id": "xuuTSEe3e-Na",
        "outputId": "0ef7def6-1ed3-4452-b9cd-05ffd47bee7f"
      },
      "execution_count": 112,
      "outputs": [
        {
          "output_type": "execute_result",
          "data": {
            "text/plain": [
              "(#2) [Path('train/7'),Path('train/3')]"
            ]
          },
          "metadata": {},
          "execution_count": 112
        }
      ]
    },
    {
      "cell_type": "code",
      "source": [
        "threes = (path/'train'/'3').ls().sorted()\n",
        "sevens = (path/'train'/'7').ls().sorted()\n",
        "threes"
      ],
      "metadata": {
        "colab": {
          "base_uri": "https://localhost:8080/"
        },
        "id": "c1CqmpcbfJEs",
        "outputId": "5f34153b-c06e-44ca-b9e2-03431d005ea5"
      },
      "execution_count": 113,
      "outputs": [
        {
          "output_type": "execute_result",
          "data": {
            "text/plain": [
              "(#6131) [Path('train/3/10.png'),Path('train/3/10000.png'),Path('train/3/10011.png'),Path('train/3/10031.png'),Path('train/3/10034.png'),Path('train/3/10042.png'),Path('train/3/10052.png'),Path('train/3/1007.png'),Path('train/3/10074.png'),Path('train/3/10091.png')...]"
            ]
          },
          "metadata": {},
          "execution_count": 113
        }
      ]
    },
    {
      "cell_type": "code",
      "source": [
        "im3_path = threes[1]\n",
        "im3 = fb.Image.open(im3_path)\n",
        "im3"
      ],
      "metadata": {
        "colab": {
          "base_uri": "https://localhost:8080/",
          "height": 45
        },
        "id": "2z-5onM6fOHe",
        "outputId": "7a2c8545-45d6-4c12-d830-d687b0f3984e"
      },
      "execution_count": 114,
      "outputs": [
        {
          "output_type": "execute_result",
          "data": {
            "text/plain": [
              "<PIL.PngImagePlugin.PngImageFile image mode=L size=28x28>"
            ],
            "image/png": "[encoded data removed]"
          },
          "metadata": {},
          "execution_count": 114
        }
      ]
    },
    {
      "cell_type": "code",
      "source": [
        "fb.array(im3)[4:10,4:10]"
      ],
      "metadata": {
        "colab": {
          "base_uri": "https://localhost:8080/"
        },
        "id": "KO2b6V6gfXJb",
        "outputId": "da791578-4ece-481f-f841-64f86464722e"
      },
      "execution_count": 115,
      "outputs": [
        {
          "output_type": "execute_result",
          "data": {
            "text/plain": [
              "array([[  0,   0,   0,   0,   0,   0],\n",
              "       [  0,   0,   0,   0,   0,  29],\n",
              "       [  0,   0,   0,  48, 166, 224],\n",
              "       [  0,  93, 244, 249, 253, 187],\n",
              "       [  0, 107, 253, 253, 230,  48],\n",
              "       [  0,   3,  20,  20,  15,   0]], dtype=uint8)"
            ]
          },
          "metadata": {},
          "execution_count": 115
        }
      ]
    },
    {
      "cell_type": "code",
      "source": [
        "fb.tensor(im3)[4:10,4:10]"
      ],
      "metadata": {
        "colab": {
          "base_uri": "https://localhost:8080/"
        },
        "id": "71IOvluOfqtD",
        "outputId": "76cd38c4-accd-4088-f260-4030fb5a81d0"
      },
      "execution_count": 116,
      "outputs": [
        {
          "output_type": "execute_result",
          "data": {
            "text/plain": [
              "tensor([[  0,   0,   0,   0,   0,   0],\n",
              "        [  0,   0,   0,   0,   0,  29],\n",
              "        [  0,   0,   0,  48, 166, 224],\n",
              "        [  0,  93, 244, 249, 253, 187],\n",
              "        [  0, 107, 253, 253, 230,  48],\n",
              "        [  0,   3,  20,  20,  15,   0]], dtype=torch.uint8)"
            ]
          },
          "metadata": {},
          "execution_count": 116
        }
      ]
    },
    {
      "cell_type": "code",
      "source": [
        "im3_t = fb.tensor(im3)\n",
        "df = fb.pd.DataFrame(im3_t[4:15,4:22])\n",
        "df.style.set_properties(**{'font-size':'6pt'}).background_gradient('Greys')"
      ],
      "metadata": {
        "colab": {
          "base_uri": "https://localhost:8080/",
          "height": 394
        },
        "id": "eUkmjABtf0cJ",
        "outputId": "5cb10208-aa9a-44d1-81c4-c43c75ce631b"
      },
      "execution_count": 117,
      "outputs": [
        {
          "output_type": "execute_result",
          "data": {
            "text/plain": [
              "<pandas.io.formats.style.Styler at 0x7f53b7c70350>"
            ],
            "text/html": [
              "<style type=\"text/css\">\n",
              "#T_ed8f9_row0_col0, #T_ed8f9_row0_col1, #T_ed8f9_row0_col2, #T_ed8f9_row0_col3, #T_ed8f9_row0_col4, #T_ed8f9_row0_col5, #T_ed8f9_row0_col6, #T_ed8f9_row0_col7, #T_ed8f9_row0_col8, #T_ed8f9_row0_col9, #T_ed8f9_row0_col10, #T_ed8f9_row0_col11, #T_ed8f9_row0_col12, #T_ed8f9_row0_col13, #T_ed8f9_row0_col14, #T_ed8f9_row0_col15, #T_ed8f9_row0_col16, #T_ed8f9_row0_col17, #T_ed8f9_row1_col0, #T_ed8f9_row1_col1, #T_ed8f9_row1_col2, #T_ed8f9_row1_col3, #T_ed8f9_row1_col4, #T_ed8f9_row1_col15, #T_ed8f9_row1_col16, #T_ed8f9_row1_col17, #T_ed8f9_row2_col0, #T_ed8f9_row2_col1, #T_ed8f9_row2_col2, #T_ed8f9_row2_col15, #T_ed8f9_row2_col16, #T_ed8f9_row2_col17, #T_ed8f9_row3_col0, #T_ed8f9_row3_col15, #T_ed8f9_row3_col16, #T_ed8f9_row3_col17, #T_ed8f9_row4_col0, #T_ed8f9_row4_col6, #T_ed8f9_row4_col7, #T_ed8f9_row4_col8, #T_ed8f9_row4_col9, #T_ed8f9_row4_col10, #T_ed8f9_row4_col15, #T_ed8f9_row4_col16, #T_ed8f9_row4_col17, #T_ed8f9_row5_col0, #T_ed8f9_row5_col5, #T_ed8f9_row5_col6, #T_ed8f9_row5_col7, #T_ed8f9_row5_col8, #T_ed8f9_row5_col9, #T_ed8f9_row5_col15, #T_ed8f9_row5_col16, #T_ed8f9_row5_col17, #T_ed8f9_row6_col0, #T_ed8f9_row6_col1, #T_ed8f9_row6_col2, #T_ed8f9_row6_col3, #T_ed8f9_row6_col4, #T_ed8f9_row6_col5, #T_ed8f9_row6_col6, #T_ed8f9_row6_col7, #T_ed8f9_row6_col8, #T_ed8f9_row6_col9, #T_ed8f9_row6_col14, #T_ed8f9_row6_col15, #T_ed8f9_row6_col16, #T_ed8f9_row6_col17, #T_ed8f9_row7_col0, #T_ed8f9_row7_col1, #T_ed8f9_row7_col2, #T_ed8f9_row7_col3, #T_ed8f9_row7_col4, #T_ed8f9_row7_col5, #T_ed8f9_row7_col6, #T_ed8f9_row7_col13, #T_ed8f9_row7_col14, #T_ed8f9_row7_col15, #T_ed8f9_row7_col16, #T_ed8f9_row7_col17, #T_ed8f9_row8_col0, #T_ed8f9_row8_col1, #T_ed8f9_row8_col2, #T_ed8f9_row8_col3, #T_ed8f9_row8_col4, #T_ed8f9_row8_col13, #T_ed8f9_row8_col14, #T_ed8f9_row8_col15, #T_ed8f9_row8_col16, #T_ed8f9_row8_col17, #T_ed8f9_row9_col0, #T_ed8f9_row9_col1, #T_ed8f9_row9_col2, #T_ed8f9_row9_col3, #T_ed8f9_row9_col4, #T_ed8f9_row9_col16, #T_ed8f9_row9_col17, #T_ed8f9_row10_col0, #T_ed8f9_row10_col1, #T_ed8f9_row10_col2, #T_ed8f9_row10_col3, #T_ed8f9_row10_col4, #T_ed8f9_row10_col5, #T_ed8f9_row10_col6, #T_ed8f9_row10_col17 {\n",
              "  font-size: 6pt;\n",
              "  background-color: #ffffff;\n",
              "  color: #000000;\n",
              "}\n",
              "#T_ed8f9_row1_col5 {\n",
              "  font-size: 6pt;\n",
              "  background-color: #efefef;\n",
              "  color: #000000;\n",
              "}\n",
              "#T_ed8f9_row1_col6, #T_ed8f9_row1_col13 {\n",
              "  font-size: 6pt;\n",
              "  background-color: #7c7c7c;\n",
              "  color: #f1f1f1;\n",
              "}\n",
              "#T_ed8f9_row1_col7 {\n",
              "  font-size: 6pt;\n",
              "  background-color: #4a4a4a;\n",
              "  color: #f1f1f1;\n",
              "}\n",
              "#T_ed8f9_row1_col8, #T_ed8f9_row1_col9, #T_ed8f9_row1_col10, #T_ed8f9_row2_col5, #T_ed8f9_row2_col6, #T_ed8f9_row2_col7, #T_ed8f9_row2_col11, #T_ed8f9_row2_col12, #T_ed8f9_row2_col13, #T_ed8f9_row3_col4, #T_ed8f9_row3_col12, #T_ed8f9_row3_col13, #T_ed8f9_row4_col1, #T_ed8f9_row4_col2, #T_ed8f9_row4_col3, #T_ed8f9_row4_col12, #T_ed8f9_row4_col13, #T_ed8f9_row5_col12, #T_ed8f9_row6_col11, #T_ed8f9_row9_col11, #T_ed8f9_row10_col11, #T_ed8f9_row10_col12, #T_ed8f9_row10_col13, #T_ed8f9_row10_col14, #T_ed8f9_row10_col15, #T_ed8f9_row10_col16 {\n",
              "  font-size: 6pt;\n",
              "  background-color: #000000;\n",
              "  color: #f1f1f1;\n",
              "}\n",
              "#T_ed8f9_row1_col11 {\n",
              "  font-size: 6pt;\n",
              "  background-color: #606060;\n",
              "  color: #f1f1f1;\n",
              "}\n",
              "#T_ed8f9_row1_col12 {\n",
              "  font-size: 6pt;\n",
              "  background-color: #4d4d4d;\n",
              "  color: #f1f1f1;\n",
              "}\n",
              "#T_ed8f9_row1_col14 {\n",
              "  font-size: 6pt;\n",
              "  background-color: #bbbbbb;\n",
              "  color: #000000;\n",
              "}\n",
              "#T_ed8f9_row2_col3 {\n",
              "  font-size: 6pt;\n",
              "  background-color: #e4e4e4;\n",
              "  color: #000000;\n",
              "}\n",
              "#T_ed8f9_row2_col4, #T_ed8f9_row8_col6 {\n",
              "  font-size: 6pt;\n",
              "  background-color: #6b6b6b;\n",
              "  color: #f1f1f1;\n",
              "}\n",
              "#T_ed8f9_row2_col8, #T_ed8f9_row2_col14, #T_ed8f9_row3_col14 {\n",
              "  font-size: 6pt;\n",
              "  background-color: #171717;\n",
              "  color: #f1f1f1;\n",
              "}\n",
              "#T_ed8f9_row2_col9, #T_ed8f9_row3_col11 {\n",
              "  font-size: 6pt;\n",
              "  background-color: #4b4b4b;\n",
              "  color: #f1f1f1;\n",
              "}\n",
              "#T_ed8f9_row2_col10, #T_ed8f9_row7_col10, #T_ed8f9_row8_col8, #T_ed8f9_row8_col10, #T_ed8f9_row9_col8, #T_ed8f9_row9_col10 {\n",
              "  font-size: 6pt;\n",
              "  background-color: #010101;\n",
              "  color: #f1f1f1;\n",
              "}\n",
              "#T_ed8f9_row3_col1 {\n",
              "  font-size: 6pt;\n",
              "  background-color: #272727;\n",
              "  color: #f1f1f1;\n",
              "}\n",
              "#T_ed8f9_row3_col2 {\n",
              "  font-size: 6pt;\n",
              "  background-color: #0a0a0a;\n",
              "  color: #f1f1f1;\n",
              "}\n",
              "#T_ed8f9_row3_col3 {\n",
              "  font-size: 6pt;\n",
              "  background-color: #050505;\n",
              "  color: #f1f1f1;\n",
              "}\n",
              "#T_ed8f9_row3_col5 {\n",
              "  font-size: 6pt;\n",
              "  background-color: #333333;\n",
              "  color: #f1f1f1;\n",
              "}\n",
              "#T_ed8f9_row3_col6 {\n",
              "  font-size: 6pt;\n",
              "  background-color: #e6e6e6;\n",
              "  color: #000000;\n",
              "}\n",
              "#T_ed8f9_row3_col7, #T_ed8f9_row3_col10 {\n",
              "  font-size: 6pt;\n",
              "  background-color: #fafafa;\n",
              "  color: #000000;\n",
              "}\n",
              "#T_ed8f9_row3_col8 {\n",
              "  font-size: 6pt;\n",
              "  background-color: #fbfbfb;\n",
              "  color: #000000;\n",
              "}\n",
              "#T_ed8f9_row3_col9 {\n",
              "  font-size: 6pt;\n",
              "  background-color: #fdfdfd;\n",
              "  color: #000000;\n",
              "}\n",
              "#T_ed8f9_row4_col4 {\n",
              "  font-size: 6pt;\n",
              "  background-color: #1b1b1b;\n",
              "  color: #f1f1f1;\n",
              "}\n",
              "#T_ed8f9_row4_col5 {\n",
              "  font-size: 6pt;\n",
              "  background-color: #e0e0e0;\n",
              "  color: #000000;\n",
              "}\n",
              "#T_ed8f9_row4_col11 {\n",
              "  font-size: 6pt;\n",
              "  background-color: #4e4e4e;\n",
              "  color: #f1f1f1;\n",
              "}\n",
              "#T_ed8f9_row4_col14 {\n",
              "  font-size: 6pt;\n",
              "  background-color: #767676;\n",
              "  color: #f1f1f1;\n",
              "}\n",
              "#T_ed8f9_row5_col1 {\n",
              "  font-size: 6pt;\n",
              "  background-color: #fcfcfc;\n",
              "  color: #000000;\n",
              "}\n",
              "#T_ed8f9_row5_col2, #T_ed8f9_row5_col3 {\n",
              "  font-size: 6pt;\n",
              "  background-color: #f6f6f6;\n",
              "  color: #000000;\n",
              "}\n",
              "#T_ed8f9_row5_col4, #T_ed8f9_row7_col7 {\n",
              "  font-size: 6pt;\n",
              "  background-color: #f8f8f8;\n",
              "  color: #000000;\n",
              "}\n",
              "#T_ed8f9_row5_col10, #T_ed8f9_row10_col7 {\n",
              "  font-size: 6pt;\n",
              "  background-color: #e8e8e8;\n",
              "  color: #000000;\n",
              "}\n",
              "#T_ed8f9_row5_col11 {\n",
              "  font-size: 6pt;\n",
              "  background-color: #222222;\n",
              "  color: #f1f1f1;\n",
              "}\n",
              "#T_ed8f9_row5_col13, #T_ed8f9_row6_col12 {\n",
              "  font-size: 6pt;\n",
              "  background-color: #090909;\n",
              "  color: #f1f1f1;\n",
              "}\n",
              "#T_ed8f9_row5_col14 {\n",
              "  font-size: 6pt;\n",
              "  background-color: #d0d0d0;\n",
              "  color: #000000;\n",
              "}\n",
              "#T_ed8f9_row6_col10, #T_ed8f9_row7_col11, #T_ed8f9_row9_col6 {\n",
              "  font-size: 6pt;\n",
              "  background-color: #060606;\n",
              "  color: #f1f1f1;\n",
              "}\n",
              "#T_ed8f9_row6_col13 {\n",
              "  font-size: 6pt;\n",
              "  background-color: #979797;\n",
              "  color: #f1f1f1;\n",
              "}\n",
              "#T_ed8f9_row7_col8 {\n",
              "  font-size: 6pt;\n",
              "  background-color: #b6b6b6;\n",
              "  color: #000000;\n",
              "}\n",
              "#T_ed8f9_row7_col9 {\n",
              "  font-size: 6pt;\n",
              "  background-color: #252525;\n",
              "  color: #f1f1f1;\n",
              "}\n",
              "#T_ed8f9_row7_col12 {\n",
              "  font-size: 6pt;\n",
              "  background-color: #999999;\n",
              "  color: #f1f1f1;\n",
              "}\n",
              "#T_ed8f9_row8_col5 {\n",
              "  font-size: 6pt;\n",
              "  background-color: #f9f9f9;\n",
              "  color: #000000;\n",
              "}\n",
              "#T_ed8f9_row8_col7 {\n",
              "  font-size: 6pt;\n",
              "  background-color: #101010;\n",
              "  color: #f1f1f1;\n",
              "}\n",
              "#T_ed8f9_row8_col9, #T_ed8f9_row9_col9 {\n",
              "  font-size: 6pt;\n",
              "  background-color: #020202;\n",
              "  color: #f1f1f1;\n",
              "}\n",
              "#T_ed8f9_row8_col11 {\n",
              "  font-size: 6pt;\n",
              "  background-color: #545454;\n",
              "  color: #f1f1f1;\n",
              "}\n",
              "#T_ed8f9_row8_col12 {\n",
              "  font-size: 6pt;\n",
              "  background-color: #f1f1f1;\n",
              "  color: #000000;\n",
              "}\n",
              "#T_ed8f9_row9_col5 {\n",
              "  font-size: 6pt;\n",
              "  background-color: #f7f7f7;\n",
              "  color: #000000;\n",
              "}\n",
              "#T_ed8f9_row9_col7 {\n",
              "  font-size: 6pt;\n",
              "  background-color: #030303;\n",
              "  color: #f1f1f1;\n",
              "}\n",
              "#T_ed8f9_row9_col12 {\n",
              "  font-size: 6pt;\n",
              "  background-color: #181818;\n",
              "  color: #f1f1f1;\n",
              "}\n",
              "#T_ed8f9_row9_col13 {\n",
              "  font-size: 6pt;\n",
              "  background-color: #303030;\n",
              "  color: #f1f1f1;\n",
              "}\n",
              "#T_ed8f9_row9_col14 {\n",
              "  font-size: 6pt;\n",
              "  background-color: #a9a9a9;\n",
              "  color: #f1f1f1;\n",
              "}\n",
              "#T_ed8f9_row9_col15 {\n",
              "  font-size: 6pt;\n",
              "  background-color: #fefefe;\n",
              "  color: #000000;\n",
              "}\n",
              "#T_ed8f9_row10_col8, #T_ed8f9_row10_col9 {\n",
              "  font-size: 6pt;\n",
              "  background-color: #bababa;\n",
              "  color: #000000;\n",
              "}\n",
              "#T_ed8f9_row10_col10 {\n",
              "  font-size: 6pt;\n",
              "  background-color: #393939;\n",
              "  color: #f1f1f1;\n",
              "}\n",
              "</style>\n",
              "<table id=\"T_ed8f9_\" class=\"dataframe\">\n",
              "  <thead>\n",
              "    <tr>\n",
              "      <th class=\"blank level0\" >&nbsp;</th>\n",
              "      <th class=\"col_heading level0 col0\" >0</th>\n",
              "      <th class=\"col_heading level0 col1\" >1</th>\n",
              "      <th class=\"col_heading level0 col2\" >2</th>\n",
              "      <th class=\"col_heading level0 col3\" >3</th>\n",
              "      <th class=\"col_heading level0 col4\" >4</th>\n",
              "      <th class=\"col_heading level0 col5\" >5</th>\n",
              "      <th class=\"col_heading level0 col6\" >6</th>\n",
              "      <th class=\"col_heading level0 col7\" >7</th>\n",
              "      <th class=\"col_heading level0 col8\" >8</th>\n",
              "      <th class=\"col_heading level0 col9\" >9</th>\n",
              "      <th class=\"col_heading level0 col10\" >10</th>\n",
              "      <th class=\"col_heading level0 col11\" >11</th>\n",
              "      <th class=\"col_heading level0 col12\" >12</th>\n",
              "      <th class=\"col_heading level0 col13\" >13</th>\n",
              "      <th class=\"col_heading level0 col14\" >14</th>\n",
              "      <th class=\"col_heading level0 col15\" >15</th>\n",
              "      <th class=\"col_heading level0 col16\" >16</th>\n",
              "      <th class=\"col_heading level0 col17\" >17</th>\n",
              "    </tr>\n",
              "  </thead>\n",
              "  <tbody>\n",
              "    <tr>\n",
              "      <th id=\"T_ed8f9_level0_row0\" class=\"row_heading level0 row0\" >0</th>\n",
              "      <td id=\"T_ed8f9_row0_col0\" class=\"data row0 col0\" >0</td>\n",
              "      <td id=\"T_ed8f9_row0_col1\" class=\"data row0 col1\" >0</td>\n",
              "      <td id=\"T_ed8f9_row0_col2\" class=\"data row0 col2\" >0</td>\n",
              "      <td id=\"T_ed8f9_row0_col3\" class=\"data row0 col3\" >0</td>\n",
              "      <td id=\"T_ed8f9_row0_col4\" class=\"data row0 col4\" >0</td>\n",
              "      <td id=\"T_ed8f9_row0_col5\" class=\"data row0 col5\" >0</td>\n",
              "      <td id=\"T_ed8f9_row0_col6\" class=\"data row0 col6\" >0</td>\n",
              "      <td id=\"T_ed8f9_row0_col7\" class=\"data row0 col7\" >0</td>\n",
              "      <td id=\"T_ed8f9_row0_col8\" class=\"data row0 col8\" >0</td>\n",
              "      <td id=\"T_ed8f9_row0_col9\" class=\"data row0 col9\" >0</td>\n",
              "      <td id=\"T_ed8f9_row0_col10\" class=\"data row0 col10\" >0</td>\n",
              "      <td id=\"T_ed8f9_row0_col11\" class=\"data row0 col11\" >0</td>\n",
              "      <td id=\"T_ed8f9_row0_col12\" class=\"data row0 col12\" >0</td>\n",
              "      <td id=\"T_ed8f9_row0_col13\" class=\"data row0 col13\" >0</td>\n",
              "      <td id=\"T_ed8f9_row0_col14\" class=\"data row0 col14\" >0</td>\n",
              "      <td id=\"T_ed8f9_row0_col15\" class=\"data row0 col15\" >0</td>\n",
              "      <td id=\"T_ed8f9_row0_col16\" class=\"data row0 col16\" >0</td>\n",
              "      <td id=\"T_ed8f9_row0_col17\" class=\"data row0 col17\" >0</td>\n",
              "    </tr>\n",
              "    <tr>\n",
              "      <th id=\"T_ed8f9_level0_row1\" class=\"row_heading level0 row1\" >1</th>\n",
              "      <td id=\"T_ed8f9_row1_col0\" class=\"data row1 col0\" >0</td>\n",
              "      <td id=\"T_ed8f9_row1_col1\" class=\"data row1 col1\" >0</td>\n",
              "      <td id=\"T_ed8f9_row1_col2\" class=\"data row1 col2\" >0</td>\n",
              "      <td id=\"T_ed8f9_row1_col3\" class=\"data row1 col3\" >0</td>\n",
              "      <td id=\"T_ed8f9_row1_col4\" class=\"data row1 col4\" >0</td>\n",
              "      <td id=\"T_ed8f9_row1_col5\" class=\"data row1 col5\" >29</td>\n",
              "      <td id=\"T_ed8f9_row1_col6\" class=\"data row1 col6\" >150</td>\n",
              "      <td id=\"T_ed8f9_row1_col7\" class=\"data row1 col7\" >195</td>\n",
              "      <td id=\"T_ed8f9_row1_col8\" class=\"data row1 col8\" >254</td>\n",
              "      <td id=\"T_ed8f9_row1_col9\" class=\"data row1 col9\" >255</td>\n",
              "      <td id=\"T_ed8f9_row1_col10\" class=\"data row1 col10\" >254</td>\n",
              "      <td id=\"T_ed8f9_row1_col11\" class=\"data row1 col11\" >176</td>\n",
              "      <td id=\"T_ed8f9_row1_col12\" class=\"data row1 col12\" >193</td>\n",
              "      <td id=\"T_ed8f9_row1_col13\" class=\"data row1 col13\" >150</td>\n",
              "      <td id=\"T_ed8f9_row1_col14\" class=\"data row1 col14\" >96</td>\n",
              "      <td id=\"T_ed8f9_row1_col15\" class=\"data row1 col15\" >0</td>\n",
              "      <td id=\"T_ed8f9_row1_col16\" class=\"data row1 col16\" >0</td>\n",
              "      <td id=\"T_ed8f9_row1_col17\" class=\"data row1 col17\" >0</td>\n",
              "    </tr>\n",
              "    <tr>\n",
              "      <th id=\"T_ed8f9_level0_row2\" class=\"row_heading level0 row2\" >2</th>\n",
              "      <td id=\"T_ed8f9_row2_col0\" class=\"data row2 col0\" >0</td>\n",
              "      <td id=\"T_ed8f9_row2_col1\" class=\"data row2 col1\" >0</td>\n",
              "      <td id=\"T_ed8f9_row2_col2\" class=\"data row2 col2\" >0</td>\n",
              "      <td id=\"T_ed8f9_row2_col3\" class=\"data row2 col3\" >48</td>\n",
              "      <td id=\"T_ed8f9_row2_col4\" class=\"data row2 col4\" >166</td>\n",
              "      <td id=\"T_ed8f9_row2_col5\" class=\"data row2 col5\" >224</td>\n",
              "      <td id=\"T_ed8f9_row2_col6\" class=\"data row2 col6\" >253</td>\n",
              "      <td id=\"T_ed8f9_row2_col7\" class=\"data row2 col7\" >253</td>\n",
              "      <td id=\"T_ed8f9_row2_col8\" class=\"data row2 col8\" >234</td>\n",
              "      <td id=\"T_ed8f9_row2_col9\" class=\"data row2 col9\" >196</td>\n",
              "      <td id=\"T_ed8f9_row2_col10\" class=\"data row2 col10\" >253</td>\n",
              "      <td id=\"T_ed8f9_row2_col11\" class=\"data row2 col11\" >253</td>\n",
              "      <td id=\"T_ed8f9_row2_col12\" class=\"data row2 col12\" >253</td>\n",
              "      <td id=\"T_ed8f9_row2_col13\" class=\"data row2 col13\" >253</td>\n",
              "      <td id=\"T_ed8f9_row2_col14\" class=\"data row2 col14\" >233</td>\n",
              "      <td id=\"T_ed8f9_row2_col15\" class=\"data row2 col15\" >0</td>\n",
              "      <td id=\"T_ed8f9_row2_col16\" class=\"data row2 col16\" >0</td>\n",
              "      <td id=\"T_ed8f9_row2_col17\" class=\"data row2 col17\" >0</td>\n",
              "    </tr>\n",
              "    <tr>\n",
              "      <th id=\"T_ed8f9_level0_row3\" class=\"row_heading level0 row3\" >3</th>\n",
              "      <td id=\"T_ed8f9_row3_col0\" class=\"data row3 col0\" >0</td>\n",
              "      <td id=\"T_ed8f9_row3_col1\" class=\"data row3 col1\" >93</td>\n",
              "      <td id=\"T_ed8f9_row3_col2\" class=\"data row3 col2\" >244</td>\n",
              "      <td id=\"T_ed8f9_row3_col3\" class=\"data row3 col3\" >249</td>\n",
              "      <td id=\"T_ed8f9_row3_col4\" class=\"data row3 col4\" >253</td>\n",
              "      <td id=\"T_ed8f9_row3_col5\" class=\"data row3 col5\" >187</td>\n",
              "      <td id=\"T_ed8f9_row3_col6\" class=\"data row3 col6\" >46</td>\n",
              "      <td id=\"T_ed8f9_row3_col7\" class=\"data row3 col7\" >10</td>\n",
              "      <td id=\"T_ed8f9_row3_col8\" class=\"data row3 col8\" >8</td>\n",
              "      <td id=\"T_ed8f9_row3_col9\" class=\"data row3 col9\" >4</td>\n",
              "      <td id=\"T_ed8f9_row3_col10\" class=\"data row3 col10\" >10</td>\n",
              "      <td id=\"T_ed8f9_row3_col11\" class=\"data row3 col11\" >194</td>\n",
              "      <td id=\"T_ed8f9_row3_col12\" class=\"data row3 col12\" >253</td>\n",
              "      <td id=\"T_ed8f9_row3_col13\" class=\"data row3 col13\" >253</td>\n",
              "      <td id=\"T_ed8f9_row3_col14\" class=\"data row3 col14\" >233</td>\n",
              "      <td id=\"T_ed8f9_row3_col15\" class=\"data row3 col15\" >0</td>\n",
              "      <td id=\"T_ed8f9_row3_col16\" class=\"data row3 col16\" >0</td>\n",
              "      <td id=\"T_ed8f9_row3_col17\" class=\"data row3 col17\" >0</td>\n",
              "    </tr>\n",
              "    <tr>\n",
              "      <th id=\"T_ed8f9_level0_row4\" class=\"row_heading level0 row4\" >4</th>\n",
              "      <td id=\"T_ed8f9_row4_col0\" class=\"data row4 col0\" >0</td>\n",
              "      <td id=\"T_ed8f9_row4_col1\" class=\"data row4 col1\" >107</td>\n",
              "      <td id=\"T_ed8f9_row4_col2\" class=\"data row4 col2\" >253</td>\n",
              "      <td id=\"T_ed8f9_row4_col3\" class=\"data row4 col3\" >253</td>\n",
              "      <td id=\"T_ed8f9_row4_col4\" class=\"data row4 col4\" >230</td>\n",
              "      <td id=\"T_ed8f9_row4_col5\" class=\"data row4 col5\" >48</td>\n",
              "      <td id=\"T_ed8f9_row4_col6\" class=\"data row4 col6\" >0</td>\n",
              "      <td id=\"T_ed8f9_row4_col7\" class=\"data row4 col7\" >0</td>\n",
              "      <td id=\"T_ed8f9_row4_col8\" class=\"data row4 col8\" >0</td>\n",
              "      <td id=\"T_ed8f9_row4_col9\" class=\"data row4 col9\" >0</td>\n",
              "      <td id=\"T_ed8f9_row4_col10\" class=\"data row4 col10\" >0</td>\n",
              "      <td id=\"T_ed8f9_row4_col11\" class=\"data row4 col11\" >192</td>\n",
              "      <td id=\"T_ed8f9_row4_col12\" class=\"data row4 col12\" >253</td>\n",
              "      <td id=\"T_ed8f9_row4_col13\" class=\"data row4 col13\" >253</td>\n",
              "      <td id=\"T_ed8f9_row4_col14\" class=\"data row4 col14\" >156</td>\n",
              "      <td id=\"T_ed8f9_row4_col15\" class=\"data row4 col15\" >0</td>\n",
              "      <td id=\"T_ed8f9_row4_col16\" class=\"data row4 col16\" >0</td>\n",
              "      <td id=\"T_ed8f9_row4_col17\" class=\"data row4 col17\" >0</td>\n",
              "    </tr>\n",
              "    <tr>\n",
              "      <th id=\"T_ed8f9_level0_row5\" class=\"row_heading level0 row5\" >5</th>\n",
              "      <td id=\"T_ed8f9_row5_col0\" class=\"data row5 col0\" >0</td>\n",
              "      <td id=\"T_ed8f9_row5_col1\" class=\"data row5 col1\" >3</td>\n",
              "      <td id=\"T_ed8f9_row5_col2\" class=\"data row5 col2\" >20</td>\n",
              "      <td id=\"T_ed8f9_row5_col3\" class=\"data row5 col3\" >20</td>\n",
              "      <td id=\"T_ed8f9_row5_col4\" class=\"data row5 col4\" >15</td>\n",
              "      <td id=\"T_ed8f9_row5_col5\" class=\"data row5 col5\" >0</td>\n",
              "      <td id=\"T_ed8f9_row5_col6\" class=\"data row5 col6\" >0</td>\n",
              "      <td id=\"T_ed8f9_row5_col7\" class=\"data row5 col7\" >0</td>\n",
              "      <td id=\"T_ed8f9_row5_col8\" class=\"data row5 col8\" >0</td>\n",
              "      <td id=\"T_ed8f9_row5_col9\" class=\"data row5 col9\" >0</td>\n",
              "      <td id=\"T_ed8f9_row5_col10\" class=\"data row5 col10\" >43</td>\n",
              "      <td id=\"T_ed8f9_row5_col11\" class=\"data row5 col11\" >224</td>\n",
              "      <td id=\"T_ed8f9_row5_col12\" class=\"data row5 col12\" >253</td>\n",
              "      <td id=\"T_ed8f9_row5_col13\" class=\"data row5 col13\" >245</td>\n",
              "      <td id=\"T_ed8f9_row5_col14\" class=\"data row5 col14\" >74</td>\n",
              "      <td id=\"T_ed8f9_row5_col15\" class=\"data row5 col15\" >0</td>\n",
              "      <td id=\"T_ed8f9_row5_col16\" class=\"data row5 col16\" >0</td>\n",
              "      <td id=\"T_ed8f9_row5_col17\" class=\"data row5 col17\" >0</td>\n",
              "    </tr>\n",
              "    <tr>\n",
              "      <th id=\"T_ed8f9_level0_row6\" class=\"row_heading level0 row6\" >6</th>\n",
              "      <td id=\"T_ed8f9_row6_col0\" class=\"data row6 col0\" >0</td>\n",
              "      <td id=\"T_ed8f9_row6_col1\" class=\"data row6 col1\" >0</td>\n",
              "      <td id=\"T_ed8f9_row6_col2\" class=\"data row6 col2\" >0</td>\n",
              "      <td id=\"T_ed8f9_row6_col3\" class=\"data row6 col3\" >0</td>\n",
              "      <td id=\"T_ed8f9_row6_col4\" class=\"data row6 col4\" >0</td>\n",
              "      <td id=\"T_ed8f9_row6_col5\" class=\"data row6 col5\" >0</td>\n",
              "      <td id=\"T_ed8f9_row6_col6\" class=\"data row6 col6\" >0</td>\n",
              "      <td id=\"T_ed8f9_row6_col7\" class=\"data row6 col7\" >0</td>\n",
              "      <td id=\"T_ed8f9_row6_col8\" class=\"data row6 col8\" >0</td>\n",
              "      <td id=\"T_ed8f9_row6_col9\" class=\"data row6 col9\" >0</td>\n",
              "      <td id=\"T_ed8f9_row6_col10\" class=\"data row6 col10\" >249</td>\n",
              "      <td id=\"T_ed8f9_row6_col11\" class=\"data row6 col11\" >253</td>\n",
              "      <td id=\"T_ed8f9_row6_col12\" class=\"data row6 col12\" >245</td>\n",
              "      <td id=\"T_ed8f9_row6_col13\" class=\"data row6 col13\" >126</td>\n",
              "      <td id=\"T_ed8f9_row6_col14\" class=\"data row6 col14\" >0</td>\n",
              "      <td id=\"T_ed8f9_row6_col15\" class=\"data row6 col15\" >0</td>\n",
              "      <td id=\"T_ed8f9_row6_col16\" class=\"data row6 col16\" >0</td>\n",
              "      <td id=\"T_ed8f9_row6_col17\" class=\"data row6 col17\" >0</td>\n",
              "    </tr>\n",
              "    <tr>\n",
              "      <th id=\"T_ed8f9_level0_row7\" class=\"row_heading level0 row7\" >7</th>\n",
              "      <td id=\"T_ed8f9_row7_col0\" class=\"data row7 col0\" >0</td>\n",
              "      <td id=\"T_ed8f9_row7_col1\" class=\"data row7 col1\" >0</td>\n",
              "      <td id=\"T_ed8f9_row7_col2\" class=\"data row7 col2\" >0</td>\n",
              "      <td id=\"T_ed8f9_row7_col3\" class=\"data row7 col3\" >0</td>\n",
              "      <td id=\"T_ed8f9_row7_col4\" class=\"data row7 col4\" >0</td>\n",
              "      <td id=\"T_ed8f9_row7_col5\" class=\"data row7 col5\" >0</td>\n",
              "      <td id=\"T_ed8f9_row7_col6\" class=\"data row7 col6\" >0</td>\n",
              "      <td id=\"T_ed8f9_row7_col7\" class=\"data row7 col7\" >14</td>\n",
              "      <td id=\"T_ed8f9_row7_col8\" class=\"data row7 col8\" >101</td>\n",
              "      <td id=\"T_ed8f9_row7_col9\" class=\"data row7 col9\" >223</td>\n",
              "      <td id=\"T_ed8f9_row7_col10\" class=\"data row7 col10\" >253</td>\n",
              "      <td id=\"T_ed8f9_row7_col11\" class=\"data row7 col11\" >248</td>\n",
              "      <td id=\"T_ed8f9_row7_col12\" class=\"data row7 col12\" >124</td>\n",
              "      <td id=\"T_ed8f9_row7_col13\" class=\"data row7 col13\" >0</td>\n",
              "      <td id=\"T_ed8f9_row7_col14\" class=\"data row7 col14\" >0</td>\n",
              "      <td id=\"T_ed8f9_row7_col15\" class=\"data row7 col15\" >0</td>\n",
              "      <td id=\"T_ed8f9_row7_col16\" class=\"data row7 col16\" >0</td>\n",
              "      <td id=\"T_ed8f9_row7_col17\" class=\"data row7 col17\" >0</td>\n",
              "    </tr>\n",
              "    <tr>\n",
              "      <th id=\"T_ed8f9_level0_row8\" class=\"row_heading level0 row8\" >8</th>\n",
              "      <td id=\"T_ed8f9_row8_col0\" class=\"data row8 col0\" >0</td>\n",
              "      <td id=\"T_ed8f9_row8_col1\" class=\"data row8 col1\" >0</td>\n",
              "      <td id=\"T_ed8f9_row8_col2\" class=\"data row8 col2\" >0</td>\n",
              "      <td id=\"T_ed8f9_row8_col3\" class=\"data row8 col3\" >0</td>\n",
              "      <td id=\"T_ed8f9_row8_col4\" class=\"data row8 col4\" >0</td>\n",
              "      <td id=\"T_ed8f9_row8_col5\" class=\"data row8 col5\" >11</td>\n",
              "      <td id=\"T_ed8f9_row8_col6\" class=\"data row8 col6\" >166</td>\n",
              "      <td id=\"T_ed8f9_row8_col7\" class=\"data row8 col7\" >239</td>\n",
              "      <td id=\"T_ed8f9_row8_col8\" class=\"data row8 col8\" >253</td>\n",
              "      <td id=\"T_ed8f9_row8_col9\" class=\"data row8 col9\" >253</td>\n",
              "      <td id=\"T_ed8f9_row8_col10\" class=\"data row8 col10\" >253</td>\n",
              "      <td id=\"T_ed8f9_row8_col11\" class=\"data row8 col11\" >187</td>\n",
              "      <td id=\"T_ed8f9_row8_col12\" class=\"data row8 col12\" >30</td>\n",
              "      <td id=\"T_ed8f9_row8_col13\" class=\"data row8 col13\" >0</td>\n",
              "      <td id=\"T_ed8f9_row8_col14\" class=\"data row8 col14\" >0</td>\n",
              "      <td id=\"T_ed8f9_row8_col15\" class=\"data row8 col15\" >0</td>\n",
              "      <td id=\"T_ed8f9_row8_col16\" class=\"data row8 col16\" >0</td>\n",
              "      <td id=\"T_ed8f9_row8_col17\" class=\"data row8 col17\" >0</td>\n",
              "    </tr>\n",
              "    <tr>\n",
              "      <th id=\"T_ed8f9_level0_row9\" class=\"row_heading level0 row9\" >9</th>\n",
              "      <td id=\"T_ed8f9_row9_col0\" class=\"data row9 col0\" >0</td>\n",
              "      <td id=\"T_ed8f9_row9_col1\" class=\"data row9 col1\" >0</td>\n",
              "      <td id=\"T_ed8f9_row9_col2\" class=\"data row9 col2\" >0</td>\n",
              "      <td id=\"T_ed8f9_row9_col3\" class=\"data row9 col3\" >0</td>\n",
              "      <td id=\"T_ed8f9_row9_col4\" class=\"data row9 col4\" >0</td>\n",
              "      <td id=\"T_ed8f9_row9_col5\" class=\"data row9 col5\" >16</td>\n",
              "      <td id=\"T_ed8f9_row9_col6\" class=\"data row9 col6\" >248</td>\n",
              "      <td id=\"T_ed8f9_row9_col7\" class=\"data row9 col7\" >250</td>\n",
              "      <td id=\"T_ed8f9_row9_col8\" class=\"data row9 col8\" >253</td>\n",
              "      <td id=\"T_ed8f9_row9_col9\" class=\"data row9 col9\" >253</td>\n",
              "      <td id=\"T_ed8f9_row9_col10\" class=\"data row9 col10\" >253</td>\n",
              "      <td id=\"T_ed8f9_row9_col11\" class=\"data row9 col11\" >253</td>\n",
              "      <td id=\"T_ed8f9_row9_col12\" class=\"data row9 col12\" >232</td>\n",
              "      <td id=\"T_ed8f9_row9_col13\" class=\"data row9 col13\" >213</td>\n",
              "      <td id=\"T_ed8f9_row9_col14\" class=\"data row9 col14\" >111</td>\n",
              "      <td id=\"T_ed8f9_row9_col15\" class=\"data row9 col15\" >2</td>\n",
              "      <td id=\"T_ed8f9_row9_col16\" class=\"data row9 col16\" >0</td>\n",
              "      <td id=\"T_ed8f9_row9_col17\" class=\"data row9 col17\" >0</td>\n",
              "    </tr>\n",
              "    <tr>\n",
              "      <th id=\"T_ed8f9_level0_row10\" class=\"row_heading level0 row10\" >10</th>\n",
              "      <td id=\"T_ed8f9_row10_col0\" class=\"data row10 col0\" >0</td>\n",
              "      <td id=\"T_ed8f9_row10_col1\" class=\"data row10 col1\" >0</td>\n",
              "      <td id=\"T_ed8f9_row10_col2\" class=\"data row10 col2\" >0</td>\n",
              "      <td id=\"T_ed8f9_row10_col3\" class=\"data row10 col3\" >0</td>\n",
              "      <td id=\"T_ed8f9_row10_col4\" class=\"data row10 col4\" >0</td>\n",
              "      <td id=\"T_ed8f9_row10_col5\" class=\"data row10 col5\" >0</td>\n",
              "      <td id=\"T_ed8f9_row10_col6\" class=\"data row10 col6\" >0</td>\n",
              "      <td id=\"T_ed8f9_row10_col7\" class=\"data row10 col7\" >43</td>\n",
              "      <td id=\"T_ed8f9_row10_col8\" class=\"data row10 col8\" >98</td>\n",
              "      <td id=\"T_ed8f9_row10_col9\" class=\"data row10 col9\" >98</td>\n",
              "      <td id=\"T_ed8f9_row10_col10\" class=\"data row10 col10\" >208</td>\n",
              "      <td id=\"T_ed8f9_row10_col11\" class=\"data row10 col11\" >253</td>\n",
              "      <td id=\"T_ed8f9_row10_col12\" class=\"data row10 col12\" >253</td>\n",
              "      <td id=\"T_ed8f9_row10_col13\" class=\"data row10 col13\" >253</td>\n",
              "      <td id=\"T_ed8f9_row10_col14\" class=\"data row10 col14\" >253</td>\n",
              "      <td id=\"T_ed8f9_row10_col15\" class=\"data row10 col15\" >187</td>\n",
              "      <td id=\"T_ed8f9_row10_col16\" class=\"data row10 col16\" >22</td>\n",
              "      <td id=\"T_ed8f9_row10_col17\" class=\"data row10 col17\" >0</td>\n",
              "    </tr>\n",
              "  </tbody>\n",
              "</table>\n"
            ]
          },
          "metadata": {},
          "execution_count": 117
        }
      ]
    },
    {
      "cell_type": "code",
      "source": [
        "seven_tensors = [fb.tensor(fb.Image.open(o)) for o in sevens]\n",
        "three_tensors= [fb.tensor(fb.Image.open(o)) for o in threes]\n",
        "len(three_tensors), len(seven_tensors)\n"
      ],
      "metadata": {
        "colab": {
          "base_uri": "https://localhost:8080/"
        },
        "id": "QyaxgfRfgueH",
        "outputId": "b6cddc17-1b1d-42f8-b4de-b1664851bb2a"
      },
      "execution_count": 118,
      "outputs": [
        {
          "output_type": "execute_result",
          "data": {
            "text/plain": [
              "(6131, 6265)"
            ]
          },
          "metadata": {},
          "execution_count": 118
        }
      ]
    },
    {
      "cell_type": "code",
      "source": [
        "fb.show_image(three_tensors[0])"
      ],
      "metadata": {
        "colab": {
          "base_uri": "https://localhost:8080/",
          "height": 102
        },
        "id": "q8tLNdDxhIHa",
        "outputId": "53f66f96-0bfc-4718-f559-f059ee85361c"
      },
      "execution_count": 119,
      "outputs": [
        {
          "output_type": "execute_result",
          "data": {
            "text/plain": [
              "<matplotlib.axes._subplots.AxesSubplot at 0x7f53b7c379d0>"
            ]
          },
          "metadata": {},
          "execution_count": 119
        },
        {
          "output_type": "display_data",
          "data": {
            "text/plain": [
              "<Figure size 72x72 with 1 Axes>"
            ],
            "image/png": "[encoded data removed]"
          },
          "metadata": {
            "needs_background": "light"
          }
        }
      ]
    },
    {
      "cell_type": "code",
      "source": [
        "stacked_sevens = fb.torch.stack(seven_tensors).float()/255\n",
        "stacked_threes = fb.torch.stack(three_tensors).float()/255\n",
        "stacked_threes.shape"
      ],
      "metadata": {
        "colab": {
          "base_uri": "https://localhost:8080/"
        },
        "id": "dbo6zP2Bhi8T",
        "outputId": "b7d34a99-a130-4011-b36f-90f38efb0938"
      },
      "execution_count": 120,
      "outputs": [
        {
          "output_type": "execute_result",
          "data": {
            "text/plain": [
              "torch.Size([6131, 28, 28])"
            ]
          },
          "metadata": {},
          "execution_count": 120
        }
      ]
    },
    {
      "cell_type": "code",
      "source": [
        "mean3 = stacked_threes.mean(0)\n",
        "fb.show_image(mean3)"
      ],
      "metadata": {
        "colab": {
          "base_uri": "https://localhost:8080/",
          "height": 102
        },
        "id": "uD7QYrI5iR6g",
        "outputId": "7b4ae9a9-685b-4ac0-e89d-20fa832e87fa"
      },
      "execution_count": 121,
      "outputs": [
        {
          "output_type": "execute_result",
          "data": {
            "text/plain": [
              "<matplotlib.axes._subplots.AxesSubplot at 0x7f53be6ec990>"
            ]
          },
          "metadata": {},
          "execution_count": 121
        },
        {
          "output_type": "display_data",
          "data": {
            "text/plain": [
              "<Figure size 72x72 with 1 Axes>"
            ],
            "image/png": "[encoded data removed]"
          },
          "metadata": {
            "needs_background": "light"
          }
        }
      ]
    },
    {
      "cell_type": "code",
      "source": [
        "mean7 = stacked_sevens.mean(0)\n",
        "fb.show_image(mean7)"
      ],
      "metadata": {
        "colab": {
          "base_uri": "https://localhost:8080/",
          "height": 102
        },
        "id": "WMlZ3qRLiqCC",
        "outputId": "569c38d1-f2c0-4ad8-e549-7a81872b9df5"
      },
      "execution_count": 122,
      "outputs": [
        {
          "output_type": "execute_result",
          "data": {
            "text/plain": [
              "<matplotlib.axes._subplots.AxesSubplot at 0x7f53be2679d0>"
            ]
          },
          "metadata": {},
          "execution_count": 122
        },
        {
          "output_type": "display_data",
          "data": {
            "text/plain": [
              "<Figure size 72x72 with 1 Axes>"
            ],
            "image/png": "[encoded data removed]"
          },
          "metadata": {
            "needs_background": "light"
          }
        }
      ]
    },
    {
      "cell_type": "code",
      "source": [
        "a_3 = stacked_threes[0]\n",
        "dist_3_abs = (a_3 - mean3).abs().mean()\n",
        "dist_3_sqr = ((a_3 - mean3)**2).mean().sqrt()\n",
        "dist_3_abs,dist_3_sqr"
      ],
      "metadata": {
        "colab": {
          "base_uri": "https://localhost:8080/"
        },
        "id": "S3UagO1IkFQ6",
        "outputId": "976743b0-339c-4a83-ed6d-a6c6a8c552bf"
      },
      "execution_count": 123,
      "outputs": [
        {
          "output_type": "execute_result",
          "data": {
            "text/plain": [
              "(tensor(0.1074), tensor(0.1912))"
            ]
          },
          "metadata": {},
          "execution_count": 123
        }
      ]
    },
    {
      "cell_type": "code",
      "source": [
        "dist_7_abs = (a_3 - mean7).abs().mean()\n",
        "dist_7_sqr = ((a_3 - mean7)**2).mean().sqrt()\n",
        "dist_7_abs,dist_7_sqr"
      ],
      "metadata": {
        "colab": {
          "base_uri": "https://localhost:8080/"
        },
        "id": "jwwOYPa_kUod",
        "outputId": "431d9709-7574-4657-fa72-aa601b444b4c"
      },
      "execution_count": 124,
      "outputs": [
        {
          "output_type": "execute_result",
          "data": {
            "text/plain": [
              "(tensor(0.1441), tensor(0.2780))"
            ]
          },
          "metadata": {},
          "execution_count": 124
        }
      ]
    },
    {
      "cell_type": "code",
      "source": [
        "valid_3_tens = fb.torch.stack([fb.tensor(fb.Image.open(o)) \n",
        "                            for o in (path/'valid'/'3').ls()])\n",
        "valid_3_tens = valid_3_tens.float()/255\n",
        "valid_7_tens = fb.torch.stack([fb.tensor(fb.Image.open(o)) \n",
        "                            for o in (path/'valid'/'7').ls()])\n",
        "valid_7_tens = valid_7_tens.float()/255\n",
        "valid_3_tens.shape,valid_7_tens.shape"
      ],
      "metadata": {
        "colab": {
          "base_uri": "https://localhost:8080/"
        },
        "id": "Y6Ho3y4un0Qw",
        "outputId": "c0b52a49-be7e-422b-913e-3553a546055f"
      },
      "execution_count": 125,
      "outputs": [
        {
          "output_type": "execute_result",
          "data": {
            "text/plain": [
              "(torch.Size([1010, 28, 28]), torch.Size([1028, 28, 28]))"
            ]
          },
          "metadata": {},
          "execution_count": 125
        }
      ]
    },
    {
      "cell_type": "code",
      "source": [
        "def mnist_distance(a, b): return (a-b).abs().mean((-2, -1)) # mean of last 2 axes (not depth/images)\n",
        "mnist_distance(a_3, mean3)"
      ],
      "metadata": {
        "colab": {
          "base_uri": "https://localhost:8080/"
        },
        "id": "WjAhfti4oXSv",
        "outputId": "66443b55-5ef5-469a-f7ee-b032d694e6d2"
      },
      "execution_count": 126,
      "outputs": [
        {
          "output_type": "execute_result",
          "data": {
            "text/plain": [
              "tensor(0.1074)"
            ]
          },
          "metadata": {},
          "execution_count": 126
        }
      ]
    },
    {
      "cell_type": "code",
      "source": [
        "mnist_distance(valid_3_tens, mean3)"
      ],
      "metadata": {
        "colab": {
          "base_uri": "https://localhost:8080/"
        },
        "id": "OH0ecGUnoziN",
        "outputId": "c66b9df3-a3d1-4ec8-861c-a6270744bfc0"
      },
      "execution_count": 127,
      "outputs": [
        {
          "output_type": "execute_result",
          "data": {
            "text/plain": [
              "tensor([0.1678, 0.1611, 0.1358,  ..., 0.1170, 0.1779, 0.1179])"
            ]
          },
          "metadata": {},
          "execution_count": 127
        }
      ]
    },
    {
      "cell_type": "code",
      "source": [
        "def is_3(x): return mnist_distance(x, mean3) < mnist_distance(x, mean7)"
      ],
      "metadata": {
        "id": "YALKfaI5qxnm"
      },
      "execution_count": 128,
      "outputs": []
    },
    {
      "cell_type": "code",
      "source": [
        "is_3(a_3), is_3(a_3).float()"
      ],
      "metadata": {
        "colab": {
          "base_uri": "https://localhost:8080/"
        },
        "id": "FttWvN7bq5C9",
        "outputId": "3326984d-d62c-4957-a05c-545cc33e6152"
      },
      "execution_count": 129,
      "outputs": [
        {
          "output_type": "execute_result",
          "data": {
            "text/plain": [
              "(tensor(True), tensor(1.))"
            ]
          },
          "metadata": {},
          "execution_count": 129
        }
      ]
    },
    {
      "cell_type": "code",
      "source": [
        "is_3(valid_7_tens)"
      ],
      "metadata": {
        "colab": {
          "base_uri": "https://localhost:8080/"
        },
        "id": "rDi-RhjErDw9",
        "outputId": "027734b9-e0b9-4535-f942-018944b3aeee"
      },
      "execution_count": 130,
      "outputs": [
        {
          "output_type": "execute_result",
          "data": {
            "text/plain": [
              "tensor([False, False, False,  ..., False, False, False])"
            ]
          },
          "metadata": {},
          "execution_count": 130
        }
      ]
    },
    {
      "cell_type": "code",
      "source": [
        "accuracy_3s = is_3(valid_3_tens).float().mean()\n",
        "accuracy_7s = (1 - is_3(valid_7_tens).float()).mean()\n",
        "accuracy_3s,accuracy_7s,(accuracy_3s+accuracy_7s)/2"
      ],
      "metadata": {
        "colab": {
          "base_uri": "https://localhost:8080/"
        },
        "id": "4dPRMMl1rPq1",
        "outputId": "96348a20-a111-493f-819e-b396fe2a7596"
      },
      "execution_count": 131,
      "outputs": [
        {
          "output_type": "execute_result",
          "data": {
            "text/plain": [
              "(tensor(0.9168), tensor(0.9854), tensor(0.9511))"
            ]
          },
          "metadata": {},
          "execution_count": 131
        }
      ]
    },
    {
      "cell_type": "code",
      "source": [
        "def f(x): return x**2\n",
        "\n",
        "xt = fb.tensor(3.).requires_grad_()\n",
        "yt = f(xt)\n",
        "yt.backward()\n",
        "xt.grad"
      ],
      "metadata": {
        "colab": {
          "base_uri": "https://localhost:8080/"
        },
        "id": "ZrKKY1XaFN08",
        "outputId": "06897326-0d64-4695-ca4c-6d76620601f1"
      },
      "execution_count": 132,
      "outputs": [
        {
          "output_type": "execute_result",
          "data": {
            "text/plain": [
              "tensor(6.)"
            ]
          },
          "metadata": {},
          "execution_count": 132
        }
      ]
    },
    {
      "cell_type": "code",
      "source": [
        "time = fb.torch.arange(0,20).float(); time"
      ],
      "metadata": {
        "colab": {
          "base_uri": "https://localhost:8080/"
        },
        "id": "IymzrDuwHv_J",
        "outputId": "fa96b61b-c412-4537-e14d-33a14b986491"
      },
      "execution_count": 133,
      "outputs": [
        {
          "output_type": "execute_result",
          "data": {
            "text/plain": [
              "tensor([ 0.,  1.,  2.,  3.,  4.,  5.,  6.,  7.,  8.,  9., 10., 11., 12., 13., 14., 15., 16., 17., 18., 19.])"
            ]
          },
          "metadata": {},
          "execution_count": 133
        }
      ]
    },
    {
      "cell_type": "code",
      "source": [
        "speed = fb.torch.randn(20)*3 + 0.75*(time-9.5)**2 + 1\n",
        "fb.plt.scatter(time,speed);"
      ],
      "metadata": {
        "colab": {
          "base_uri": "https://localhost:8080/",
          "height": 268
        },
        "id": "iAQq15_ZH2Pk",
        "outputId": "99ed3661-5a27-4e3b-85fb-abd9d50593ec"
      },
      "execution_count": 134,
      "outputs": [
        {
          "output_type": "display_data",
          "data": {
            "text/plain": [
              "<Figure size 432x288 with 1 Axes>"
            ],
            "image/png": "[encoded data removed]"
          },
          "metadata": {
            "needs_background": "light"
          }
        }
      ]
    },
    {
      "cell_type": "code",
      "source": [
        "def f(t, params):\n",
        "  a,b,c = params\n",
        "  return a*(t**2) + (b*t) + c\n"
      ],
      "metadata": {
        "id": "CKZ9eQYyIMIF"
      },
      "execution_count": 135,
      "outputs": []
    },
    {
      "cell_type": "code",
      "source": [
        "def mse(preds, targets): \n",
        "  return ((preds - targets)**2).mean()"
      ],
      "metadata": {
        "id": "djElyyKXJFYn"
      },
      "execution_count": 136,
      "outputs": []
    },
    {
      "cell_type": "code",
      "source": [
        "# Initialize Parameters\n",
        "params = fb.torch.randn(3).requires_grad_()\n",
        "orig_params = params.clone()\n",
        "orig_params"
      ],
      "metadata": {
        "colab": {
          "base_uri": "https://localhost:8080/"
        },
        "id": "xgX7AVryJPWl",
        "outputId": "5bf055ca-0d19-4981-e9c7-a722b43d279c"
      },
      "execution_count": 137,
      "outputs": [
        {
          "output_type": "execute_result",
          "data": {
            "text/plain": [
              "tensor([-0.1207,  1.2467, -0.0325], grad_fn=<CloneBackward0>)"
            ]
          },
          "metadata": {},
          "execution_count": 137
        }
      ]
    },
    {
      "cell_type": "code",
      "source": [
        "# Calculate Predictions\n",
        "preds = f(time, params)\n",
        "\n",
        "def show_preds(preds, ax=None):\n",
        "  if ax is None: ax=fb.plt.subplots()[1]\n",
        "  ax.scatter(time, speed)\n",
        "  ax.scatter(time, fb.to_np(preds), color='red')\n",
        "  ax.set_ylim(-300, 100)\n",
        "\n",
        "show_preds(preds)"
      ],
      "metadata": {
        "colab": {
          "base_uri": "https://localhost:8080/",
          "height": 273
        },
        "id": "uwOzy7-iJY4o",
        "outputId": "7d62b37c-4f1b-4e74-a2c1-15419808cd98"
      },
      "execution_count": 138,
      "outputs": [
        {
          "output_type": "display_data",
          "data": {
            "text/plain": [
              "<Figure size 432x288 with 1 Axes>"
            ],
            "image/png": "[encoded data removed]"
          },
          "metadata": {
            "needs_background": "light"
          }
        }
      ]
    },
    {
      "cell_type": "code",
      "source": [
        "# Calculate the Loss\n",
        "loss = mse(preds, speed)\n",
        "loss"
      ],
      "metadata": {
        "colab": {
          "base_uri": "https://localhost:8080/"
        },
        "id": "sF668N-FKN5N",
        "outputId": "b8552059-e94c-4362-d284-7452efaa05a3"
      },
      "execution_count": 139,
      "outputs": [
        {
          "output_type": "execute_result",
          "data": {
            "text/plain": [
              "tensor(1456.1565, grad_fn=<MeanBackward0>)"
            ]
          },
          "metadata": {},
          "execution_count": 139
        }
      ]
    },
    {
      "cell_type": "code",
      "source": [
        "# Calculate the Gradients\n",
        "loss.backward()\n",
        "print(params.grad)\n"
      ],
      "metadata": {
        "colab": {
          "base_uri": "https://localhost:8080/"
        },
        "id": "YqBUfLOdKfWW",
        "outputId": "2bc59500-3ec5-4c9f-df4a-bd8b3b5284f3"
      },
      "execution_count": 140,
      "outputs": [
        {
          "output_type": "stream",
          "name": "stdout",
          "text": [
            "tensor([-9661.2539,  -598.4518,   -56.0621])\n"
          ]
        }
      ]
    },
    {
      "cell_type": "code",
      "source": [
        "# Step the Weights\n",
        "learning_rate = 1e-5\n",
        "params.data -= params.grad.data * learning_rate\n",
        "params.grad = None\n",
        "params.data"
      ],
      "metadata": {
        "colab": {
          "base_uri": "https://localhost:8080/"
        },
        "id": "xwPA2oFSK8vn",
        "outputId": "84dbc9f7-5b55-428c-d1ff-3c49ea399811"
      },
      "execution_count": 141,
      "outputs": [
        {
          "output_type": "execute_result",
          "data": {
            "text/plain": [
              "tensor([-0.0240,  1.2526, -0.0319])"
            ]
          },
          "metadata": {},
          "execution_count": 141
        }
      ]
    },
    {
      "cell_type": "code",
      "source": [
        "# Repeat\n",
        "preds = f(time, params)\n",
        "mse(preds, speed)\n",
        "show_preds(preds)"
      ],
      "metadata": {
        "colab": {
          "base_uri": "https://localhost:8080/",
          "height": 273
        },
        "id": "9bFQ4CRwLZIn",
        "outputId": "ecc1680c-2dd8-4d7e-de6d-eaef178ecc6c"
      },
      "execution_count": 142,
      "outputs": [
        {
          "output_type": "display_data",
          "data": {
            "text/plain": [
              "<Figure size 432x288 with 1 Axes>"
            ],
            "image/png": "[encoded data removed]"
          },
          "metadata": {
            "needs_background": "light"
          }
        }
      ]
    },
    {
      "cell_type": "code",
      "source": [
        "# Create Function to Iterate\n",
        "def apply_step(params, prn=True):\n",
        "  preds = f(time, params)\n",
        "  loss = mse(preds, speed)\n",
        "  loss.backward()\n",
        "  params.data -= learning_rate * params.grad.data\n",
        "  params.grad = None\n",
        "  if prn: print(loss.item())\n",
        "  return preds"
      ],
      "metadata": {
        "id": "d831-pYcLjYK"
      },
      "execution_count": 143,
      "outputs": []
    },
    {
      "cell_type": "code",
      "source": [
        "for i in range(10): preds = apply_step(params)"
      ],
      "metadata": {
        "colab": {
          "base_uri": "https://localhost:8080/"
        },
        "id": "t5Kn1SVCMAdB",
        "outputId": "e370b76b-d632-48a1-e351-0ff11bdad801"
      },
      "execution_count": 144,
      "outputs": [
        {
          "output_type": "stream",
          "name": "stdout",
          "text": [
            "783.84619140625\n",
            "656.6192626953125\n",
            "632.5388793945312\n",
            "627.9767456054688\n",
            "627.1082153320312\n",
            "626.9385986328125\n",
            "626.9012451171875\n",
            "626.888916015625\n",
            "626.88134765625\n",
            "626.8746337890625\n"
          ]
        }
      ]
    },
    {
      "cell_type": "code",
      "source": [
        "show_preds(preds)"
      ],
      "metadata": {
        "colab": {
          "base_uri": "https://localhost:8080/",
          "height": 273
        },
        "id": "rBkwmfLdMHC0",
        "outputId": "3cfb43ec-5247-4349-ed1c-fabe97678b52"
      },
      "execution_count": 145,
      "outputs": [
        {
          "output_type": "display_data",
          "data": {
            "text/plain": [
              "<Figure size 432x288 with 1 Axes>"
            ],
            "image/png": "[encoded data removed]"
          },
          "metadata": {
            "needs_background": "light"
          }
        }
      ]
    },
    {
      "cell_type": "code",
      "source": [
        "params = orig_params.detach().requires_grad_()"
      ],
      "metadata": {
        "id": "17-xilJVMeDQ"
      },
      "execution_count": 146,
      "outputs": []
    },
    {
      "cell_type": "code",
      "source": [
        "_,axs = plt.subplots(1,4,figsize=(12,3))\n",
        "for ax in axs: show_preds(apply_step(params, False), ax)\n",
        "plt.tight_layout()"
      ],
      "metadata": {
        "colab": {
          "base_uri": "https://localhost:8080/",
          "height": 221
        },
        "id": "DfS18lP3MrGY",
        "outputId": "c8cce648-f7e8-4a95-8c1b-3e47b8de0007"
      },
      "execution_count": 147,
      "outputs": [
        {
          "output_type": "display_data",
          "data": {
            "text/plain": [
              "<Figure size 864x216 with 4 Axes>"
            ],
            "image/png": "[encoded data removed]"
          },
          "metadata": {
            "needs_background": "light"
          }
        }
      ]
    },
    {
      "cell_type": "code",
      "source": [
        "# Implement Neural Net from Scratch\n",
        "\n",
        "# concatenate threes and sevens data and flatten tensor into a rank-2 tensor (images flattened to vectors)\n",
        "train_x = torch.cat([stacked_threes, stacked_sevens]).view(-1,28*28)\n",
        "\n"
      ],
      "metadata": {
        "id": "5qf14v0t2kpC"
      },
      "execution_count": 148,
      "outputs": []
    },
    {
      "cell_type": "code",
      "source": [
        "# create training data for flattened training data (True for 3s, False for 7s)\n",
        "train_y = tensor([1] * len(threes) + [0]*len(sevens)).unsqueeze(1)\n",
        "train_x.shape, train_y.shape"
      ],
      "metadata": {
        "colab": {
          "base_uri": "https://localhost:8080/"
        },
        "id": "oveGl8ln20IS",
        "outputId": "e1171d6d-5ac1-45f5-fb3c-767bfbf8b360"
      },
      "execution_count": 149,
      "outputs": [
        {
          "output_type": "execute_result",
          "data": {
            "text/plain": [
              "(torch.Size([12396, 784]), torch.Size([12396, 1]))"
            ]
          },
          "metadata": {},
          "execution_count": 149
        }
      ]
    },
    {
      "cell_type": "code",
      "source": [
        "# Torch Datasets require tuple (x, y) so zip training data together\n",
        "dset = list(zip(train_x, train_y))\n",
        "x, y = dset[0]\n",
        "x.shape, y"
      ],
      "metadata": {
        "colab": {
          "base_uri": "https://localhost:8080/"
        },
        "id": "aS4L-AdP3P8i",
        "outputId": "cede338a-ccc7-4f36-dc54-f1c9715bc6c7"
      },
      "execution_count": 150,
      "outputs": [
        {
          "output_type": "execute_result",
          "data": {
            "text/plain": [
              "(torch.Size([784]), tensor([1]))"
            ]
          },
          "metadata": {},
          "execution_count": 150
        }
      ]
    },
    {
      "cell_type": "code",
      "source": [
        "valid_x = torch.cat([valid_3_tens, valid_7_tens]).view(-1, 28*28)\n",
        "valid_y = tensor([1]*len(valid_3_tens) + [0]*len(valid_7_tens)).unsqueeze(1)\n",
        "valid_dset = list(zip(valid_x,valid_y))"
      ],
      "metadata": {
        "id": "3_6vwNX_Kv_4"
      },
      "execution_count": 151,
      "outputs": []
    },
    {
      "cell_type": "code",
      "source": [
        "# initialize random weights for every pixel\n",
        "def init_params(size, std=1.0): \n",
        "  return (fb.torch.randn(size)*std).requires_grad_()\n",
        "\n",
        "weights = init_params((28*28, 1))\n",
        "weights[:10]"
      ],
      "metadata": {
        "colab": {
          "base_uri": "https://localhost:8080/"
        },
        "id": "833O5j404cMu",
        "outputId": "f7da6a9d-c0ec-4eee-c463-3620e642ed69"
      },
      "execution_count": 152,
      "outputs": [
        {
          "output_type": "execute_result",
          "data": {
            "text/plain": [
              "tensor([[-0.5383],\n",
              "        [ 0.0304],\n",
              "        [ 0.2075],\n",
              "        [-0.4537],\n",
              "        [ 0.3660],\n",
              "        [-0.6824],\n",
              "        [-1.1194],\n",
              "        [ 0.4807],\n",
              "        [ 0.3474],\n",
              "        [ 0.1891]], grad_fn=<SliceBackward0>)"
            ]
          },
          "metadata": {},
          "execution_count": 152
        }
      ]
    },
    {
      "cell_type": "code",
      "source": [
        "# parameters: y = weights*x + bias\n",
        "bias = init_params(1)\n",
        "bias"
      ],
      "metadata": {
        "colab": {
          "base_uri": "https://localhost:8080/"
        },
        "id": "i39zsG6c5BaV",
        "outputId": "e8bee2b0-fc40-4400-be22-692afb9a9dd0"
      },
      "execution_count": 153,
      "outputs": [
        {
          "output_type": "execute_result",
          "data": {
            "text/plain": [
              "tensor([0.4580], requires_grad=True)"
            ]
          },
          "metadata": {},
          "execution_count": 153
        }
      ]
    },
    {
      "cell_type": "code",
      "source": [
        "# calculate a prediction for the 1st image\n",
        "(train_x[0]*weights.T).sum() + bias"
      ],
      "metadata": {
        "colab": {
          "base_uri": "https://localhost:8080/"
        },
        "id": "ibKyZOsE6FX6",
        "outputId": "864c7f04-5be1-42e4-c7fd-8d32501d0437"
      },
      "execution_count": 154,
      "outputs": [
        {
          "output_type": "execute_result",
          "data": {
            "text/plain": [
              "tensor([2.5965], grad_fn=<AddBackward0>)"
            ]
          },
          "metadata": {},
          "execution_count": 154
        }
      ]
    },
    {
      "cell_type": "code",
      "source": [
        "# matrix multiplication in python uses '@'\n",
        "def linear1(xb): return xb @ weights + bias\n",
        "preds = linear1(train_x)\n",
        "preds"
      ],
      "metadata": {
        "colab": {
          "base_uri": "https://localhost:8080/"
        },
        "id": "xO14IzvF652H",
        "outputId": "aeb651ac-7da4-4a9d-b5fb-4097ab58041b"
      },
      "execution_count": 155,
      "outputs": [
        {
          "output_type": "execute_result",
          "data": {
            "text/plain": [
              "tensor([[2.5965],\n",
              "        [5.4167],\n",
              "        [9.9586],\n",
              "        ...,\n",
              "        [0.6301],\n",
              "        [4.9969],\n",
              "        [2.3777]], grad_fn=<AddBackward0>)"
            ]
          },
          "metadata": {},
          "execution_count": 155
        }
      ]
    },
    {
      "cell_type": "code",
      "source": [
        "corrects = (preds>0.0).float() == train_y\n",
        "corrects"
      ],
      "metadata": {
        "colab": {
          "base_uri": "https://localhost:8080/"
        },
        "id": "ZBWkoH_d7uvK",
        "outputId": "84f78914-5a5e-4aa0-936d-007cd0c3d700"
      },
      "execution_count": 156,
      "outputs": [
        {
          "output_type": "execute_result",
          "data": {
            "text/plain": [
              "tensor([[ True],\n",
              "        [ True],\n",
              "        [ True],\n",
              "        ...,\n",
              "        [False],\n",
              "        [False],\n",
              "        [False]])"
            ]
          },
          "metadata": {},
          "execution_count": 156
        }
      ]
    },
    {
      "cell_type": "code",
      "source": [
        "corrects.float().mean().item()"
      ],
      "metadata": {
        "colab": {
          "base_uri": "https://localhost:8080/"
        },
        "id": "LJEvK96771hw",
        "outputId": "dae463f0-2a64-491e-a405-df035b4e609e"
      },
      "execution_count": 157,
      "outputs": [
        {
          "output_type": "execute_result",
          "data": {
            "text/plain": [
              "0.5821232795715332"
            ]
          },
          "metadata": {},
          "execution_count": 157
        }
      ]
    },
    {
      "cell_type": "code",
      "source": [
        "with torch.no_grad():\n",
        "  weights[0] *= 1.001"
      ],
      "metadata": {
        "id": "MNZC4VMS75k1"
      },
      "execution_count": 158,
      "outputs": []
    },
    {
      "cell_type": "code",
      "source": [
        "preds = linear1(train_x)\n",
        "((preds>0.0).float() == train_y).float().mean().item()"
      ],
      "metadata": {
        "colab": {
          "base_uri": "https://localhost:8080/"
        },
        "id": "hn9Yv6d48CLZ",
        "outputId": "07a663db-ec52-4c00-e2d7-a70c9f1416bb"
      },
      "execution_count": 159,
      "outputs": [
        {
          "output_type": "execute_result",
          "data": {
            "text/plain": [
              "0.5821232795715332"
            ]
          },
          "metadata": {},
          "execution_count": 159
        }
      ]
    },
    {
      "cell_type": "code",
      "source": [
        "trgts = fb.tensor([1,0,1])\n",
        "prds = fb.tensor([.9,.4,.2])"
      ],
      "metadata": {
        "id": "eVHeNQdm8cZ-"
      },
      "execution_count": 160,
      "outputs": []
    },
    {
      "cell_type": "code",
      "source": [
        "# returns accuracy of the prediction relating to the target\n",
        "def mnist_loss(predictions, targets):\n",
        "  # torch.where is the same thing as running a list comprehension\n",
        "  return fb.torch.where(targets==1, 1-predictions, predictions).mean()"
      ],
      "metadata": {
        "id": "ep_1ulfm9RPs"
      },
      "execution_count": 161,
      "outputs": []
    },
    {
      "cell_type": "code",
      "source": [
        "fb.torch.where(trgts==1, 1-prds, prds)"
      ],
      "metadata": {
        "colab": {
          "base_uri": "https://localhost:8080/"
        },
        "id": "gxFKazMh948c",
        "outputId": "bbe5148d-8f8e-488f-cf02-b79eab85b88f"
      },
      "execution_count": 162,
      "outputs": [
        {
          "output_type": "execute_result",
          "data": {
            "text/plain": [
              "tensor([0.1000, 0.4000, 0.8000])"
            ]
          },
          "metadata": {},
          "execution_count": 162
        }
      ]
    },
    {
      "cell_type": "code",
      "source": [
        "mnist_loss(prds, trgts)"
      ],
      "metadata": {
        "colab": {
          "base_uri": "https://localhost:8080/"
        },
        "id": "oWe5bXC7-NyV",
        "outputId": "681e57bc-afaa-469b-dd53-fefa95d01e2f"
      },
      "execution_count": 163,
      "outputs": [
        {
          "output_type": "execute_result",
          "data": {
            "text/plain": [
              "tensor(0.4333)"
            ]
          },
          "metadata": {},
          "execution_count": 163
        }
      ]
    },
    {
      "cell_type": "code",
      "source": [
        "# Sigmoid: always returns number between 0 and 1\n",
        "def sigmoid(x):\n",
        "  return 1/(1+fb.torch.exp(-x))"
      ],
      "metadata": {
        "id": "OYMhdYrQ_AB_"
      },
      "execution_count": 164,
      "outputs": []
    },
    {
      "cell_type": "code",
      "source": [
        "fb.plot_function(fb.torch.sigmoid, title='Sigmoid', min=-4, max=4)"
      ],
      "metadata": {
        "colab": {
          "base_uri": "https://localhost:8080/",
          "height": 285
        },
        "id": "vWFqEmr-_SPz",
        "outputId": "8445c328-9de2-483f-9477-ff099459ba47"
      },
      "execution_count": 165,
      "outputs": [
        {
          "output_type": "display_data",
          "data": {
            "text/plain": [
              "<Figure size 432x288 with 1 Axes>"
            ],
            "image/png": "[encoded data removed]"
          },
          "metadata": {
            "needs_background": "light"
          }
        }
      ]
    },
    {
      "cell_type": "code",
      "source": [
        "# update mnist Loss function to apply sigmoid\n",
        "def mnist_loss(predictions, targets):\n",
        "  predictions = predictions.sigmoid()\n",
        "  return fb.torch.where(targets==1, 1-predictions, predictions).mean()"
      ],
      "metadata": {
        "id": "K_YGAtMD_cHg"
      },
      "execution_count": 166,
      "outputs": []
    },
    {
      "cell_type": "code",
      "source": [
        "# SBG and Mini-Batches"
      ],
      "metadata": {
        "id": "ugLPozgn_seH"
      },
      "execution_count": 167,
      "outputs": []
    },
    {
      "cell_type": "code",
      "source": [
        "# Use Dataloaders to randomly shuffle the collections and create minibatches\n",
        "coll = range(15)\n",
        "dl = fb.DataLoader(coll, batch_size=5, shuffle=True)\n",
        "list(dl)"
      ],
      "metadata": {
        "colab": {
          "base_uri": "https://localhost:8080/"
        },
        "id": "iaODZH7aAWOv",
        "outputId": "4b39b12a-b456-4cf8-c96c-3a71950c4c0a"
      },
      "execution_count": 168,
      "outputs": [
        {
          "output_type": "execute_result",
          "data": {
            "text/plain": [
              "[tensor([ 3,  2, 10,  9, 13]),\n",
              " tensor([14,  6,  8,  0,  1]),\n",
              " tensor([ 7,  4,  5, 12, 11])]"
            ]
          },
          "metadata": {},
          "execution_count": 168
        }
      ]
    },
    {
      "cell_type": "code",
      "source": [
        "# make sure the data loader contains the Dep and Indep variables (data, target)\n",
        "\n",
        "ds = fb.L(enumerate(string.ascii_lowercase))\n",
        "ds"
      ],
      "metadata": {
        "colab": {
          "base_uri": "https://localhost:8080/"
        },
        "id": "iolqZR3lDQYF",
        "outputId": "a1e54feb-d5a5-4ee3-a342-56265f4d19dd"
      },
      "execution_count": 169,
      "outputs": [
        {
          "output_type": "execute_result",
          "data": {
            "text/plain": [
              "(#26) [(0, 'a'),(1, 'b'),(2, 'c'),(3, 'd'),(4, 'e'),(5, 'f'),(6, 'g'),(7, 'h'),(8, 'i'),(9, 'j')...]"
            ]
          },
          "metadata": {},
          "execution_count": 169
        }
      ]
    },
    {
      "cell_type": "code",
      "source": [
        "dl = fb.DataLoader(ds, batch_size=6, shuffle=True)\n",
        "list(dl)"
      ],
      "metadata": {
        "colab": {
          "base_uri": "https://localhost:8080/"
        },
        "id": "gPTVjzV0DmYq",
        "outputId": "6444bad2-77d4-43f8-cec0-891d2e146b86"
      },
      "execution_count": 170,
      "outputs": [
        {
          "output_type": "execute_result",
          "data": {
            "text/plain": [
              "[(tensor([ 3, 16, 17,  8,  7,  2]), ('d', 'q', 'r', 'i', 'h', 'c')),\n",
              " (tensor([10, 22,  4, 14, 25, 15]), ('k', 'w', 'e', 'o', 'z', 'p')),\n",
              " (tensor([ 1, 12, 19,  5,  9, 11]), ('b', 'm', 't', 'f', 'j', 'l')),\n",
              " (tensor([ 0, 23, 21, 13, 18, 20]), ('a', 'x', 'v', 'n', 's', 'u')),\n",
              " (tensor([ 6, 24]), ('g', 'y'))]"
            ]
          },
          "metadata": {},
          "execution_count": 170
        }
      ]
    },
    {
      "cell_type": "code",
      "source": [
        "weights = init_params((28*28, 1))\n",
        "bias = init_params(1)"
      ],
      "metadata": {
        "id": "PKBi71fHD2nk"
      },
      "execution_count": 171,
      "outputs": []
    },
    {
      "cell_type": "code",
      "source": [
        "dl = fb.DataLoader(dset, batch_size=256)\n",
        "xb,yb = fb.first(dl)\n",
        "xb.shape, yb.shape"
      ],
      "metadata": {
        "colab": {
          "base_uri": "https://localhost:8080/"
        },
        "id": "jEY0h4a0G2At",
        "outputId": "64a9e8cc-815b-44c0-f78e-c1b1c3e3df5c"
      },
      "execution_count": 172,
      "outputs": [
        {
          "output_type": "execute_result",
          "data": {
            "text/plain": [
              "(torch.Size([256, 784]), torch.Size([256, 1]))"
            ]
          },
          "metadata": {},
          "execution_count": 172
        }
      ]
    },
    {
      "cell_type": "code",
      "source": [
        "valid_dl = fb.DataLoader(valid_dset, batch_size=256)"
      ],
      "metadata": {
        "id": "mLVndlqQHE6p"
      },
      "execution_count": 173,
      "outputs": []
    },
    {
      "cell_type": "code",
      "source": [
        "batch = train_x[:4]\n",
        "batch.shape"
      ],
      "metadata": {
        "id": "9vCFfQlAK6Px",
        "outputId": "bd66bb00-67e7-4f71-da26-4557044d7028",
        "colab": {
          "base_uri": "https://localhost:8080/"
        }
      },
      "execution_count": 174,
      "outputs": [
        {
          "output_type": "execute_result",
          "data": {
            "text/plain": [
              "torch.Size([4, 784])"
            ]
          },
          "metadata": {},
          "execution_count": 174
        }
      ]
    },
    {
      "cell_type": "code",
      "source": [
        "preds = linear1(batch)\n",
        "preds"
      ],
      "metadata": {
        "id": "tX9I0x62LBeq",
        "outputId": "f2232f21-9af4-4643-9dce-9f1062199dbb",
        "colab": {
          "base_uri": "https://localhost:8080/"
        }
      },
      "execution_count": 175,
      "outputs": [
        {
          "output_type": "execute_result",
          "data": {
            "text/plain": [
              "tensor([[ 0.1221],\n",
              "        [ 1.6684],\n",
              "        [-5.8415],\n",
              "        [-3.1218]], grad_fn=<AddBackward0>)"
            ]
          },
          "metadata": {},
          "execution_count": 175
        }
      ]
    },
    {
      "cell_type": "code",
      "source": [
        "loss = mnist_loss(preds, train_y[:4])\n",
        "loss\n"
      ],
      "metadata": {
        "id": "x4IaaG_LLF9L",
        "outputId": "80b086d4-5db5-4221-f516-728f8bf2adc9",
        "colab": {
          "base_uri": "https://localhost:8080/"
        }
      },
      "execution_count": 176,
      "outputs": [
        {
          "output_type": "execute_result",
          "data": {
            "text/plain": [
              "tensor(0.6458, grad_fn=<MeanBackward0>)"
            ]
          },
          "metadata": {},
          "execution_count": 176
        }
      ]
    },
    {
      "cell_type": "code",
      "source": [
        "loss.backward()\n",
        "weights.grad.shape, weights.grad.mean(), bias.grad"
      ],
      "metadata": {
        "id": "Vg36j2PhLP09",
        "outputId": "a6f4ea75-8b17-4de2-ce99-0d92db2e8b5d",
        "colab": {
          "base_uri": "https://localhost:8080/"
        }
      },
      "execution_count": 177,
      "outputs": [
        {
          "output_type": "execute_result",
          "data": {
            "text/plain": [
              "(torch.Size([784, 1]), tensor(-0.0155), tensor([-0.1065]))"
            ]
          },
          "metadata": {},
          "execution_count": 177
        }
      ]
    },
    {
      "cell_type": "code",
      "source": [
        "def calc_grad(xb, yb, model):\n",
        "  preds = model(xb)\n",
        "  loss = mnist_loss(preds, yb)\n",
        "  loss.backward()"
      ],
      "metadata": {
        "id": "PgBW9DMLLX4B"
      },
      "execution_count": 178,
      "outputs": []
    },
    {
      "cell_type": "code",
      "source": [
        "calc_grad(batch, train_y[:4], linear1)\n",
        "weights.grad.mean(), bias.grad"
      ],
      "metadata": {
        "id": "LBawB_mFLgDQ",
        "outputId": "55762953-59d0-482b-d917-6dffe300ee3f",
        "colab": {
          "base_uri": "https://localhost:8080/"
        }
      },
      "execution_count": 179,
      "outputs": [
        {
          "output_type": "execute_result",
          "data": {
            "text/plain": [
              "(tensor(-0.0310), tensor([-0.2129]))"
            ]
          },
          "metadata": {},
          "execution_count": 179
        }
      ]
    },
    {
      "cell_type": "code",
      "source": [
        "weights.grad.zero_()\n",
        "bias.grad.zero_()"
      ],
      "metadata": {
        "id": "dbP-8iBoMAkn",
        "outputId": "5f5902b7-f7d9-435f-ce8d-999cf8d1604a",
        "colab": {
          "base_uri": "https://localhost:8080/"
        }
      },
      "execution_count": 180,
      "outputs": [
        {
          "output_type": "execute_result",
          "data": {
            "text/plain": [
              "tensor([0.])"
            ]
          },
          "metadata": {},
          "execution_count": 180
        }
      ]
    },
    {
      "cell_type": "code",
      "source": [
        "def train_epoch(model, lr, params):\n",
        "  for xb, yb in dl:\n",
        "    calc_grad(xb, yb, model)\n",
        "    for p in params:\n",
        "      p.data -= p.grad*lr\n",
        "      p.grad.zero_()"
      ],
      "metadata": {
        "id": "0C7jz32aNTrv"
      },
      "execution_count": 181,
      "outputs": []
    },
    {
      "cell_type": "code",
      "source": [
        "def batch_accuracy(xb, yb):\n",
        "  preds = xb.sigmoid()\n",
        "  correct = (preds>0.5) == yb\n",
        "  return correct.float().mean()"
      ],
      "metadata": {
        "id": "XsVy_5MHN5Fb"
      },
      "execution_count": 182,
      "outputs": []
    },
    {
      "cell_type": "code",
      "source": [
        "batch_accuracy(linear1(batch), train_y[:4])"
      ],
      "metadata": {
        "id": "8tJeDZ5NODVu",
        "outputId": "dc20b368-0057-4aa4-8fcb-97b5425d036e",
        "colab": {
          "base_uri": "https://localhost:8080/"
        }
      },
      "execution_count": 183,
      "outputs": [
        {
          "output_type": "execute_result",
          "data": {
            "text/plain": [
              "tensor(0.5000)"
            ]
          },
          "metadata": {},
          "execution_count": 183
        }
      ]
    },
    {
      "cell_type": "code",
      "source": [
        "def validate_epoch(model):\n",
        "  accs = [batch_accuracy(model(xb), yb) for xb, yb in valid_dl]\n",
        "  return round(fb.torch.stack(accs).mean().item(), 4)"
      ],
      "metadata": {
        "id": "JgFpw6mkOQ5m"
      },
      "execution_count": 184,
      "outputs": []
    },
    {
      "cell_type": "code",
      "source": [
        "validate_epoch(linear1)"
      ],
      "metadata": {
        "id": "xYGhe9EXOfks",
        "outputId": "b3b57bf8-f2bf-4bd5-9e09-d2a221ce3d89",
        "colab": {
          "base_uri": "https://localhost:8080/"
        }
      },
      "execution_count": 185,
      "outputs": [
        {
          "output_type": "execute_result",
          "data": {
            "text/plain": [
              "0.4269"
            ]
          },
          "metadata": {},
          "execution_count": 185
        }
      ]
    },
    {
      "cell_type": "code",
      "source": [
        "# train for 1 epoch\n",
        "lr = 1.\n",
        "params = weights, bias\n",
        "train_epoch(linear1, lr, params)\n",
        "validate_epoch(linear1)"
      ],
      "metadata": {
        "id": "GX0szeHHOtlI",
        "outputId": "dd770b55-7d68-41f7-ee0e-ed7bd5e6fd79",
        "colab": {
          "base_uri": "https://localhost:8080/"
        }
      },
      "execution_count": 186,
      "outputs": [
        {
          "output_type": "execute_result",
          "data": {
            "text/plain": [
              "0.5995"
            ]
          },
          "metadata": {},
          "execution_count": 186
        }
      ]
    },
    {
      "cell_type": "code",
      "source": [
        "# train for 20 more epochs\n",
        "for i in range(20):\n",
        "  train_epoch(linear1, lr, params)\n",
        "  print(validate_epoch(linear1), end=' ')"
      ],
      "metadata": {
        "id": "_ra5vB62O8Ej",
        "outputId": "2edcd1c3-2d34-4b25-84f8-55467575bb5e",
        "colab": {
          "base_uri": "https://localhost:8080/"
        }
      },
      "execution_count": 187,
      "outputs": [
        {
          "output_type": "stream",
          "name": "stdout",
          "text": [
            "0.8197 0.9056 0.9339 0.9457 0.952 0.9545 0.9579 0.9618 0.9623 0.9638 0.9652 0.9662 0.9667 0.9682 0.9682 0.9682 0.9682 0.9682 0.9696 0.9696 "
          ]
        }
      ]
    },
    {
      "cell_type": "code",
      "source": [
        "# Creating an Optimizer\n",
        "linear_model = fb.nn.Linear(28*28,1)"
      ],
      "metadata": {
        "id": "ozci0w_pPjlG"
      },
      "execution_count": 188,
      "outputs": []
    },
    {
      "cell_type": "code",
      "source": [
        "w,b = linear_model.parameters()\n",
        "w.shape, b.shape"
      ],
      "metadata": {
        "id": "jdiaMuF7P5F1",
        "outputId": "75856077-683a-42b4-cf66-cb65f13ee0c2",
        "colab": {
          "base_uri": "https://localhost:8080/"
        }
      },
      "execution_count": 189,
      "outputs": [
        {
          "output_type": "execute_result",
          "data": {
            "text/plain": [
              "(torch.Size([1, 784]), torch.Size([1]))"
            ]
          },
          "metadata": {},
          "execution_count": 189
        }
      ]
    },
    {
      "cell_type": "code",
      "source": [
        "class BasicOptim:\n",
        "  def __init__(self, params, lr): \n",
        "    self.params = list(params) \n",
        "    self.lr = lr\n",
        "\n",
        "  def step(self, *args, **kwargs):\n",
        "    for p in self.params: \n",
        "      p.data -= p.grad.data * self.lr\n",
        "\n",
        "  def zero_grad(self, *args, **kwargs):\n",
        "    for p in self.params:\n",
        "      p.grad = None"
      ],
      "metadata": {
        "id": "DpsmtpHuQBUf"
      },
      "execution_count": 190,
      "outputs": []
    },
    {
      "cell_type": "code",
      "source": [
        "opt = BasicOptim(linear_model.parameters(), lr)"
      ],
      "metadata": {
        "id": "QPng4NlrQfVt"
      },
      "execution_count": 191,
      "outputs": []
    },
    {
      "cell_type": "code",
      "source": [
        "def train_epoch(model):\n",
        "  for xb, yb in dl:\n",
        "    calc_grad(xb, yb, model)\n",
        "    opt.step()\n",
        "    opt.zero_grad()"
      ],
      "metadata": {
        "id": "GTNEaRacQltd"
      },
      "execution_count": 192,
      "outputs": []
    },
    {
      "cell_type": "code",
      "source": [
        "validate_epoch(linear_model)"
      ],
      "metadata": {
        "id": "1qKqBD4fQxSu",
        "outputId": "db027d42-9e76-4df7-fe90-04c3c6126425",
        "colab": {
          "base_uri": "https://localhost:8080/"
        }
      },
      "execution_count": 193,
      "outputs": [
        {
          "output_type": "execute_result",
          "data": {
            "text/plain": [
              "0.4694"
            ]
          },
          "metadata": {},
          "execution_count": 193
        }
      ]
    },
    {
      "cell_type": "code",
      "source": [
        "def train_model(model, epochs):\n",
        "  for i in range(epochs):\n",
        "    train_epoch(model)\n",
        "    print(validate_epoch(model), end=' ')"
      ],
      "metadata": {
        "id": "HYFSghhbQ1bb"
      },
      "execution_count": 194,
      "outputs": []
    },
    {
      "cell_type": "code",
      "source": [
        "train_model(linear_model, 20)"
      ],
      "metadata": {
        "id": "Jc6UYv3vQ-sa",
        "outputId": "1b8f12d8-c640-4bb1-d5b9-d5463b1ad821",
        "colab": {
          "base_uri": "https://localhost:8080/"
        }
      },
      "execution_count": 195,
      "outputs": [
        {
          "output_type": "stream",
          "name": "stdout",
          "text": [
            "0.4932 0.8642 0.8276 0.9106 0.9331 0.9477 0.956 0.9614 0.9653 0.9673 0.9702 0.9717 0.9736 0.9751 0.9756 0.9765 0.9775 0.978 0.9785 0.9785 "
          ]
        }
      ]
    },
    {
      "cell_type": "code",
      "source": [
        "linear_model = fb.nn.Linear(28*28, 1)\n",
        "opt = fb.SGD(linear_model.parameters(), lr)\n",
        "train_model(linear_model, 20)"
      ],
      "metadata": {
        "id": "GDX2NpixRGFt",
        "outputId": "22280a94-9ddb-45ae-cb70-d9c29fcf9ead",
        "colab": {
          "base_uri": "https://localhost:8080/"
        }
      },
      "execution_count": 196,
      "outputs": [
        {
          "output_type": "stream",
          "name": "stdout",
          "text": [
            "0.4932 0.8049 0.7021 0.8774 0.9199 0.9385 0.9516 0.9585 0.9643 0.9663 0.9682 0.9702 0.9726 0.9746 0.9751 0.9761 0.977 0.9775 0.9785 0.9785 "
          ]
        }
      ]
    },
    {
      "cell_type": "code",
      "source": [
        "dls = fb.DataLoaders(dl, valid_dl)"
      ],
      "metadata": {
        "id": "C2Fmf3ojRaZO"
      },
      "execution_count": 197,
      "outputs": []
    },
    {
      "cell_type": "code",
      "source": [
        "learn = fb.Learner(\n",
        "    dls, \n",
        "    fb.nn.Linear(28*28, 1), \n",
        "    opt_func=fb.SGD,\n",
        "    loss_func=mnist_loss,\n",
        "    metrics=batch_accuracy\n",
        "    )"
      ],
      "metadata": {
        "id": "oMUeUSa9Rhfb"
      },
      "execution_count": 198,
      "outputs": []
    },
    {
      "cell_type": "code",
      "source": [
        "learn.fit(n_epoch=10, lr=lr)"
      ],
      "metadata": {
        "id": "t-Gt_oSXR0g7",
        "outputId": "e9f9c027-4a6d-4a39-8616-ce75f061f589",
        "colab": {
          "base_uri": "https://localhost:8080/",
          "height": 363
        }
      },
      "execution_count": 199,
      "outputs": [
        {
          "output_type": "display_data",
          "data": {
            "text/plain": [
              "<IPython.core.display.HTML object>"
            ],
            "text/html": [
              "\n",
              "<style>\n",
              "    /* Turns off some styling */\n",
              "    progress {\n",
              "        /* gets rid of default border in Firefox and Opera. */\n",
              "        border: none;\n",
              "        /* Needs to be in here for Safari polyfill so background images work as expected. */\n",
              "        background-size: auto;\n",
              "    }\n",
              "    progress:not([value]), progress:not([value])::-webkit-progress-bar {\n",
              "        background: repeating-linear-gradient(45deg, #7e7e7e, #7e7e7e 10px, #5c5c5c 10px, #5c5c5c 20px);\n",
              "    }\n",
              "    .progress-bar-interrupted, .progress-bar-interrupted::-webkit-progress-bar {\n",
              "        background: #F44336;\n",
              "    }\n",
              "</style>\n"
            ]
          },
          "metadata": {}
        },
        {
          "output_type": "display_data",
          "data": {
            "text/plain": [
              "<IPython.core.display.HTML object>"
            ],
            "text/html": [
              "<table border=\"1\" class=\"dataframe\">\n",
              "  <thead>\n",
              "    <tr style=\"text-align: left;\">\n",
              "      <th>epoch</th>\n",
              "      <th>train_loss</th>\n",
              "      <th>valid_loss</th>\n",
              "      <th>batch_accuracy</th>\n",
              "      <th>time</th>\n",
              "    </tr>\n",
              "  </thead>\n",
              "  <tbody>\n",
              "    <tr>\n",
              "      <td>0</td>\n",
              "      <td>0.636506</td>\n",
              "      <td>0.503543</td>\n",
              "      <td>0.495584</td>\n",
              "      <td>00:00</td>\n",
              "    </tr>\n",
              "    <tr>\n",
              "      <td>1</td>\n",
              "      <td>0.548989</td>\n",
              "      <td>0.183018</td>\n",
              "      <td>0.853288</td>\n",
              "      <td>00:00</td>\n",
              "    </tr>\n",
              "    <tr>\n",
              "      <td>2</td>\n",
              "      <td>0.200771</td>\n",
              "      <td>0.179606</td>\n",
              "      <td>0.839549</td>\n",
              "      <td>00:00</td>\n",
              "    </tr>\n",
              "    <tr>\n",
              "      <td>3</td>\n",
              "      <td>0.087262</td>\n",
              "      <td>0.104835</td>\n",
              "      <td>0.913641</td>\n",
              "      <td>00:00</td>\n",
              "    </tr>\n",
              "    <tr>\n",
              "      <td>4</td>\n",
              "      <td>0.045499</td>\n",
              "      <td>0.076751</td>\n",
              "      <td>0.934249</td>\n",
              "      <td>00:00</td>\n",
              "    </tr>\n",
              "    <tr>\n",
              "      <td>5</td>\n",
              "      <td>0.029254</td>\n",
              "      <td>0.061642</td>\n",
              "      <td>0.947498</td>\n",
              "      <td>00:00</td>\n",
              "    </tr>\n",
              "    <tr>\n",
              "      <td>6</td>\n",
              "      <td>0.022621</td>\n",
              "      <td>0.052213</td>\n",
              "      <td>0.955839</td>\n",
              "      <td>00:00</td>\n",
              "    </tr>\n",
              "    <tr>\n",
              "      <td>7</td>\n",
              "      <td>0.019702</td>\n",
              "      <td>0.045936</td>\n",
              "      <td>0.962218</td>\n",
              "      <td>00:00</td>\n",
              "    </tr>\n",
              "    <tr>\n",
              "      <td>8</td>\n",
              "      <td>0.018244</td>\n",
              "      <td>0.041524</td>\n",
              "      <td>0.965162</td>\n",
              "      <td>00:00</td>\n",
              "    </tr>\n",
              "    <tr>\n",
              "      <td>9</td>\n",
              "      <td>0.017383</td>\n",
              "      <td>0.038269</td>\n",
              "      <td>0.967615</td>\n",
              "      <td>00:00</td>\n",
              "    </tr>\n",
              "  </tbody>\n",
              "</table>"
            ]
          },
          "metadata": {}
        }
      ]
    },
    {
      "cell_type": "code",
      "source": [
        "w1 = init_params((28*28,30))\n",
        "b1 = init_params(30)\n",
        "w2 = init_params((30,1))\n",
        "b2 = init_params(1)"
      ],
      "metadata": {
        "id": "NGxT6TStW62F"
      },
      "execution_count": 200,
      "outputs": []
    },
    {
      "cell_type": "code",
      "source": [
        "\n",
        "def simple_net(xb):\n",
        "  res = xb @ w1 + b1\n",
        "  res = res.max(tensor(0.0))\n",
        "  res = res @ w2 + b2"
      ],
      "metadata": {
        "id": "RdT3buYuSpvU"
      },
      "execution_count": 201,
      "outputs": []
    },
    {
      "cell_type": "code",
      "source": [
        "fb.plot_function(fb.F.relu)"
      ],
      "metadata": {
        "id": "yV5uLrlsXOsJ",
        "outputId": "b7393a25-7aef-44db-b173-5fc0db4ddb82",
        "colab": {
          "base_uri": "https://localhost:8080/",
          "height": 268
        }
      },
      "execution_count": 204,
      "outputs": [
        {
          "output_type": "display_data",
          "data": {
            "text/plain": [
              "<Figure size 432x288 with 1 Axes>"
            ],
            "image/png": "[encoded data removed]"
          },
          "metadata": {
            "needs_background": "light"
          }
        }
      ]
    },
    {
      "cell_type": "code",
      "source": [
        "simple_net = fb.nn.Sequential(\n",
        "    fb.nn.Linear(28*28, 30),\n",
        "    fb.nn.ReLU(),\n",
        "    fb.nn.Linear(30,1)\n",
        ")"
      ],
      "metadata": {
        "id": "Vwu4SQQHYqjq"
      },
      "execution_count": 205,
      "outputs": []
    },
    {
      "cell_type": "code",
      "source": [
        "learn = fb.Learner(\n",
        "    dls,\n",
        "    simple_net,\n",
        "    opt_func=fb.SGD,\n",
        "    loss_func=mnist_loss,\n",
        "    metrics=batch_accuracy\n",
        ")"
      ],
      "metadata": {
        "id": "XaZ1viGlZByh"
      },
      "execution_count": 206,
      "outputs": []
    },
    {
      "cell_type": "code",
      "source": [
        "learn.fit(40, 0.1)"
      ],
      "metadata": {
        "id": "DyCBrSGiZKtG",
        "outputId": "8dc4ab70-8241-425c-99fe-1b31284999c5",
        "colab": {
          "base_uri": "https://localhost:8080/",
          "height": 1000
        }
      },
      "execution_count": 207,
      "outputs": [
        {
          "output_type": "display_data",
          "data": {
            "text/plain": [
              "<IPython.core.display.HTML object>"
            ],
            "text/html": [
              "\n",
              "<style>\n",
              "    /* Turns off some styling */\n",
              "    progress {\n",
              "        /* gets rid of default border in Firefox and Opera. */\n",
              "        border: none;\n",
              "        /* Needs to be in here for Safari polyfill so background images work as expected. */\n",
              "        background-size: auto;\n",
              "    }\n",
              "    progress:not([value]), progress:not([value])::-webkit-progress-bar {\n",
              "        background: repeating-linear-gradient(45deg, #7e7e7e, #7e7e7e 10px, #5c5c5c 10px, #5c5c5c 20px);\n",
              "    }\n",
              "    .progress-bar-interrupted, .progress-bar-interrupted::-webkit-progress-bar {\n",
              "        background: #F44336;\n",
              "    }\n",
              "</style>\n"
            ]
          },
          "metadata": {}
        },
        {
          "output_type": "display_data",
          "data": {
            "text/plain": [
              "<IPython.core.display.HTML object>"
            ],
            "text/html": [
              "<table border=\"1\" class=\"dataframe\">\n",
              "  <thead>\n",
              "    <tr style=\"text-align: left;\">\n",
              "      <th>epoch</th>\n",
              "      <th>train_loss</th>\n",
              "      <th>valid_loss</th>\n",
              "      <th>batch_accuracy</th>\n",
              "      <th>time</th>\n",
              "    </tr>\n",
              "  </thead>\n",
              "  <tbody>\n",
              "    <tr>\n",
              "      <td>0</td>\n",
              "      <td>0.306659</td>\n",
              "      <td>0.410070</td>\n",
              "      <td>0.505397</td>\n",
              "      <td>00:00</td>\n",
              "    </tr>\n",
              "    <tr>\n",
              "      <td>1</td>\n",
              "      <td>0.144975</td>\n",
              "      <td>0.226658</td>\n",
              "      <td>0.807164</td>\n",
              "      <td>00:00</td>\n",
              "    </tr>\n",
              "    <tr>\n",
              "      <td>2</td>\n",
              "      <td>0.080766</td>\n",
              "      <td>0.114193</td>\n",
              "      <td>0.915604</td>\n",
              "      <td>00:00</td>\n",
              "    </tr>\n",
              "    <tr>\n",
              "      <td>3</td>\n",
              "      <td>0.053350</td>\n",
              "      <td>0.077186</td>\n",
              "      <td>0.942100</td>\n",
              "      <td>00:00</td>\n",
              "    </tr>\n",
              "    <tr>\n",
              "      <td>4</td>\n",
              "      <td>0.040596</td>\n",
              "      <td>0.060300</td>\n",
              "      <td>0.957311</td>\n",
              "      <td>00:00</td>\n",
              "    </tr>\n",
              "    <tr>\n",
              "      <td>5</td>\n",
              "      <td>0.034051</td>\n",
              "      <td>0.050866</td>\n",
              "      <td>0.963690</td>\n",
              "      <td>00:00</td>\n",
              "    </tr>\n",
              "    <tr>\n",
              "      <td>6</td>\n",
              "      <td>0.030270</td>\n",
              "      <td>0.044942</td>\n",
              "      <td>0.966634</td>\n",
              "      <td>00:00</td>\n",
              "    </tr>\n",
              "    <tr>\n",
              "      <td>7</td>\n",
              "      <td>0.027800</td>\n",
              "      <td>0.040895</td>\n",
              "      <td>0.967125</td>\n",
              "      <td>00:00</td>\n",
              "    </tr>\n",
              "    <tr>\n",
              "      <td>8</td>\n",
              "      <td>0.026013</td>\n",
              "      <td>0.037951</td>\n",
              "      <td>0.969578</td>\n",
              "      <td>00:00</td>\n",
              "    </tr>\n",
              "    <tr>\n",
              "      <td>9</td>\n",
              "      <td>0.024623</td>\n",
              "      <td>0.035701</td>\n",
              "      <td>0.970069</td>\n",
              "      <td>00:00</td>\n",
              "    </tr>\n",
              "    <tr>\n",
              "      <td>10</td>\n",
              "      <td>0.023494</td>\n",
              "      <td>0.033909</td>\n",
              "      <td>0.972522</td>\n",
              "      <td>00:00</td>\n",
              "    </tr>\n",
              "    <tr>\n",
              "      <td>11</td>\n",
              "      <td>0.022548</td>\n",
              "      <td>0.032439</td>\n",
              "      <td>0.973013</td>\n",
              "      <td>00:00</td>\n",
              "    </tr>\n",
              "    <tr>\n",
              "      <td>12</td>\n",
              "      <td>0.021742</td>\n",
              "      <td>0.031201</td>\n",
              "      <td>0.974975</td>\n",
              "      <td>00:00</td>\n",
              "    </tr>\n",
              "    <tr>\n",
              "      <td>13</td>\n",
              "      <td>0.021044</td>\n",
              "      <td>0.030133</td>\n",
              "      <td>0.975466</td>\n",
              "      <td>00:00</td>\n",
              "    </tr>\n",
              "    <tr>\n",
              "      <td>14</td>\n",
              "      <td>0.020430</td>\n",
              "      <td>0.029203</td>\n",
              "      <td>0.974975</td>\n",
              "      <td>00:00</td>\n",
              "    </tr>\n",
              "    <tr>\n",
              "      <td>15</td>\n",
              "      <td>0.019886</td>\n",
              "      <td>0.028383</td>\n",
              "      <td>0.975957</td>\n",
              "      <td>00:00</td>\n",
              "    </tr>\n",
              "    <tr>\n",
              "      <td>16</td>\n",
              "      <td>0.019400</td>\n",
              "      <td>0.027649</td>\n",
              "      <td>0.977429</td>\n",
              "      <td>00:00</td>\n",
              "    </tr>\n",
              "    <tr>\n",
              "      <td>17</td>\n",
              "      <td>0.018959</td>\n",
              "      <td>0.026992</td>\n",
              "      <td>0.977429</td>\n",
              "      <td>00:00</td>\n",
              "    </tr>\n",
              "    <tr>\n",
              "      <td>18</td>\n",
              "      <td>0.018559</td>\n",
              "      <td>0.026397</td>\n",
              "      <td>0.977920</td>\n",
              "      <td>00:00</td>\n",
              "    </tr>\n",
              "    <tr>\n",
              "      <td>19</td>\n",
              "      <td>0.018192</td>\n",
              "      <td>0.025858</td>\n",
              "      <td>0.978901</td>\n",
              "      <td>00:00</td>\n",
              "    </tr>\n",
              "    <tr>\n",
              "      <td>20</td>\n",
              "      <td>0.017853</td>\n",
              "      <td>0.025368</td>\n",
              "      <td>0.978901</td>\n",
              "      <td>00:00</td>\n",
              "    </tr>\n",
              "    <tr>\n",
              "      <td>21</td>\n",
              "      <td>0.017541</td>\n",
              "      <td>0.024918</td>\n",
              "      <td>0.979882</td>\n",
              "      <td>00:00</td>\n",
              "    </tr>\n",
              "    <tr>\n",
              "      <td>22</td>\n",
              "      <td>0.017250</td>\n",
              "      <td>0.024505</td>\n",
              "      <td>0.979882</td>\n",
              "      <td>00:00</td>\n",
              "    </tr>\n",
              "    <tr>\n",
              "      <td>23</td>\n",
              "      <td>0.016979</td>\n",
              "      <td>0.024124</td>\n",
              "      <td>0.980373</td>\n",
              "      <td>00:00</td>\n",
              "    </tr>\n",
              "    <tr>\n",
              "      <td>24</td>\n",
              "      <td>0.016725</td>\n",
              "      <td>0.023772</td>\n",
              "      <td>0.980373</td>\n",
              "      <td>00:00</td>\n",
              "    </tr>\n",
              "    <tr>\n",
              "      <td>25</td>\n",
              "      <td>0.016487</td>\n",
              "      <td>0.023446</td>\n",
              "      <td>0.980864</td>\n",
              "      <td>00:00</td>\n",
              "    </tr>\n",
              "    <tr>\n",
              "      <td>26</td>\n",
              "      <td>0.016262</td>\n",
              "      <td>0.023143</td>\n",
              "      <td>0.980864</td>\n",
              "      <td>00:00</td>\n",
              "    </tr>\n",
              "    <tr>\n",
              "      <td>27</td>\n",
              "      <td>0.016050</td>\n",
              "      <td>0.022862</td>\n",
              "      <td>0.980864</td>\n",
              "      <td>00:00</td>\n",
              "    </tr>\n",
              "    <tr>\n",
              "      <td>28</td>\n",
              "      <td>0.015848</td>\n",
              "      <td>0.022600</td>\n",
              "      <td>0.981354</td>\n",
              "      <td>00:00</td>\n",
              "    </tr>\n",
              "    <tr>\n",
              "      <td>29</td>\n",
              "      <td>0.015657</td>\n",
              "      <td>0.022355</td>\n",
              "      <td>0.981845</td>\n",
              "      <td>00:00</td>\n",
              "    </tr>\n",
              "    <tr>\n",
              "      <td>30</td>\n",
              "      <td>0.015475</td>\n",
              "      <td>0.022126</td>\n",
              "      <td>0.981845</td>\n",
              "      <td>00:00</td>\n",
              "    </tr>\n",
              "    <tr>\n",
              "      <td>31</td>\n",
              "      <td>0.015302</td>\n",
              "      <td>0.021911</td>\n",
              "      <td>0.981845</td>\n",
              "      <td>00:00</td>\n",
              "    </tr>\n",
              "    <tr>\n",
              "      <td>32</td>\n",
              "      <td>0.015137</td>\n",
              "      <td>0.021710</td>\n",
              "      <td>0.982336</td>\n",
              "      <td>00:00</td>\n",
              "    </tr>\n",
              "    <tr>\n",
              "      <td>33</td>\n",
              "      <td>0.014979</td>\n",
              "      <td>0.021521</td>\n",
              "      <td>0.982336</td>\n",
              "      <td>00:00</td>\n",
              "    </tr>\n",
              "    <tr>\n",
              "      <td>34</td>\n",
              "      <td>0.014827</td>\n",
              "      <td>0.021343</td>\n",
              "      <td>0.982826</td>\n",
              "      <td>00:00</td>\n",
              "    </tr>\n",
              "    <tr>\n",
              "      <td>35</td>\n",
              "      <td>0.014682</td>\n",
              "      <td>0.021175</td>\n",
              "      <td>0.983317</td>\n",
              "      <td>00:00</td>\n",
              "    </tr>\n",
              "    <tr>\n",
              "      <td>36</td>\n",
              "      <td>0.014542</td>\n",
              "      <td>0.021017</td>\n",
              "      <td>0.983317</td>\n",
              "      <td>00:00</td>\n",
              "    </tr>\n",
              "    <tr>\n",
              "      <td>37</td>\n",
              "      <td>0.014407</td>\n",
              "      <td>0.020866</td>\n",
              "      <td>0.982826</td>\n",
              "      <td>00:00</td>\n",
              "    </tr>\n",
              "    <tr>\n",
              "      <td>38</td>\n",
              "      <td>0.014277</td>\n",
              "      <td>0.020724</td>\n",
              "      <td>0.982336</td>\n",
              "      <td>00:00</td>\n",
              "    </tr>\n",
              "    <tr>\n",
              "      <td>39</td>\n",
              "      <td>0.014151</td>\n",
              "      <td>0.020588</td>\n",
              "      <td>0.982336</td>\n",
              "      <td>00:00</td>\n",
              "    </tr>\n",
              "  </tbody>\n",
              "</table>"
            ]
          },
          "metadata": {}
        }
      ]
    },
    {
      "cell_type": "code",
      "source": [
        "fb.plt.plot(fb.L(learn.recorder.values).itemgot(2))"
      ],
      "metadata": {
        "id": "ZxP1syLlZV7L",
        "outputId": "12d60d3b-6dc9-424a-b381-e582e4d36e96",
        "colab": {
          "base_uri": "https://localhost:8080/",
          "height": 287
        }
      },
      "execution_count": 208,
      "outputs": [
        {
          "output_type": "execute_result",
          "data": {
            "text/plain": [
              "[<matplotlib.lines.Line2D at 0x7f53b73e7b10>]"
            ]
          },
          "metadata": {},
          "execution_count": 208
        },
        {
          "output_type": "display_data",
          "data": {
            "text/plain": [
              "<Figure size 432x288 with 1 Axes>"
            ],
            "image/png": "[encoded data removed]"
          },
          "metadata": {
            "needs_background": "light"
          }
        }
      ]
    },
    {
      "cell_type": "code",
      "source": [
        "learn.recorder.values[-1][2]"
      ],
      "metadata": {
        "id": "Nd2mWJF1ZdG1",
        "outputId": "feb2c57f-f34a-4453-e52a-ce31f75af577",
        "colab": {
          "base_uri": "https://localhost:8080/"
        }
      },
      "execution_count": 209,
      "outputs": [
        {
          "output_type": "execute_result",
          "data": {
            "text/plain": [
              "0.98233562707901"
            ]
          },
          "metadata": {},
          "execution_count": 209
        }
      ]
    },
    {
      "cell_type": "code",
      "source": [
        "dls = fb.ImageDataLoaders.from_folder(path)\n",
        "learn = vision_learner(\n",
        "    dls,\n",
        "    fb.resnet18,\n",
        "    pretrained=False,\n",
        "    loss_func=fb.F.cross_entropy,\n",
        "    metrics=fb.accuracy\n",
        ")\n",
        "learn.fit_one_cycle(1, 0.1)"
      ],
      "metadata": {
        "id": "HkL8O3A0aBR5",
        "outputId": "799fc711-510f-477a-d98f-3c17a866e6cb",
        "colab": {
          "base_uri": "https://localhost:8080/",
          "height": 170
        }
      },
      "execution_count": 211,
      "outputs": [
        {
          "output_type": "stream",
          "name": "stderr",
          "text": [
            "/usr/local/lib/python3.7/dist-packages/torchvision/models/_utils.py:209: UserWarning: The parameter 'pretrained' is deprecated since 0.13 and will be removed in 0.15, please use 'weights' instead.\n",
            "  f\"The parameter '{pretrained_param}' is deprecated since 0.13 and will be removed in 0.15, \"\n",
            "/usr/local/lib/python3.7/dist-packages/torchvision/models/_utils.py:223: UserWarning: Arguments other than a weight enum or `None` for 'weights' are deprecated since 0.13 and will be removed in 0.15. The current behavior is equivalent to passing `weights=None`.\n",
            "  warnings.warn(msg)\n"
          ]
        },
        {
          "output_type": "display_data",
          "data": {
            "text/plain": [
              "<IPython.core.display.HTML object>"
            ],
            "text/html": [
              "\n",
              "<style>\n",
              "    /* Turns off some styling */\n",
              "    progress {\n",
              "        /* gets rid of default border in Firefox and Opera. */\n",
              "        border: none;\n",
              "        /* Needs to be in here for Safari polyfill so background images work as expected. */\n",
              "        background-size: auto;\n",
              "    }\n",
              "    progress:not([value]), progress:not([value])::-webkit-progress-bar {\n",
              "        background: repeating-linear-gradient(45deg, #7e7e7e, #7e7e7e 10px, #5c5c5c 10px, #5c5c5c 20px);\n",
              "    }\n",
              "    .progress-bar-interrupted, .progress-bar-interrupted::-webkit-progress-bar {\n",
              "        background: #F44336;\n",
              "    }\n",
              "</style>\n"
            ]
          },
          "metadata": {}
        },
        {
          "output_type": "display_data",
          "data": {
            "text/plain": [
              "<IPython.core.display.HTML object>"
            ],
            "text/html": [
              "<table border=\"1\" class=\"dataframe\">\n",
              "  <thead>\n",
              "    <tr style=\"text-align: left;\">\n",
              "      <th>epoch</th>\n",
              "      <th>train_loss</th>\n",
              "      <th>valid_loss</th>\n",
              "      <th>accuracy</th>\n",
              "      <th>time</th>\n",
              "    </tr>\n",
              "  </thead>\n",
              "  <tbody>\n",
              "    <tr>\n",
              "      <td>0</td>\n",
              "      <td>0.164012</td>\n",
              "      <td>0.066411</td>\n",
              "      <td>0.992640</td>\n",
              "      <td>02:54</td>\n",
              "    </tr>\n",
              "  </tbody>\n",
              "</table>"
            ]
          },
          "metadata": {}
        }
      ]
    }
  ],
  "metadata": {
    "kernelspec": {
      "display_name": "Python 3.10.4 ('fastai-uKESdbPE')",
      "language": "python",
      "name": "python3"
    },
    "language_info": {
      "codemirror_mode": {
        "name": "ipython",
        "version": 3
      },
      "file_extension": ".py",
      "mimetype": "text/x-python",
      "name": "python",
      "nbconvert_exporter": "python",
      "pygments_lexer": "ipython3",
      "version": "3.10.4"
    },
    "orig_nbformat": 4,
    "vscode": {
      "interpreter": {
        "hash": "050288d2022be8e25d7db2f9d2405199cd5d2e1ec843906d908c1bea0a5fcd45"
      }
    },
    "colab": {
      "name": "mnist.ipynb",
      "provenance": []
    }
  },
  "nbformat": 4,
  "nbformat_minor": 0
}