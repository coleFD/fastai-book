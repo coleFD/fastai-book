{
 "cells": [
  {
   "cell_type": "code",
   "execution_count": null,
   "metadata": {},
   "outputs": [],
   "source": [
    "from google.colab import files\n",
    "\n",
    "uploaded = files.upload()"
   ]
  },
  {
   "cell_type": "code",
   "execution_count": null,
   "metadata": {},
   "outputs": [],
   "source": [
    "import os\n",
    "import json\n",
    "from fastbook import search_images_bing, download_url\n",
    "\n",
    "if uploaded:\n",
    "  api_key = json.loads(uploaded.get('colab_keys.json')).get('AZURE_API_KEY')\n",
    "else:\n",
    "  api_key = os.environ.get(\"AZURE_API_KEY\", 'XXX')\n"
   ]
  }
 ],
 "metadata": {
  "kernelspec": {
   "display_name": "Python 3.10.4 ('fastai-uKESdbPE')",
   "language": "python",
   "name": "python3"
  },
  "language_info": {
   "codemirror_mode": {
    "name": "ipython",
    "version": 3
   },
   "file_extension": ".py",
   "mimetype": "text/x-python",
   "name": "python",
   "nbconvert_exporter": "python",
   "pygments_lexer": "ipython3",
   "version": "3.10.4"
  },
  "orig_nbformat": 4,
  "vscode": {
   "interpreter": {
    "hash": "050288d2022be8e25d7db2f9d2405199cd5d2e1ec843906d908c1bea0a5fcd45"
   }
  }
 },
 "nbformat": 4,
 "nbformat_minor": 2
}
