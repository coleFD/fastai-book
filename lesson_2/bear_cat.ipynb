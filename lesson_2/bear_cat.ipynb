{
 "cells": [
  {
   "cell_type": "code",
   "execution_count": null,
   "metadata": {},
   "outputs": [],
   "source": [
    "import os\n",
    "from fastbook import search_images_bing, download_url\n",
    "\n",
    "api_key = os.environ.get(\"AZURE_API_KEY\", 'XXX')\n",
    "api_key"
   ]
  },
  {
   "cell_type": "code",
   "execution_count": null,
   "metadata": {},
   "outputs": [],
   "source": [
    "from fastbook import Path, download_images, get_image_files\n",
    "\n",
    "bear_types = ['grizzly', 'black', 'teddy']\n",
    "path = Path('bears')\n",
    "\n",
    "if not path.exists():\n",
    "    path.mkdir()\n",
    "    for o in bear_types:\n",
    "        dest = (path/o)\n",
    "        dest.mkdir(exist_ok=True)\n",
    "        results = search_images_bing(api_key, f'{o} bear')\n",
    "        download_images(dest, urls=results.attrgot('contentUrl'))"
   ]
  },
  {
   "cell_type": "code",
   "execution_count": null,
   "metadata": {},
   "outputs": [],
   "source": [
    "import fastbook\n",
    "fns = get_image_files(path)\n",
    "failed = fastbook.verify_images(fns)\n",
    "failed.map(Path.unlink)"
   ]
  },
  {
   "cell_type": "code",
   "execution_count": null,
   "metadata": {},
   "outputs": [],
   "source": [
    "import fastbook\n",
    "\n",
    "bears = fastbook.DataBlock(\n",
    "    blocks = (fastbook.ImageBlock, fastbook.CategoryBlock),\n",
    "    get_items=fastbook.get_image_files,\n",
    "    splitter=fastbook.RandomSplitter(valid_pct=0.2, seed=42),\n",
    "    get_y=fastbook.parent_label,\n",
    "    item_tfms=fastbook.Resize(128, fastbook.ResizeMethod.Pad, pad_mode='zeros')\n",
    ")"
   ]
  },
  {
   "cell_type": "code",
   "execution_count": null,
   "metadata": {},
   "outputs": [],
   "source": [
    "dls = bears.dataloaders(path)\n",
    "dls.valid.show_batch(max_n=4, nrows=1)"
   ]
  },
  {
   "cell_type": "code",
   "execution_count": null,
   "metadata": {},
   "outputs": [],
   "source": [
    "bears = bears.new(item_tfms=fastbook.RandomResizedCrop(128, min_scale=0.3))\n",
    "dls = bears.dataloaders(path)\n",
    "dls.train.show_batch(max_n=4, nrows=1, unique=True)"
   ]
  },
  {
   "cell_type": "code",
   "execution_count": null,
   "metadata": {},
   "outputs": [],
   "source": [
    "bears = bears.new(item_tfms=fastbook.Resize(128), batch_tfms=fastbook.aug_transforms(mult=2))\n",
    "dls = bears.dataloaders(path)\n",
    "dls.train.show_batch(max_n=8, nrows=2, unique=True)"
   ]
  },
  {
   "cell_type": "code",
   "execution_count": null,
   "metadata": {},
   "outputs": [],
   "source": [
    "path = fastbook.Path('bears')\n",
    "bears = bears.new(\n",
    "    item_tfms=fastbook.RandomResizedCrop(224, min_scale=0.5),\n",
    "    batch_tfms=fastbook.aug_transforms())\n",
    "dls = bears.dataloaders(path)\n"
   ]
  },
  {
   "cell_type": "code",
   "execution_count": null,
   "metadata": {},
   "outputs": [],
   "source": [
    "learn = fastbook.vision_learner(dls, fastbook.resnet18, metrics=fastbook.error_rate)\n",
    "learn.fine_tune(4)"
   ]
  },
  {
   "cell_type": "code",
   "execution_count": null,
   "metadata": {},
   "outputs": [],
   "source": [
    "interp = fastbook.ClassificationInterpretation.from_learner(learn)\n",
    "interp.plot_top_losses(5, nrows=1)"
   ]
  },
  {
   "cell_type": "code",
   "execution_count": null,
   "metadata": {},
   "outputs": [],
   "source": [
    "\n",
    "from fastai.vision.widgets import ImageClassifierCleaner\n",
    "\n",
    "\n",
    "cleaner = ImageClassifierCleaner(learn)\n",
    "cleaner"
   ]
  }
 ],
 "metadata": {
  "kernelspec": {
   "display_name": "Python 3.10.4 ('fastai-uKESdbPE')",
   "language": "python",
   "name": "python3"
  },
  "language_info": {
   "codemirror_mode": {
    "name": "ipython",
    "version": 3
   },
   "file_extension": ".py",
   "mimetype": "text/x-python",
   "name": "python",
   "nbconvert_exporter": "python",
   "pygments_lexer": "ipython3",
   "version": "3.10.4"
  },
  "orig_nbformat": 4,
  "vscode": {
   "interpreter": {
    "hash": "050288d2022be8e25d7db2f9d2405199cd5d2e1ec843906d908c1bea0a5fcd45"
   }
  }
 },
 "nbformat": 4,
 "nbformat_minor": 2
}
