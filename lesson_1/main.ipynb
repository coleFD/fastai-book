{
 "cells": [
  {
   "cell_type": "code",
   "execution_count": null,
   "metadata": {},
   "outputs": [],
   "source": [
    "from fastcore.all import *\n",
    "import time\n",
    "def search_images(term, max_images=200):\n",
    "    url = 'https://duckduckgo.com/'\n",
    "    res = urlread(url, data={'q': term})\n",
    "    searchObj = re.search(r'vqd=([\\d-]+)\\&', res)\n",
    "    requestUrl = url + 'i.js'\n",
    "    params = dict(l='us-en', o='json', q=term, vqd=searchObj.group(1), f=',,,', p='1', v7exp='a')\n",
    "    urls, data = set(), {'next': 1}\n",
    "    while len(urls)<max_images and 'next' in data:\n",
    "        data = urljson(requestUrl, data=params)\n",
    "        urls.update(L(data['results']).itemgot('image'))\n",
    "        requestUrl = url + data['next']\n",
    "        time.sleep(0.2)\n",
    "\n",
    "    return L(urls)[:max_images]"
   ]
  },
  {
   "cell_type": "code",
   "execution_count": null,
   "metadata": {},
   "outputs": [],
   "source": [
    "\n",
    "urls = search_images('elephant photos', max_images=10)\n",
    "urls[0]"
   ]
  },
  {
   "cell_type": "code",
   "execution_count": null,
   "metadata": {},
   "outputs": [],
   "source": [
    "from fastdownload import download_url\n",
    "dest = 'bird.jpg'\n",
    "download_url(urls[0], dest, show_progress=False)\n",
    "\n",
    "from fastai.vision.all import *\n",
    "im = Image.open(dest)\n",
    "im.to_thumb(256, 256)"
   ]
  }
 ],
 "metadata": {
  "kernelspec": {
   "display_name": "Python 3.10.4 ('fastai-uKESdbPE')",
   "language": "python",
   "name": "python3"
  },
  "language_info": {
   "codemirror_mode": {
    "name": "ipython",
    "version": 3
   },
   "file_extension": ".py",
   "mimetype": "text/x-python",
   "name": "python",
   "nbconvert_exporter": "python",
   "pygments_lexer": "ipython3",
   "version": "3.10.4"
  },
  "orig_nbformat": 4,
  "vscode": {
   "interpreter": {
    "hash": "050288d2022be8e25d7db2f9d2405199cd5d2e1ec843906d908c1bea0a5fcd45"
   }
  }
 },
 "nbformat": 4,
 "nbformat_minor": 2
}
