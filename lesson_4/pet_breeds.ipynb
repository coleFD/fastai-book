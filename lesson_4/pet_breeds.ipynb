{
 "cells": [
  {
   "cell_type": "code",
   "execution_count": null,
   "metadata": {},
   "outputs": [],
   "source": [
    "! [ -e /content ] && pip install -Uqq fastbook\n"
   ]
  },
  {
   "cell_type": "code",
   "execution_count": null,
   "metadata": {},
   "outputs": [],
   "source": [
    "from google.colab import files\n",
    "\n",
    "uploaded = files.upload()"
   ]
  },
  {
   "cell_type": "code",
   "execution_count": null,
   "metadata": {},
   "outputs": [],
   "source": [
    "import os\n",
    "import json\n",
    "from fastbook import search_images_bing, download_url\n",
    "\n",
    "if uploaded:\n",
    "  api_key = json.loads(uploaded.get('colab_keys.json')).get('AZURE_API_KEY')\n",
    "else:\n",
    "  api_key = os.environ.get(\"AZURE_API_KEY\", 'XXX')\n"
   ]
  },
  {
   "cell_type": "code",
   "execution_count": null,
   "metadata": {},
   "outputs": [],
   "source": [
    "from fastai.vision.all import *\n",
    "import fastbook as fb"
   ]
  }
 ],
 "metadata": {
  "kernelspec": {
   "display_name": "Python 3.10.4 ('fastai-uKESdbPE')",
   "language": "python",
   "name": "python3"
  },
  "language_info": {
   "name": "python",
   "version": "3.10.4"
  },
  "orig_nbformat": 4,
  "vscode": {
   "interpreter": {
    "hash": "050288d2022be8e25d7db2f9d2405199cd5d2e1ec843906d908c1bea0a5fcd45"
   }
  }
 },
 "nbformat": 4,
 "nbformat_minor": 2
}
